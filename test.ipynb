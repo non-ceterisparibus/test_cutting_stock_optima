{
 "cells": [
  {
   "cell_type": "code",
   "execution_count": 3,
   "metadata": {},
   "outputs": [],
   "source": [
    "#TEST\n",
    "import pandas as pd \n",
    "import numpy as np\n",
    "import warnings\n",
    "import time\n",
    "import math\n",
    "# import cvxpy as cp\n",
    "from ortools.linear_solver import pywraplp\n",
    "warnings.filterwarnings('ignore')"
   ]
  },
  {
   "cell_type": "code",
   "execution_count": 1,
   "metadata": {},
   "outputs": [],
   "source": [
    "## HYPERPARAMETER\n",
    "stock_name = 'HSC'\t\n",
    "Thickness = 2.6\n",
    "Spec =  'JSH270C-PO'  "
   ]
  },
  {
   "cell_type": "code",
   "execution_count": 4,
   "metadata": {},
   "outputs": [],
   "source": [
    "df_po = pd.read_excel(\"data/test_cases.xlsx\", sheet_name= 'PO')\n",
    "df_st = pd.read_excel(\"data/test_cases.xlsx\", sheet_name= 'MC') # mother coild\n",
    "\n",
    "from codes.process_data import *\n",
    "\n",
    "df_po['Stock_Name'] = 'HSC'\n",
    "po_data_raw = get_po_data(df_po,Thickness,Spec,stock_name)\n",
    "stock_data_raw = get_stock_data(df_st,Thickness,Spec)"
   ]
  },
  {
   "cell_type": "code",
   "execution_count": 5,
   "metadata": {},
   "outputs": [
    {
     "data": {
      "text/html": [
       "<div>\n",
       "<style scoped>\n",
       "    .dataframe tbody tr th:only-of-type {\n",
       "        vertical-align: middle;\n",
       "    }\n",
       "\n",
       "    .dataframe tbody tr th {\n",
       "        vertical-align: top;\n",
       "    }\n",
       "\n",
       "    .dataframe thead th {\n",
       "        text-align: right;\n",
       "    }\n",
       "</style>\n",
       "<table border=\"1\" class=\"dataframe\">\n",
       "  <thead>\n",
       "    <tr style=\"text-align: right;\">\n",
       "      <th></th>\n",
       "      <th>Inventory_ID</th>\n",
       "      <th>Spec_Name</th>\n",
       "      <th>Thickness</th>\n",
       "      <th>Width</th>\n",
       "      <th>Length</th>\n",
       "      <th>Weigth</th>\n",
       "    </tr>\n",
       "  </thead>\n",
       "  <tbody>\n",
       "    <tr>\n",
       "      <th>0</th>\n",
       "      <td>TP235H001943</td>\n",
       "      <td>JSH270C-PO</td>\n",
       "      <td>2.6</td>\n",
       "      <td>1219</td>\n",
       "      <td>0</td>\n",
       "      <td>400.0</td>\n",
       "    </tr>\n",
       "    <tr>\n",
       "      <th>1</th>\n",
       "      <td>HTV1363/23</td>\n",
       "      <td>JSH270C-PO</td>\n",
       "      <td>2.6</td>\n",
       "      <td>1219</td>\n",
       "      <td>0</td>\n",
       "      <td>4000.0</td>\n",
       "    </tr>\n",
       "    <tr>\n",
       "      <th>2</th>\n",
       "      <td>HTV0828/23-D1</td>\n",
       "      <td>JSH270C-PO</td>\n",
       "      <td>2.6</td>\n",
       "      <td>1108</td>\n",
       "      <td>0</td>\n",
       "      <td>4266.0</td>\n",
       "    </tr>\n",
       "    <tr>\n",
       "      <th>3</th>\n",
       "      <td>HTV0895/23</td>\n",
       "      <td>JSH270C-PO</td>\n",
       "      <td>2.6</td>\n",
       "      <td>1219</td>\n",
       "      <td>0</td>\n",
       "      <td>5350.0</td>\n",
       "    </tr>\n",
       "  </tbody>\n",
       "</table>\n",
       "</div>"
      ],
      "text/plain": [
       "    Inventory_ID   Spec_Name  Thickness  Width  Length  Weigth\n",
       "0   TP235H001943  JSH270C-PO        2.6   1219       0   400.0\n",
       "1     HTV1363/23  JSH270C-PO        2.6   1219       0  4000.0\n",
       "2  HTV0828/23-D1  JSH270C-PO        2.6   1108       0  4266.0\n",
       "3     HTV0895/23  JSH270C-PO        2.6   1219       0  5350.0"
      ]
     },
     "execution_count": 5,
     "metadata": {},
     "output_type": "execute_result"
    }
   ],
   "source": [
    "stock_data_raw"
   ]
  },
  {
   "cell_type": "code",
   "execution_count": 11,
   "metadata": {},
   "outputs": [
    {
     "data": {
      "text/html": [
       "<div>\n",
       "<style scoped>\n",
       "    .dataframe tbody tr th:only-of-type {\n",
       "        vertical-align: middle;\n",
       "    }\n",
       "\n",
       "    .dataframe tbody tr th {\n",
       "        vertical-align: top;\n",
       "    }\n",
       "\n",
       "    .dataframe thead th {\n",
       "        text-align: right;\n",
       "    }\n",
       "</style>\n",
       "<table border=\"1\" class=\"dataframe\">\n",
       "  <thead>\n",
       "    <tr style=\"text-align: right;\">\n",
       "      <th></th>\n",
       "      <th>Spec_Name</th>\n",
       "      <th>Thickness</th>\n",
       "      <th>Width</th>\n",
       "      <th>Need_Cut</th>\n",
       "      <th>fc1</th>\n",
       "    </tr>\n",
       "  </thead>\n",
       "  <tbody>\n",
       "    <tr>\n",
       "      <th>0</th>\n",
       "      <td>JSH270C-PO</td>\n",
       "      <td>2.6</td>\n",
       "      <td>220.0</td>\n",
       "      <td>-4247.0</td>\n",
       "      <td>22574.031480</td>\n",
       "    </tr>\n",
       "    <tr>\n",
       "      <th>1</th>\n",
       "      <td>JSH270C-PO</td>\n",
       "      <td>2.6</td>\n",
       "      <td>145.0</td>\n",
       "      <td>-1895.0</td>\n",
       "      <td>4559.920560</td>\n",
       "    </tr>\n",
       "    <tr>\n",
       "      <th>2</th>\n",
       "      <td>JSH270C-PO</td>\n",
       "      <td>2.6</td>\n",
       "      <td>106.0</td>\n",
       "      <td>-1414.0</td>\n",
       "      <td>10417.059900</td>\n",
       "    </tr>\n",
       "    <tr>\n",
       "      <th>3</th>\n",
       "      <td>JSH270C-PO</td>\n",
       "      <td>2.6</td>\n",
       "      <td>150.0</td>\n",
       "      <td>-788.0</td>\n",
       "      <td>4618.885050</td>\n",
       "    </tr>\n",
       "    <tr>\n",
       "      <th>4</th>\n",
       "      <td>JSH270C-PO</td>\n",
       "      <td>2.6</td>\n",
       "      <td>70.0</td>\n",
       "      <td>-515.0</td>\n",
       "      <td>669.131645</td>\n",
       "    </tr>\n",
       "    <tr>\n",
       "      <th>5</th>\n",
       "      <td>JSH270C-PO</td>\n",
       "      <td>2.6</td>\n",
       "      <td>52.0</td>\n",
       "      <td>-400.0</td>\n",
       "      <td>0.000000</td>\n",
       "    </tr>\n",
       "    <tr>\n",
       "      <th>6</th>\n",
       "      <td>JSH270C-PO</td>\n",
       "      <td>2.6</td>\n",
       "      <td>72.0</td>\n",
       "      <td>-200.0</td>\n",
       "      <td>912.258967</td>\n",
       "    </tr>\n",
       "  </tbody>\n",
       "</table>\n",
       "</div>"
      ],
      "text/plain": [
       "    Spec_Name  Thickness  Width  Need_Cut           fc1\n",
       "0  JSH270C-PO        2.6  220.0   -4247.0  22574.031480\n",
       "1  JSH270C-PO        2.6  145.0   -1895.0   4559.920560\n",
       "2  JSH270C-PO        2.6  106.0   -1414.0  10417.059900\n",
       "3  JSH270C-PO        2.6  150.0    -788.0   4618.885050\n",
       "4  JSH270C-PO        2.6   70.0    -515.0    669.131645\n",
       "5  JSH270C-PO        2.6   52.0    -400.0      0.000000\n",
       "6  JSH270C-PO        2.6   72.0    -200.0    912.258967"
      ]
     },
     "execution_count": 11,
     "metadata": {},
     "output_type": "execute_result"
    }
   ],
   "source": [
    "finished = po_data_raw[['Spec_Name', 'Thickness', 'Width','Need_Cut','T10/23']]\n",
    "finished.rename(columns={'T10/23':\"fc1\"},inplace=True)\n",
    "finished_df = finished[finished['Need_Cut']<-100]\n",
    "finished_df"
   ]
  },
  {
   "cell_type": "code",
   "execution_count": null,
   "metadata": {},
   "outputs": [],
   "source": []
  },
  {
   "cell_type": "code",
   "execution_count": 20,
   "metadata": {},
   "outputs": [],
   "source": [
    "# sample_po = po_data_raw.head(10)\n",
    "# sample_po.to_pickle(\"data/sample_po.pkl\")\n",
    "\n",
    "# stock_data_raw.to_pickle(\"data/sample_coils_instock.pkl\")"
   ]
  },
  {
   "cell_type": "markdown",
   "metadata": {},
   "source": [
    "# Problem Statement\n",
    "Pick which and how many Mother Coil for these POs"
   ]
  }
 ],
 "metadata": {
  "kernelspec": {
   "display_name": "optima",
   "language": "python",
   "name": "python3"
  },
  "language_info": {
   "codemirror_mode": {
    "name": "ipython",
    "version": 3
   },
   "file_extension": ".py",
   "mimetype": "text/x-python",
   "name": "python",
   "nbconvert_exporter": "python",
   "pygments_lexer": "ipython3",
   "version": "3.12.2"
  }
 },
 "nbformat": 4,
 "nbformat_minor": 2
}
