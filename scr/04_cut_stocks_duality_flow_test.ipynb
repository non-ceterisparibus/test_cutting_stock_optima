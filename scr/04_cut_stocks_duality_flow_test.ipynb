{
 "cells": [
  {
   "cell_type": "markdown",
   "metadata": {},
   "source": [
    "# FLow with Multiple Stocks - Duality\n",
    "\n",
    "In this nb, we solve the cutting optima problem with big order quantity to cut many specs at the same time with many stocks ( stock with same width and nearly same weight)\n",
    "The condition/constraints as below: \n",
    "- `Generate Pattern` that fit in stock choice and sum each FG cut > lower bound demand\n",
    "- `Filter Pattern` that keep the trim_cost <= 4%\n",
    "- `Cut Pattern` that cut many stocks with filtered_pattern to minimize the stocks used\n",
    "\n",
    "## >> load configs and params"
   ]
  },
  {
   "cell_type": "code",
   "execution_count": 1,
   "metadata": {},
   "outputs": [
    {
     "name": "stdout",
     "output_type": "stream",
     "text": [
      "MIN_MARGIN:6\n",
      "BOUND_VALUE:None\n"
     ]
    }
   ],
   "source": [
    "## PARAMETER \n",
    "PARAMS = {\"warehouse\": \"HSC\"\n",
    "          ,\"spec_name\": \"JSH590R-PO\" # yeu cau chuan hoa du lieu OP - PO\n",
    "          ,\"thickness\": 2\n",
    "          ,\"maker\" : \"CSC\"\n",
    "          ,\"stock_ratio\": { #get from app \n",
    "                    \"limited\": None\n",
    "                    # \"default\": 2          ->>>> OPERATOR FLOW\n",
    "                    # \"user_setting\": 4\n",
    "                }\n",
    "        #   ,\"forecast_scenario\": median\n",
    "          }\n",
    "\n",
    "import json\n",
    "\n",
    "with open('margin_dict.json', 'r') as file:\n",
    "    margin_dict = json.load(file)\n",
    "\n",
    "# GET ALL PARAMS\n",
    "MIN_MARGIN = margin_dict[PARAMS[\"warehouse\"]][f\"thickness_{PARAMS[\"thickness\"]}\"][\"margin\"]\n",
    "print(f\"MIN_MARGIN:{MIN_MARGIN}\")\n",
    "\n",
    "BOUND_KEY = next(iter(PARAMS['stock_ratio']))\n",
    "BOUND_VALUE = PARAMS['stock_ratio'][BOUND_KEY]\n",
    "print(f\"BOUND_VALUE:{BOUND_VALUE}\")"
   ]
  },
  {
   "cell_type": "markdown",
   "metadata": {},
   "source": [
    "#### Assume that we have already process data and have a job list, AND THE OPERATOR assigns the bound for cut else where, now we load each job and proceed optimization"
   ]
  },
  {
   "cell_type": "code",
   "execution_count": 2,
   "metadata": {},
   "outputs": [],
   "source": [
    "stocks = {'TP235H002656-2': {'receiving_date': 45150, 'width': 1219, 'weight': 4332.5},\n",
    " 'TP235H002656-1': {'receiving_date': 44951, 'width': 1219, 'weight': 4332.5},\n",
    " 'TP232H001074': {'receiving_date': 45040, 'width': 1233, 'weight': 7105.0},\n",
    " 'TP232H001073': {'receiving_date': 45153, 'width': 1233, 'weight': 7550.0},\n",
    " 'TP236H005198': {'receiving_date': 45011, 'width': 1136, 'weight': 8000.0},\n",
    " 'TP235H002652': {'receiving_date': 45039, 'width': 1219, 'weight': 8400.0},\n",
    " 'TP235H002654': {'receiving_date': 45045, 'width': 1219, 'weight': 8500.0},\n",
    " 'TP232H001072': {'receiving_date': 45013, 'width': 1233, 'weight': 8675.0},\n",
    " 'TP235H002655': {'receiving_date': 45229, 'width': 1219, 'weight': 8845.0},\n",
    " 'TP235H002653': {'receiving_date': 45045, 'width': 1219, 'weight': 8855.0},\n",
    " 'TP232H001075': {'receiving_date': 45247, 'width': 1233, 'weight': 9630.0}\n",
    " }\n",
    "\n",
    "finish = {'F23': {'width': 306.0,  'need_cut': 839.0,  'upper_bound': 1548.5841833599998,\n",
    "  'fc1': 2365.2806112,  'fc2': 3692.5657704,  'fc3': 3457.8613836},\n",
    " 'F22': {'width': 205.0,  'need_cut': 498.7908121410992,  'upper_bound': 3362.2258921410994,\n",
    "  'fc1': 9544.7836,  'fc2': 5494.6232,  'fc3': 3908.5464},\n",
    " 'F21': {'width': 188.0,  'need_cut': 30772.599709771595,  'upper_bound': 39966.4243228516,\n",
    "  'fc1': 30646.0820436,  'fc2': 35762.3146452,  'fc3': 34039.2591132},\n",
    " 'F20': {'width': 175.0,  'need_cut': 28574.78588807786,  'upper_bound': 36618.447115077855,\n",
    "  'fc1': 26812.20409,  'fc2': 31288.38713,  'fc3': 29780.88883},\n",
    " 'F19': {'width': 155.0,  'need_cut': 4401.8405357987585,  'upper_bound': 5851.570175548759,\n",
    "  'fc1': 4832.4321325,  'fc2': 5639.1860525,  'fc3': 5367.4857775},\n",
    " 'F18': {'width': 133.0,  'need_cut': 400.0,  'upper_bound': 795.8254562499999,\n",
    "  'fc1': 1319.4181875,  'fc2': 759.546375,  'fc3': 540.295875},\n",
    " 'F17': {'width': 120.0,  'need_cut': 1751.0,  'upper_bound': 2526.6533504,\n",
    "  'fc1': 2585.511168,  'fc2': 4319.793456,  'fc3': 3797.778504},\n",
    " 'F24': {'width': 82.0,  'need_cut': 977.9362646180011,  'upper_bound': 1585.531389098001,\n",
    "  'fc1': 2025.3170816,  'fc2': 3383.8382072,  'fc3': 2974.9264948}\n",
    "  }"
   ]
  },
  {
   "cell_type": "markdown",
   "metadata": {},
   "source": [
    "#### >> GENERATE PATTERN BY DUALITY"
   ]
  },
  {
   "cell_type": "code",
   "execution_count": 3,
   "metadata": {},
   "outputs": [
    {
     "name": "stdout",
     "output_type": "stream",
     "text": [
      "PATTERN GENERATION DUALITY."
     ]
    }
   ],
   "source": [
    "from typing import Dict, Any\n",
    "import copy\n",
    "\n",
    "from auxilaries import *\n",
    "from solvers import *\n",
    "\n",
    "# Setup GLOBAL problem varibles - KEEP OUT OF THE LOOP\n",
    "print(\"PATTERN GENERATION DUALITY\", end=\".\")\n",
    "final_solution_patterns =[]\n",
    "\n",
    "# CAN BE RESET AT EACH ROUND\n",
    "total_dual_pat = []\n",
    "dual_stocks = copy.deepcopy(stocks)\n",
    "dual_finish = copy.deepcopy(finish)\n",
    "nai_patterns = make_naive_patterns(stocks, finish, MIN_MARGIN)"
   ]
  },
  {
   "cell_type": "code",
   "execution_count": 24,
   "metadata": {},
   "outputs": [],
   "source": [
    "# RESET AT EACH ROUND\n",
    "total_dual_pat = []\n",
    "del max_key, dual_finish,dual_stocks, nai_patterns\n",
    "dual_stocks = copy.deepcopy(stocks_cont)\n",
    "dual_finish = copy.deepcopy(finish_cont)\n",
    "nai_patterns = make_naive_patterns(dual_stocks, dual_finish, MIN_MARGIN)"
   ]
  },
  {
   "cell_type": "code",
   "execution_count": 25,
   "metadata": {},
   "outputs": [
    {
     "name": "stdout",
     "output_type": "stream",
     "text": [
      "->> max_key error, next\n",
      "..\n",
      ">> Total naive/dual patterns: 5\n",
      "PHASE 3: Filter Patterns:..\n",
      ">> The Patterns with less 4% trim loss: 2\n"
     ]
    }
   ],
   "source": [
    "# CUTTING-STOCK-LOOP\n",
    "i = 0\n",
    "rm_stock = True\n",
    "while rm_stock == True:\n",
    "    # print(\"PHASE 0: setup stock\")\n",
    "\n",
    "    try:\n",
    "        # remove stock that has many pattern over other stocks\n",
    "        dual_stocks = filter_out_stock_by_cond(dual_stocks,max_key)\n",
    "        # print(f\"remove stock key {max_key}\")\n",
    "    except NameError:\n",
    "        print('->> max_key error, next')\n",
    "        pass\n",
    "\n",
    "    len_stocks = len(dual_stocks)\n",
    "\n",
    "    # print(\"PHASE 1: Naive/ Dual Pattern Generation\",end=\".\")    \n",
    "    patterns = make_naive_patterns(dual_stocks, dual_finish, MIN_MARGIN)\n",
    "    dual_finish = create_finish_demand_by_line_fr_naive_pattern(patterns, dual_finish)\n",
    "\n",
    "    # print(\"PHASE 2: Pattern Duality\",end=\".\")\n",
    "    new_pattern = generate_pattern_dual(dual_stocks, dual_finish, patterns, MIN_MARGIN) # Stock nao do toi uu hon stock khac o width thi new pattern luon bi chon cho stock do #FIX\n",
    "    dual_pat = []\n",
    "    while new_pattern not in dual_pat:\n",
    "        patterns.append(new_pattern)        # pattern de generate them new pattern\n",
    "        total_dual_pat.append(new_pattern)  # tinh tong dual pattern co the duoc generate\n",
    "        dual_pat.append(new_pattern)        # dual pat de tinh stock bi lap nhieu lan\n",
    "        new_pattern = generate_pattern_dual(dual_stocks, dual_finish, patterns, MIN_MARGIN)\n",
    "        print(end=\".\")\n",
    "\n",
    "    # filter stock having too many patterns\n",
    "    ls = count_pattern(dual_pat)\n",
    "    max_key = max(ls, key=ls.get) # take the max \n",
    "    max_count = ls[max_key]\n",
    "    if max_count > 1 and i < len_stocks - 2:# con lai it nhat 2 stock\n",
    "        rm_stock = True\n",
    "        i +=1\n",
    "        print(f\"{i} round\")\n",
    "    else: \n",
    "        rm_stock = False\n",
    "\n",
    "# Phase 1.2: Combine pattterns\n",
    "sum_patterns = nai_patterns + total_dual_pat\n",
    "\n",
    "print()\n",
    "print(f'>> Total naive/dual patterns: {len(sum_patterns)}')\n",
    "\n",
    "# Phrase: Filter Patterns having trim loss as requirements\n",
    "print(\"PHASE 3: Filter Patterns\", end=\":\")\n",
    "filtered_trimloss_pattern = []\n",
    "idx=0\n",
    "for pattern in sum_patterns:\n",
    "    cuts_dict= pattern['cuts']\n",
    "    width_s = stocks[pattern['stock']]['width']\n",
    "    trim_loss = width_s - sum([finish[f][\"width\"] * cuts_dict[f] for f in cuts_dict.keys()])\n",
    "    trim_loss_pct = round(trim_loss/width_s * 100, 3)\n",
    "    if trim_loss_pct <= 4.000: # filter for naive pattern\n",
    "        idx +=1\n",
    "        pattern.update({'trim_loss':trim_loss, \"trim_loss_pct\": trim_loss_pct, \"patt_id\":idx})\n",
    "        filtered_trimloss_pattern.append(pattern)\n",
    "        print(end=\".\")\n",
    "print()\n",
    "print(f\">> The Patterns with less 4% trim loss: {len(filtered_trimloss_pattern)}\")"
   ]
  },
  {
   "cell_type": "code",
   "execution_count": 26,
   "metadata": {},
   "outputs": [
    {
     "name": "stdout",
     "output_type": "stream",
     "text": [
      "PHASE 4: Cut Patterns.\n",
      ">> Stocks with fit patterns: dict_keys(['TP235H002653'])\n",
      "Total stock need: 2\n"
     ]
    }
   ],
   "source": [
    "# Phrase 4: Cut Pattern to map all pattern to demand requirements\n",
    "print(\"PHASE 4: Cut Patterns\", end=\".\")\n",
    "print()\n",
    "filtered_stocks = [filtered_trimloss_pattern[i]['stock'] for i in range(len(filtered_trimloss_pattern))]\n",
    "chosen_stocks = {}\n",
    "for stock_name, stock_info in stocks.items():\n",
    "    if stock_name in filtered_stocks:\n",
    "        chosen_stocks[stock_name]= {**stock_info}\n",
    "\n",
    "# CHU Y: co truong hop CHOSEN stock < total stock need to be cut\n",
    "print(f\">> Stocks with fit patterns: {chosen_stocks.keys()}\") # \n",
    "\n",
    "solution, total_cost = cut_weight_patterns(chosen_stocks, dual_finish, filtered_trimloss_pattern)\n",
    "solution_list = []\n",
    "print(f\"Total stock need: {total_cost}\")\n",
    "for i, pattern_info in enumerate(filtered_trimloss_pattern):\n",
    "    count = solution[i]\n",
    "    # rcount = 1 if 0 < count <= 1.0 else round(count)\n",
    "    if count > 0:\n",
    "        # cut_pattern = pattern_info['cuts']\n",
    "        s = pattern_info['stock']\n",
    "        # print(f\"+ Take ({rcound}), {pattern_info}\")\n",
    "        sol = {\"count\": count, **pattern_info}\n",
    "        solution_list.append(sol)"
   ]
  },
  {
   "cell_type": "code",
   "execution_count": 27,
   "metadata": {},
   "outputs": [
    {
     "name": "stdout",
     "output_type": "stream",
     "text": [
      "Take 10 possible stocks-patterns\n",
      "PHASE 5: Evaluation Stock Ratio.>> Total cut of each Finished Goods: {'F23': 2108.61, 'F22': 1442.32, 'F21': 29626.02, 'F20': 38275.17999999999, 'F19': 4926.2300000000005, 'F18': 1932.26, 'F17': 2132.49, 'F24': 2396.28}\n",
      ">> Over-cut: {'F23': 1269.61, 'F22': 943.529, 'F21': -1146.58, 'F20': 9700.394, 'F19': 524.389, 'F18': 1532.26, 'F17': 381.49, 'F24': 1418.344}\n",
      ">> Stock-ratio on next month forecast: {'F23': 0.5368, 'F22': 0.0989, 'F21': -0.0374, 'F20': 0.3618, 'F19': 0.1085, 'F18': 1.1613, 'F17': 0.1475, 'F24': 0.7003}\n"
     ]
    }
   ],
   "source": [
    "# Neu lap stock thi rm all pattern tru cai trim loss thap nhat va chay lai\n",
    "sorted_solution_list = sorted(solution_list, key=lambda x: (x['stock'],  x.get('trim_loss_pct', float('inf'))))\n",
    "\n",
    "# now take first overused stock pattern only.\n",
    "overused_list = []\n",
    "take_stock = None\n",
    "for solution_pattern in sorted_solution_list:\n",
    "    current_stock = solution_pattern['stock']\n",
    "    if current_stock == take_stock:\n",
    "        overused_list.append(solution_pattern)\n",
    "    else:\n",
    "        take_stock = current_stock\n",
    "        final_solution_patterns.append(solution_pattern)\n",
    "            \n",
    "print(f'Take {len(final_solution_patterns)} possible stocks-patterns')\n",
    "\n",
    "# Phase 5: Evaluation Over-cut / Stock Ratio\n",
    "print(\"PHASE 5: Evaluation Stock Ratio\", end=\".\")\n",
    "for i, sol in enumerate(final_solution_patterns):\n",
    "    s = final_solution_patterns[i]['stock'] # stock cut\n",
    "    cuts_dict = final_solution_patterns[i]['cuts']\n",
    "    weight_dict = {f: round(cuts_dict[f] * finish[f]['width']*stocks[s]['weight']/stocks[s]['width'],3) for f in cuts_dict.keys()}\n",
    "    # print(weight_dict)\n",
    "    final_solution_patterns[i] = {**sol,\n",
    "                        \"cut_w\": weight_dict}\n",
    "# Total Cuts\n",
    "total_sums = count_weight(final_solution_patterns)\n",
    "print(f\">> Total cut of each Finished Goods: {total_sums}\")\n",
    "\n",
    "over_cut = {}\n",
    "over_cut_ratio = {}\n",
    "# Overcut cutweight (slice * fg_width * wu) - need_cut \n",
    "for key in total_sums.keys():\n",
    "    over_cut[key] = round(total_sums[key] - finish[key]['need_cut'],3)\n",
    "    over_cut_ratio[key] = round(over_cut[key]/finish[key]['fc1'], 4)\n",
    "\n",
    "print(f\">> Over-cut: {over_cut}\")\n",
    "print(f\">> Stock-ratio on next month forecast: {over_cut_ratio}\")"
   ]
  },
  {
   "cell_type": "code",
   "execution_count": 28,
   "metadata": {},
   "outputs": [
    {
     "name": "stdout",
     "output_type": "stream",
     "text": [
      "FINISH CUTTING\n"
     ]
    }
   ],
   "source": [
    "# CHECK FOR ANOTHER ROUND\n",
    "if not overused_list:\n",
    "    print(\"FINISH CUTTING\")\n",
    "else:\n",
    "    # go back to PHRASE 3\n",
    "    print(\"BACK TO PHRASE 3: TO FILTER OUT PATTERNS\")\n",
    "    taken_stocks = [p['stock'] for p in final_solution_patterns]\n",
    "    finish_cont = {}\n",
    "    for f, f_info in dual_finish.items():\n",
    "        if over_cut[f] < 0:\n",
    "            f_info['need_cut'] = over_cut[f] *(-1)\n",
    "            finish_cont[f] ={**f_info}\n",
    "\n",
    "    stocks_cont = {}\n",
    "    for s, s_info in dual_stocks.items():\n",
    "        if s not in taken_stocks:\n",
    "            stocks_cont[s] = {**s_info}"
   ]
  },
  {
   "cell_type": "code",
   "execution_count": 8,
   "metadata": {},
   "outputs": [
    {
     "data": {
      "text/plain": [
       "['TP232H001072',\n",
       " 'TP232H001073',\n",
       " 'TP232H001074',\n",
       " 'TP235H002656-1',\n",
       " 'TP235H002656-2',\n",
       " 'TP236H005198']"
      ]
     },
     "execution_count": 8,
     "metadata": {},
     "output_type": "execute_result"
    }
   ],
   "source": [
    "[p['stock'] for p in final_solution_patterns] # ROUND 1"
   ]
  },
  {
   "cell_type": "code",
   "execution_count": 14,
   "metadata": {},
   "outputs": [
    {
     "data": {
      "text/plain": [
       "['TP232H001072',\n",
       " 'TP232H001073',\n",
       " 'TP232H001074',\n",
       " 'TP235H002656-1',\n",
       " 'TP235H002656-2',\n",
       " 'TP236H005198',\n",
       " 'TP235H002652',\n",
       " 'TP235H002654']"
      ]
     },
     "execution_count": 14,
     "metadata": {},
     "output_type": "execute_result"
    }
   ],
   "source": [
    "[p['stock'] for p in final_solution_patterns] # ROUND 2"
   ]
  },
  {
   "cell_type": "code",
   "execution_count": 22,
   "metadata": {},
   "outputs": [
    {
     "data": {
      "text/plain": [
       "['TP232H001072',\n",
       " 'TP232H001073',\n",
       " 'TP232H001074',\n",
       " 'TP235H002656-1',\n",
       " 'TP235H002656-2',\n",
       " 'TP236H005198',\n",
       " 'TP235H002652',\n",
       " 'TP235H002654',\n",
       " 'TP235H002655']"
      ]
     },
     "execution_count": 22,
     "metadata": {},
     "output_type": "execute_result"
    }
   ],
   "source": [
    "[p['stock'] for p in final_solution_patterns] # ROUND 3"
   ]
  },
  {
   "cell_type": "code",
   "execution_count": 29,
   "metadata": {},
   "outputs": [
    {
     "data": {
      "text/plain": [
       "['TP232H001072',\n",
       " 'TP232H001073',\n",
       " 'TP232H001074',\n",
       " 'TP235H002656-1',\n",
       " 'TP235H002656-2',\n",
       " 'TP236H005198',\n",
       " 'TP235H002652',\n",
       " 'TP235H002654',\n",
       " 'TP235H002655',\n",
       " 'TP235H002653']"
      ]
     },
     "execution_count": 29,
     "metadata": {},
     "output_type": "execute_result"
    }
   ],
   "source": [
    "[p['stock'] for p in final_solution_patterns] # ROUND 4"
   ]
  },
  {
   "cell_type": "markdown",
   "metadata": {},
   "source": [
    "['TP232H001072', 'TP232H001073', 'TP232H001074', 'TP235H002656-1', 'TP235H002656-2', 'TP236H005198', 'TP232H001075', 'TP235H002652', 'TP235H002654']"
   ]
  },
  {
   "cell_type": "code",
   "execution_count": null,
   "metadata": {},
   "outputs": [],
   "source": []
  }
 ],
 "metadata": {
  "kernelspec": {
   "display_name": "optima",
   "language": "python",
   "name": "python3"
  },
  "language_info": {
   "codemirror_mode": {
    "name": "ipython",
    "version": 3
   },
   "file_extension": ".py",
   "mimetype": "text/x-python",
   "name": "python",
   "nbconvert_exporter": "python",
   "pygments_lexer": "ipython3",
   "version": "3.12.2"
  }
 },
 "nbformat": 4,
 "nbformat_minor": 2
}
