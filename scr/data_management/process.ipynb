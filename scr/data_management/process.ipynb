{
 "cells": [
  {
   "cell_type": "code",
   "execution_count": 14,
   "metadata": {},
   "outputs": [],
   "source": [
    "import pandas as pd\n",
    "import numpy as np\n",
    "import math"
   ]
  },
  {
   "cell_type": "markdown",
   "metadata": {},
   "source": [
    "### GET DATA\n",
    "\n",
    "Dataverse will generate two table MC and FG as below:\n",
    "- Model filter need_cut <-50  and find overlap Code of MC"
   ]
  },
  {
   "cell_type": "code",
   "execution_count": 3,
   "metadata": {},
   "outputs": [
    {
     "name": "stderr",
     "output_type": "stream",
     "text": [
      "C:\\Users\\thuduong\\AppData\\Local\\Temp\\ipykernel_2696\\1691507548.py:5: SettingWithCopyWarning: \n",
      "A value is trying to be set on a copy of a slice from a DataFrame.\n",
      "Try using .loc[row_indexer,col_indexer] = value instead\n",
      "\n",
      "See the caveats in the documentation: https://pandas.pydata.org/pandas-docs/stable/user_guide/indexing.html#returning-a-view-versus-a-copy\n",
      "  has_need_cut_df['params']= has_need_cut_df['maker'] + \"+\" + has_need_cut_df['spec_name']+ \"+\" + has_need_cut_df['thickness'].astype(str)\n"
     ]
    },
    {
     "data": {
      "text/plain": [
       "['POSCO+JSH270C-PO+4.0',\n",
       " 'CSVC+JSH270C-PO+2.0',\n",
       " 'CSVC+JSH440W-PO+3.2',\n",
       " 'POSCOVN+SPCC-SD+1.6',\n",
       " 'POSCOVN+JSC270C-SD+1.6',\n",
       " 'POSCO+SAPH440-PO+4.0',\n",
       " 'POSCO+JSH270C-PO+3.2',\n",
       " 'CSC+JSH590R-PO+2.3',\n",
       " 'POSCO+JSH270C-PO+2.9',\n",
       " 'CSC+JSH590R-PO+2.9',\n",
       " 'POSCO+JSH440W-PO+2.0',\n",
       " 'POSCOVN+JSC270C-SD+1.0',\n",
       " 'POSCO+JSH270C-PO+2.6',\n",
       " 'CSVC+JSH440W-PO+2.3',\n",
       " 'CSC+JSH590R-PO+2.6',\n",
       " 'POSCOVN+SPCC-SD+1.2',\n",
       " 'POSCO+JSH270C-PO+2.3',\n",
       " 'CSC+JSH590R-PO+2.0',\n",
       " 'CSVC+JSH270C-PO+1.6',\n",
       " 'CSC+JSC590R-SD+1.6',\n",
       " 'POSCO+SS400-PO+2.3',\n",
       " 'POSCOVN+SPCC-SD+1.0']"
      ]
     },
     "execution_count": 3,
     "metadata": {},
     "output_type": "execute_result"
    }
   ],
   "source": [
    "# Get overlap params\n",
    "fin_file_path = \"../data/20240710_finish_df.xlsx\"\n",
    "fin_df = pd.read_excel(fin_file_path)\n",
    "has_need_cut_df = fin_df[fin_df['need_cut'] < -10]\n",
    "has_need_cut_df['params']= has_need_cut_df['maker'] + \"+\" + has_need_cut_df['spec_name']+ \"+\" + has_need_cut_df['thickness'].astype(str)\n",
    "fin_params = has_need_cut_df['params'].unique()\n",
    "\n",
    "mc_file_path = \"../data/20240710_mc_df.xlsx\"\n",
    "mc_df = pd.read_excel(mc_file_path)\n",
    "mc_df['params'] =  mc_df['maker'] + \"+\" + mc_df['spec_name']+ \"+\" + mc_df['thickness'].astype(str)\n",
    "mc_params = mc_df['params'].unique()\n",
    "\n",
    "# Find the intersection (overlapping values)\n",
    "overlap = set(mc_params) & set(fin_params)\n",
    "\n",
    "# Convert the result back to a list if needed\n",
    "overlap_list = list(overlap)\n",
    "overlap_list"
   ]
  },
  {
   "cell_type": "markdown",
   "metadata": {},
   "source": [
    "### PROCESS PARAMS"
   ]
  },
  {
   "cell_type": "code",
   "execution_count": 16,
   "metadata": {},
   "outputs": [
    {
     "name": "stdout",
     "output_type": "stream",
     "text": [
      "MIN_MARGIN:6\n",
      "BOUND_VALUE:None\n"
     ]
    }
   ],
   "source": [
    "param = \"POSCOVN+SPCC-SD+1.0\"\n",
    "param_split = param.split(\"+\")\n",
    "\n",
    "PARAMS = {\"warehouse\": \"HSC\"\n",
    "          ,\"spec_name\": \"\"\n",
    "          ,\"thickness\": 1\n",
    "          ,\"maker\" : \"\"\n",
    "          ,\"stock_ratio\": { \n",
    "                    \"limited\": None\n",
    "                    # \"default\": 2\n",
    "                    # \"user_setting\": 4\n",
    "                }\n",
    "        #   ,\"forecast_scenario\": median\n",
    "          }\n",
    "\n",
    "PARAMS[\"maker\"] = param_split[0] \n",
    "PARAMS[\"spec_name\"] = param_split[1]\n",
    "PARAMS[\"thickness\"] = float(param_split[2])\n",
    "\n",
    "margin_dict = { \n",
    "    \"HSC\":\n",
    "    {#save margin_dict in azure env, margin dictionary by warehouse\n",
    "    \"thickness_1.0\": {\n",
    "        \"thickness\": 1.0,\n",
    "        \"margin\": 6\n",
    "    },\n",
    "    \"thickness_2.9\": {\n",
    "        \"thickness\": 2.9,\n",
    "        \"margin\": 6\n",
    "    },\n",
    "    \"thickness_4\": {\n",
    "        \"thickness\": 4,\n",
    "        \"margin\": 10\n",
    "    },\n",
    "    \"thickness_2\": {\n",
    "        \"thickness\": 2,\n",
    "        \"margin\": 6\n",
    "    },\n",
    "    \"thickness_2.3\": {\n",
    "        \"thickness\": 2.3,\n",
    "        \"margin\": 6\n",
    "    },\n",
    "    \"thickness_1.6\": {\n",
    "        \"thickness\": 1.6,\n",
    "        \"margin\": 6\n",
    "    }\n",
    "    },\n",
    "    \"NQS\":\n",
    "    {#save margin_dict in azure env, margin dictionary by warehouse\n",
    "    \"thickness_2.9\": {\n",
    "        \"thickness\": 2.9,\n",
    "        \"margin\": 6\n",
    "    },\n",
    "    \"thickness_2\": {\n",
    "        \"thickness\": 2,\n",
    "        \"margin\": 6\n",
    "    },\n",
    "    \"thickness_1.6\": {\n",
    "        \"thickness\": 1.6,\n",
    "        \"margin\": 6\n",
    "    }\n",
    "    }\n",
    "}\n",
    "\n",
    "# GET ALL PARAMS\n",
    "MIN_MARGIN = margin_dict[PARAMS[\"warehouse\"]][f\"thickness_{PARAMS[\"thickness\"]}\"][\"margin\"]\n",
    "print(f\"MIN_MARGIN:{MIN_MARGIN}\")\n",
    "\n",
    "BOUND_KEY = next(iter(PARAMS['stock_ratio']))\n",
    "BOUND_VALUE = PARAMS['stock_ratio'][BOUND_KEY]\n",
    "print(f\"BOUND_VALUE:{BOUND_VALUE}\")"
   ]
  },
  {
   "cell_type": "markdown",
   "metadata": {},
   "source": [
    "#### Input & Process Data"
   ]
  },
  {
   "cell_type": "code",
   "execution_count": 17,
   "metadata": {},
   "outputs": [
    {
     "data": {
      "text/plain": [
       "{'warehouse': 'HSC',\n",
       " 'spec_name': 'SPCC-SD',\n",
       " 'thickness': 1.0,\n",
       " 'maker': 'POSCOVN',\n",
       " 'stock_ratio': {'limited': None}}"
      ]
     },
     "execution_count": 17,
     "metadata": {},
     "output_type": "execute_result"
    }
   ],
   "source": [
    "PARAMS"
   ]
  },
  {
   "cell_type": "code",
   "execution_count": 18,
   "metadata": {},
   "outputs": [
    {
     "name": "stdout",
     "output_type": "stream",
     "text": [
      "FG 7, Need cut 2195.876582278481\n"
     ]
    },
    {
     "data": {
      "text/plain": [
       "{'F200': {'width': 210.0,\n",
       "  'need_cut': 908.876582278481,\n",
       "  'upper_bound': 1585.750502278481,\n",
       "  'fc1': 2256.2464,\n",
       "  'fc2': 1984.6524,\n",
       "  'fc3': 1934.0102},\n",
       " 'F198': {'width': 152.0,\n",
       "  'need_cut': 178.0,\n",
       "  'upper_bound': 365.74,\n",
       "  'fc1': 625.8,\n",
       "  'fc2': 983.4,\n",
       "  'fc3': 596.0},\n",
       " 'F197': {'width': 150.0,\n",
       "  'need_cut': 300.0,\n",
       "  'upper_bound': 519.5526465,\n",
       "  'fc1': 731.842155,\n",
       "  'fc2': 687.165744375,\n",
       "  'fc3': 577.24759125},\n",
       " 'F196': {'width': 125.0,\n",
       "  'need_cut': 100.0,\n",
       "  'upper_bound': 141.505403125,\n",
       "  'fc1': 138.35134375,\n",
       "  'fc2': 130.7123125,\n",
       "  'fc3': 48.38053125},\n",
       " 'F190': {'width': 100.0,\n",
       "  'need_cut': 300.0,\n",
       "  'upper_bound': 445.829136,\n",
       "  'fc1': 486.09712,\n",
       "  'fc2': 812.15629,\n",
       "  'fc3': 714.013235},\n",
       " 'F511': {'width': 95.0,\n",
       "  'need_cut': 300.0,\n",
       "  'upper_bound': 358.212,\n",
       "  'fc1': 194.04,\n",
       "  'fc2': 183.48000000000002,\n",
       "  'fc3': 329.99999999999994},\n",
       " 'F203': {'width': 60.0,\n",
       "  'need_cut': 109.0,\n",
       "  'upper_bound': 520.96899538,\n",
       "  'fc1': 1373.2299846,\n",
       "  'fc2': 1331.7674778,\n",
       "  'fc3': 905.3461206}}"
      ]
     },
     "execution_count": 18,
     "metadata": {},
     "output_type": "execute_result"
    }
   ],
   "source": [
    "from process_df import filter_finish_df_to_dict, filter_by_params\n",
    "from process_df import filter_multi_stock_df_to_dict, filter_by_params\n",
    "\n",
    "file_path = \"../data/20240710_finish_df.xlsx\"\n",
    "finish_key, value_columns = \"order_id\", [\"width\", \"need_cut\", f\"upper_bound\", \"fc1\", \"fc2\", \"fc3\"]\n",
    "df = filter_by_params(file_path, PARAMS)\n",
    "df = df[df['need_cut'] < -10]\n",
    "finish = filter_finish_df_to_dict(df, finish_key, value_columns, BOUND_VALUE)\n",
    "\n",
    "total_needcut = sum(item['need_cut'] for item in finish.values())\n",
    "print(f'FG {len(finish)}, Need cut {total_needcut}')\n",
    "\n",
    "finish"
   ]
  },
  {
   "cell_type": "code",
   "execution_count": 19,
   "metadata": {},
   "outputs": [
    {
     "name": "stdout",
     "output_type": "stream",
     "text": [
      "1\n"
     ]
    }
   ],
   "source": [
    "file_path = \"../data/20240710_mc_df.xlsx\"\n",
    "stock_key, value_columns = \"inventory_id\", ['receiving_date',\"width\", \"weight\"]\n",
    "df = filter_by_params(file_path, PARAMS)\n",
    "stocks = filter_multi_stock_df_to_dict(df, stock_key, value_columns)\n",
    "print(len(stocks))\n",
    "# list of stock >> list of need cut PO\n",
    "# Improve: need rules to pick up stock to the pool"
   ]
  },
  {
   "cell_type": "code",
   "execution_count": 20,
   "metadata": {},
   "outputs": [
    {
     "data": {
      "text/plain": [
       "{'TP238H002948': {'receiving_date': 45261, 'width': 1219, 'weight': 6459}}"
      ]
     },
     "execution_count": 20,
     "metadata": {},
     "output_type": "execute_result"
    }
   ],
   "source": [
    "stocks"
   ]
  },
  {
   "cell_type": "markdown",
   "metadata": {},
   "source": []
  },
  {
   "cell_type": "code",
   "execution_count": 21,
   "metadata": {},
   "outputs": [],
   "source": [
    "# save set STOCK- FINISHED GOOD to text\n",
    "# Save the result to a text file\n",
    "with open(f\"{param}_data.txt\", \"w\") as file:\n",
    "    file.write(f\"{param}\\n\")\n",
    "    file.write(f\"STOCK: \\n {stocks}\\n\")\n",
    "    file.write(f\"FINISH: \\n {finish}\\n\")"
   ]
  }
 ],
 "metadata": {
  "kernelspec": {
   "display_name": "optima",
   "language": "python",
   "name": "python3"
  },
  "language_info": {
   "codemirror_mode": {
    "name": "ipython",
    "version": 3
   },
   "file_extension": ".py",
   "mimetype": "text/x-python",
   "name": "python",
   "nbconvert_exporter": "python",
   "pygments_lexer": "ipython3",
   "version": "3.12.2"
  }
 },
 "nbformat": 4,
 "nbformat_minor": 2
}
