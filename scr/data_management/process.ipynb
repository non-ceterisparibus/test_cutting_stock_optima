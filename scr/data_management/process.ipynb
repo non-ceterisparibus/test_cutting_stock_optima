{
 "cells": [
  {
   "cell_type": "code",
   "execution_count": 1,
   "metadata": {},
   "outputs": [],
   "source": [
    "import pandas as pd\n",
    "import numpy as np\n",
    "import math"
   ]
  },
  {
   "cell_type": "code",
   "execution_count": 2,
   "metadata": {},
   "outputs": [
    {
     "data": {
      "text/plain": [
       "112"
      ]
     },
     "execution_count": 2,
     "metadata": {},
     "output_type": "execute_result"
    }
   ],
   "source": [
    "# Get overlap params\n",
    "mc_file_path = \"../data/test_mc_df.xlsx\"\n",
    "mc_df = pd.read_excel(mc_file_path)\n",
    "mc_df['params'] = mc_df['warehouse'] + \"/\" + mc_df['maker'] + \"/\" + mc_df['spec_name']+\"/\"+ mc_df['thickness'].astype(str)\n",
    "mc_arr = mc_df['params'].unique()\n",
    "\n",
    "fin_file_path = \"../data/test_finish_df_Jul2022.xlsx\"\n",
    "fin_df = pd.read_excel(mc_file_path)\n",
    "fin_df['params'] = fin_df['warehouse'] + \"/\" + fin_df['maker'] + \"/\" + fin_df['spec_name']+\"/\"+ fin_df['thickness'].astype(str)\n",
    "fin_arr = fin_df['params'].unique()\n",
    "\n",
    "# Find the intersection (overlapping values)\n",
    "overlap = set(mc_arr) & set(fin_arr)\n",
    "\n",
    "# Convert the result back to a list if needed\n",
    "overlap_list = list(overlap)\n",
    "len(overlap_list)"
   ]
  },
  {
   "cell_type": "markdown",
   "metadata": {},
   "source": [
    "### DATA MANAGEMENT"
   ]
  },
  {
   "cell_type": "code",
   "execution_count": 3,
   "metadata": {},
   "outputs": [
    {
     "name": "stdout",
     "output_type": "stream",
     "text": [
      "MIN_MARGIN:8\n",
      "BOUND_VALUE:None\n"
     ]
    }
   ],
   "source": [
    "## PARAMETER - CASE 0\n",
    "\n",
    "PARAMS = {\"warehouse\": \"HSC\"\n",
    "          ,\"spec_name\": \"JSH440W-PO\" # yeu cau chuan hoa du lieu OP - PO\n",
    "          ,\"thickness\": 2\n",
    "          ,\"maker\" : \"POSCO-KR\"\n",
    "          ,\"stock_ratio\": { #get from app \n",
    "                    \"limited\": None\n",
    "                    # \"default\": 2\n",
    "                    # \"user_setting\": 4\n",
    "                }\n",
    "        #   ,\"forecast_scenario\": median\n",
    "          }\n",
    "\n",
    "margin_dict = { \"HSC\":\n",
    "    {#save margin_dict in azure env, margin dictionary by warehouse\n",
    "    \"thickness_2.6\": {\n",
    "        \"thickness\": 2.6,\n",
    "        \"margin\": 10\n",
    "    },\n",
    "    \"thickness_2\": {\n",
    "        \"thickness\": 2.0,\n",
    "        \"margin\": 8\n",
    "    },\n",
    "    \"thickness_1.6\": {\n",
    "        \"thickness\": 1.6,\n",
    "        \"margin\": 6\n",
    "    }\n",
    "    },\n",
    "    \"NQS\":\n",
    "    {#save margin_dict in azure env, margin dictionary by warehouse\n",
    "    \"thickness_2.6\": {\n",
    "        \"thickness\": 2.6,\n",
    "        \"margin\": 10\n",
    "    },\n",
    "    \"thickness_2\": {\n",
    "        \"thickness\": 2.0,\n",
    "        \"margin\": 8\n",
    "    },\n",
    "    \"thickness_1.6\": {\n",
    "        \"thickness\": 1.6,\n",
    "        \"margin\": 6\n",
    "    }\n",
    "    }\n",
    "}\n",
    "\n",
    "# GET ALL PARAMS\n",
    "MIN_MARGIN = margin_dict[PARAMS[\"warehouse\"]][f\"thickness_{PARAMS[\"thickness\"]}\"][\"margin\"]\n",
    "print(f\"MIN_MARGIN:{MIN_MARGIN}\")\n",
    "\n",
    "BOUND_KEY = next(iter(PARAMS['stock_ratio']))\n",
    "BOUND_VALUE = PARAMS['stock_ratio'][BOUND_KEY]\n",
    "print(f\"BOUND_VALUE:{BOUND_VALUE}\")"
   ]
  },
  {
   "cell_type": "markdown",
   "metadata": {},
   "source": [
    "#### Input & Process Data"
   ]
  },
  {
   "cell_type": "code",
   "execution_count": 4,
   "metadata": {},
   "outputs": [
    {
     "data": {
      "text/plain": [
       "{'F88': {'width': 390.0,\n",
       "  'need_cut': 2036,\n",
       "  'upper_bound': 4265.795,\n",
       "  'fc1': 7432.65,\n",
       "  'fc2': 4930.2,\n",
       "  'fc3': 4706.1},\n",
       " 'F87': {'width': 354.0,\n",
       "  'need_cut': 9642,\n",
       "  'upper_bound': 23399.847840000002,\n",
       "  'fc1': 45859.4928,\n",
       "  'fc2': 39600.1584,\n",
       "  'fc3': 36639.6624},\n",
       " 'F86': {'width': 269.0,\n",
       "  'need_cut': 8500,\n",
       "  'upper_bound': 13470.692319999998,\n",
       "  'fc1': 16568.9744,\n",
       "  'fc2': 23670.539200000003,\n",
       "  'fc3': 20857.32},\n",
       " 'F84': {'width': 215.0,\n",
       "  'need_cut': 4300,\n",
       "  'upper_bound': 5582.8426,\n",
       "  'fc1': 4276.142,\n",
       "  'fc2': 4074.3419999999996,\n",
       "  'fc3': 3594.0579999999995},\n",
       " 'F91': {'width': 70.0,\n",
       "  'need_cut': 1200,\n",
       "  'upper_bound': 1801.9351199999999,\n",
       "  'fc1': 2006.4503999999997,\n",
       "  'fc2': 1732.5911999999996,\n",
       "  'fc3': 1603.0631999999998}}"
      ]
     },
     "execution_count": 4,
     "metadata": {},
     "output_type": "execute_result"
    }
   ],
   "source": [
    "from process_df import filter_finish_df_to_dict, filter_by_params\n",
    "\n",
    "file_path = \"../data/test_finish_df_Jul2022.xlsx\"\n",
    "finish_key, value_columns = \"order_id\", [\"width\", \"need_cut\", f\"upper_bound\", \"fc1\", \"fc2\", \"fc3\"]\n",
    "df = filter_by_params(file_path,PARAMS)\n",
    "finish = filter_finish_df_to_dict(df, finish_key, value_columns, BOUND_VALUE)\n",
    "finish\n",
    "# nen loc list need cut voi so am truoc,\n",
    "#Improve: uu tien thu solution voi FG co width lon truoc"
   ]
  },
  {
   "cell_type": "code",
   "execution_count": 5,
   "metadata": {},
   "outputs": [
    {
     "name": "stdout",
     "output_type": "stream",
     "text": [
      "Need cut 25678\n"
     ]
    }
   ],
   "source": [
    "total_needcut = sum(item['need_cut'] for item in finish.values())\n",
    "print(f'Need cut {total_needcut}')"
   ]
  },
  {
   "cell_type": "code",
   "execution_count": 6,
   "metadata": {},
   "outputs": [
    {
     "name": "stdout",
     "output_type": "stream",
     "text": [
      "8\n"
     ]
    }
   ],
   "source": [
    "from process_df import filter_multi_stock_df_to_dict, filter_by_params\n",
    "file_path = \"../data/test_mc_df.xlsx\"\n",
    "stock_key, value_columns = \"inventory_id\", ['receiving_date','status',\"width\", \"weight\",\"qty\"]\n",
    "df = filter_by_params(file_path, PARAMS)\n",
    "stocks = filter_multi_stock_df_to_dict(df, stock_key, value_columns,total_needcut)\n",
    "print(len(stocks))\n",
    "# list of stock >> list of need cut PO\n",
    "# Improve: need rules to pick up stock to the pool"
   ]
  },
  {
   "cell_type": "code",
   "execution_count": 7,
   "metadata": {},
   "outputs": [
    {
     "data": {
      "text/plain": [
       "{'S438': {'receiving_date': '2022/07/18',\n",
       "  'status': 'M:RAW MATERIAL',\n",
       "  'width': 1219.0,\n",
       "  'weight': 6180,\n",
       "  'qty': 1},\n",
       " 'S442': {'receiving_date': '2022/07/18',\n",
       "  'status': 'M:RAW MATERIAL',\n",
       "  'width': 1219.0,\n",
       "  'weight': 6780,\n",
       "  'qty': 1},\n",
       " 'S440': {'receiving_date': '2022/07/18',\n",
       "  'status': 'M:RAW MATERIAL',\n",
       "  'width': 1219.0,\n",
       "  'weight': 6820,\n",
       "  'qty': 1},\n",
       " 'S147': {'receiving_date': '2022/05/19',\n",
       "  'status': 'M:RAW MATERIAL',\n",
       "  'width': 1219.0,\n",
       "  'weight': 7010,\n",
       "  'qty': 1},\n",
       " 'S144': {'receiving_date': '2022/05/19',\n",
       "  'status': 'M:RAW MATERIAL',\n",
       "  'width': 1219.0,\n",
       "  'weight': 7390,\n",
       "  'qty': 1},\n",
       " 'S148': {'receiving_date': '2022/05/19',\n",
       "  'status': 'M:RAW MATERIAL',\n",
       "  'width': 1219.0,\n",
       "  'weight': 7390,\n",
       "  'qty': 1},\n",
       " 'S145': {'receiving_date': '2022/05/19',\n",
       "  'status': 'M:RAW MATERIAL',\n",
       "  'width': 1219.0,\n",
       "  'weight': 7400,\n",
       "  'qty': 1},\n",
       " 'S146': {'receiving_date': '2022/05/19',\n",
       "  'status': 'M:RAW MATERIAL',\n",
       "  'width': 1219.0,\n",
       "  'weight': 7440,\n",
       "  'qty': 1}}"
      ]
     },
     "execution_count": 7,
     "metadata": {},
     "output_type": "execute_result"
    }
   ],
   "source": [
    "stocks"
   ]
  },
  {
   "cell_type": "markdown",
   "metadata": {},
   "source": [
    "## Operator to pick stocks - same width - ~ same weight"
   ]
  },
  {
   "cell_type": "markdown",
   "metadata": {},
   "source": []
  }
 ],
 "metadata": {
  "kernelspec": {
   "display_name": "optima",
   "language": "python",
   "name": "python3"
  },
  "language_info": {
   "codemirror_mode": {
    "name": "ipython",
    "version": 3
   },
   "file_extension": ".py",
   "mimetype": "text/x-python",
   "name": "python",
   "nbconvert_exporter": "python",
   "pygments_lexer": "ipython3",
   "version": "3.12.2"
  }
 },
 "nbformat": 4,
 "nbformat_minor": 2
}
