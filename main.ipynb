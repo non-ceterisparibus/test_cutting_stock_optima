{
 "cells": [
  {
   "cell_type": "markdown",
   "metadata": {},
   "source": [
    "# STEEL SLITTING OPTIMA\n",
    "\n",
    "### I Problem Statement\n",
    "\n",
    "The Cutting Stock Problem deals with the problem of cutting stock material with the same, fixed width — such as paper rolls — into smaller pieces, according to a set of orders specifying both the widths and the demand requirements, so as to minimize the amount of wasted material.\n",
    "\n",
    "![image](cutting_stock.png)\n",
    "\n",
    "-----\n",
    "\n",
    "To choose the *mother coil* from the stock to cut into order in PO received from clients. To minimize the trim loss from slitting the coil\n",
    "\n",
    "**Key terms**\n",
    "Need_cut = weight \\\\\n",
    "Remain_Weight \n",
    "Trim_Loss_Weight \n",
    "Trim_Loss \n",
    "Num_Split\n",
    "\n",
    "\n",
    "```python\n",
    "if Thickness <= 3 and Thickness > 1:\n",
    "        min_loss = 8\n",
    "    elif Thickness == 1:\n",
    "        min_loss = 5.5\n",
    "    else:\n",
    "        min_loss = 3*Thickness      \n",
    "    max_loss= int(0.04*Width)\n",
    "\n",
    "# Hyperpara\n",
    "stock_name = 'HSC'\t\n",
    "Thickness = 2.6\n",
    "Spec =  'JSH270C-PO' \n",
    "\n",
    "# Optimiza Parameter'\n",
    "optima_ratio_fc1 = 50%\n",
    "# optima_ratio_fc1 = 200%"
   ]
  },
  {
   "cell_type": "code",
   "execution_count": 2,
   "metadata": {},
   "outputs": [],
   "source": [
    "import pandas as pd\n",
    "import numpy as np\n",
    "\n",
    "# IMPORT SAMPLE DATA\n",
    "sample_po = pd.read_pickle(\"data/sample_po.pkl\")\n",
    "sample_coil = pd.read_pickle(\"data/sample_coils_instock.pkl\")\n",
    "\n",
    "# sample_po['Width'] = sample_po['Width'].astype('int')\n",
    "# df = sample_po.groupby('Width').size().reset_index(name='Count')\n",
    "# df"
   ]
  },
  {
   "cell_type": "code",
   "execution_count": 11,
   "metadata": {},
   "outputs": [
    {
     "data": {
      "text/plain": [
       "Index(['Customer', 'Description ', 'Maker', 'Spec_Name', 'Thickness', 'Width',\n",
       "       'Length', 'MC Width', 'Stock_Name', 'Stock_Note', 'Need_Cut', 'T10/23',\n",
       "       'T11/23', 'T12/23', 'Order_ID', 'Upper_bound_cut_w'],\n",
       "      dtype='object')"
      ]
     },
     "execution_count": 11,
     "metadata": {},
     "output_type": "execute_result"
    }
   ],
   "source": [
    "sample_po.columns"
   ]
  },
  {
   "cell_type": "code",
   "execution_count": 14,
   "metadata": {},
   "outputs": [
    {
     "data": {
      "text/html": [
       "<div>\n",
       "<style scoped>\n",
       "    .dataframe tbody tr th:only-of-type {\n",
       "        vertical-align: middle;\n",
       "    }\n",
       "\n",
       "    .dataframe tbody tr th {\n",
       "        vertical-align: top;\n",
       "    }\n",
       "\n",
       "    .dataframe thead th {\n",
       "        text-align: right;\n",
       "    }\n",
       "</style>\n",
       "<table border=\"1\" class=\"dataframe\">\n",
       "  <thead>\n",
       "    <tr style=\"text-align: right;\">\n",
       "      <th></th>\n",
       "      <th>Order_ID</th>\n",
       "      <th>Width</th>\n",
       "      <th>Need_Cut</th>\n",
       "      <th>T10/23</th>\n",
       "    </tr>\n",
       "  </thead>\n",
       "  <tbody>\n",
       "    <tr>\n",
       "      <th>0</th>\n",
       "      <td>0</td>\n",
       "      <td>220.0</td>\n",
       "      <td>-4247.0</td>\n",
       "      <td>22574.031480</td>\n",
       "    </tr>\n",
       "    <tr>\n",
       "      <th>1</th>\n",
       "      <td>1</td>\n",
       "      <td>145.0</td>\n",
       "      <td>-1895.0</td>\n",
       "      <td>4559.920560</td>\n",
       "    </tr>\n",
       "    <tr>\n",
       "      <th>2</th>\n",
       "      <td>2</td>\n",
       "      <td>106.0</td>\n",
       "      <td>-1414.0</td>\n",
       "      <td>10417.059900</td>\n",
       "    </tr>\n",
       "    <tr>\n",
       "      <th>3</th>\n",
       "      <td>3</td>\n",
       "      <td>150.0</td>\n",
       "      <td>-788.0</td>\n",
       "      <td>4618.885050</td>\n",
       "    </tr>\n",
       "    <tr>\n",
       "      <th>4</th>\n",
       "      <td>4</td>\n",
       "      <td>70.0</td>\n",
       "      <td>-515.0</td>\n",
       "      <td>669.131645</td>\n",
       "    </tr>\n",
       "    <tr>\n",
       "      <th>5</th>\n",
       "      <td>5</td>\n",
       "      <td>52.0</td>\n",
       "      <td>-400.0</td>\n",
       "      <td>0.000000</td>\n",
       "    </tr>\n",
       "    <tr>\n",
       "      <th>6</th>\n",
       "      <td>6</td>\n",
       "      <td>72.0</td>\n",
       "      <td>-200.0</td>\n",
       "      <td>912.258967</td>\n",
       "    </tr>\n",
       "  </tbody>\n",
       "</table>\n",
       "</div>"
      ],
      "text/plain": [
       "   Order_ID  Width  Need_Cut        T10/23\n",
       "0         0  220.0   -4247.0  22574.031480\n",
       "1         1  145.0   -1895.0   4559.920560\n",
       "2         2  106.0   -1414.0  10417.059900\n",
       "3         3  150.0    -788.0   4618.885050\n",
       "4         4   70.0    -515.0    669.131645\n",
       "5         5   52.0    -400.0      0.000000\n",
       "6         6   72.0    -200.0    912.258967"
      ]
     },
     "execution_count": 14,
     "metadata": {},
     "output_type": "execute_result"
    }
   ],
   "source": [
    "df = sample_po[['Order_ID',\"Width\",\"Need_Cut\",'T10/23']]\n",
    "filtered_df = df[df['Need_Cut'] < -100]\n",
    "filtered_df"
   ]
  },
  {
   "cell_type": "code",
   "execution_count": 15,
   "metadata": {},
   "outputs": [
    {
     "name": "stderr",
     "output_type": "stream",
     "text": [
      "/var/folders/60/xqht0mwj245053m4bbttqr4h0000gn/T/ipykernel_285/974114791.py:1: SettingWithCopyWarning: \n",
      "A value is trying to be set on a copy of a slice from a DataFrame.\n",
      "Try using .loc[row_indexer,col_indexer] = value instead\n",
      "\n",
      "See the caveats in the documentation: https://pandas.pydata.org/pandas-docs/stable/user_guide/indexing.html#returning-a-view-versus-a-copy\n",
      "  filtered_df['Upper_bound_cut_w'] = 0.5*filtered_df['T10/23']-filtered_df[\"Need_Cut\"]\n"
     ]
    },
    {
     "data": {
      "text/plain": [
       "0    15534.015740\n",
       "1     4174.960280\n",
       "2     6622.529950\n",
       "3     3097.442525\n",
       "4      849.565822\n",
       "5      400.000000\n",
       "6      656.129483\n",
       "Name: Upper_bound_cut_w, dtype: float64"
      ]
     },
     "execution_count": 15,
     "metadata": {},
     "output_type": "execute_result"
    }
   ],
   "source": [
    "filtered_df['Upper_bound_cut_w'] = 0.5*filtered_df['T10/23'] - filtered_df[\"Need_Cut\"]\n",
    "filtered_df['Upper_bound_cut_w']"
   ]
  },
  {
   "cell_type": "code",
   "execution_count": null,
   "metadata": {},
   "outputs": [],
   "source": []
  },
  {
   "cell_type": "code",
   "execution_count": 3,
   "metadata": {},
   "outputs": [
    {
     "data": {
      "text/html": [
       "<div>\n",
       "<style scoped>\n",
       "    .dataframe tbody tr th:only-of-type {\n",
       "        vertical-align: middle;\n",
       "    }\n",
       "\n",
       "    .dataframe tbody tr th {\n",
       "        vertical-align: top;\n",
       "    }\n",
       "\n",
       "    .dataframe thead th {\n",
       "        text-align: right;\n",
       "    }\n",
       "</style>\n",
       "<table border=\"1\" class=\"dataframe\">\n",
       "  <thead>\n",
       "    <tr style=\"text-align: right;\">\n",
       "      <th></th>\n",
       "      <th>Inventory_ID</th>\n",
       "      <th>Spec_Name</th>\n",
       "      <th>Thickness</th>\n",
       "      <th>Width</th>\n",
       "      <th>Length</th>\n",
       "      <th>Weigth</th>\n",
       "    </tr>\n",
       "  </thead>\n",
       "  <tbody>\n",
       "    <tr>\n",
       "      <th>0</th>\n",
       "      <td>TP235H001943</td>\n",
       "      <td>JSH270C-PO</td>\n",
       "      <td>2.6</td>\n",
       "      <td>1219</td>\n",
       "      <td>0</td>\n",
       "      <td>400.0</td>\n",
       "    </tr>\n",
       "    <tr>\n",
       "      <th>1</th>\n",
       "      <td>HTV1363/23</td>\n",
       "      <td>JSH270C-PO</td>\n",
       "      <td>2.6</td>\n",
       "      <td>1219</td>\n",
       "      <td>0</td>\n",
       "      <td>4000.0</td>\n",
       "    </tr>\n",
       "    <tr>\n",
       "      <th>2</th>\n",
       "      <td>HTV0828/23-D1</td>\n",
       "      <td>JSH270C-PO</td>\n",
       "      <td>2.6</td>\n",
       "      <td>1108</td>\n",
       "      <td>0</td>\n",
       "      <td>4266.0</td>\n",
       "    </tr>\n",
       "    <tr>\n",
       "      <th>3</th>\n",
       "      <td>HTV0895/23</td>\n",
       "      <td>JSH270C-PO</td>\n",
       "      <td>2.6</td>\n",
       "      <td>1219</td>\n",
       "      <td>0</td>\n",
       "      <td>5350.0</td>\n",
       "    </tr>\n",
       "  </tbody>\n",
       "</table>\n",
       "</div>"
      ],
      "text/plain": [
       "    Inventory_ID   Spec_Name  Thickness  Width  Length  Weigth\n",
       "0   TP235H001943  JSH270C-PO        2.6   1219       0   400.0\n",
       "1     HTV1363/23  JSH270C-PO        2.6   1219       0  4000.0\n",
       "2  HTV0828/23-D1  JSH270C-PO        2.6   1108       0  4266.0\n",
       "3     HTV0895/23  JSH270C-PO        2.6   1219       0  5350.0"
      ]
     },
     "execution_count": 3,
     "metadata": {},
     "output_type": "execute_result"
    }
   ],
   "source": [
    "sample_coil"
   ]
  },
  {
   "cell_type": "code",
   "execution_count": null,
   "metadata": {},
   "outputs": [],
   "source": [
    "\n",
    "# Convert DataFrame to dictionary\n",
    "orders = df.to_dict(orient='index')\n",
    "\n",
    "# Remove column names from values\n",
    "for key, value in orders.items():\n",
    "    orders[key] = list(value.values())\n",
    "orders"
   ]
  },
  {
   "cell_type": "markdown",
   "metadata": {},
   "source": [
    "## Problem Formulation\n",
    "\n",
    "Consider a set ${S}$ of available stock materials that can be cut to size to produce a set of finished parts. Each stock $s\\in S$ is characterized by a width $wd^S_s$, a weight $wt_s$ per piece, and is available in *limited* quantity. A customer order is received to product a set of finished products $F$. Each finished product $f\\in F$ is specified by a required weight $wt_f$ and width $wd^F_f$.\n",
    "\n",
    "The **cutting stock problem** is to find a minimum waste to fulfill the customer order from the stock materials.\n",
    "\n",
    "**Stocks**\n",
    "\n",
    "| stocks <br> $s$ | width <br> $wd^S_s$ | weight <br> $wt_s$ |\n",
    "| :--: | :--: | :--: |\n",
    "| A | 5 | 6 |\n",
    "| B | 6 | 7 |\n",
    "| C | 9 |10 |\n",
    "\n",
    "**Finished Parts**\n",
    "\n",
    "| finished parts <br> $f$ | width <br> $wd^F_f$ | weight <br> $wt_f$ |\n",
    "| :--: | :--: | :--: |\n",
    "| S | 2 | 20 |\n",
    "| M | 3 | 10 |\n",
    "| L | 4 | 20 |\n"
   ]
  },
  {
   "cell_type": "code",
   "execution_count": 2,
   "metadata": {},
   "outputs": [],
   "source": [
    "stocks = {\n",
    "    \"A\": {\"Width\": 1219, \"weight\": 4000},\n",
    "    \"B\": {\"Width\": 1219, \"weight\": 400},\n",
    "    \"C\": {\"Width\": 1108, \"weight\": 4266},\n",
    "    \"D\": {\"Width\": 1219, \"weight\": 5350},\n",
    "}\n",
    "\n",
    "finish = {\n",
    "    \"XXL\": {\"Width\": 220, \"need_cut\": -4247 , \"fc1\":22574},\n",
    "    \"L\": {\"Width\": 145, \"need_cut\": -1895, \"fc1\": 4559},\n",
    "    \"XL\": {\"Width\": 150, \"need_cut\": -788, \"fc1\": 4618},\n",
    "    \"M\": {\"Width\": 70, \"need_cut\": -515, \"fc1\": 669},\n",
    "    \"S\": {\"Width\": 52, \"need_cut\": -400, \"fc1\": 0},\n",
    "}"
   ]
  },
  {
   "cell_type": "markdown",
   "metadata": {},
   "source": [
    "## Patterns - Problem Space\n",
    "\n",
    "One approach to solving this problem is to create a list of all finished parts, a list of stocks for each length, and then use a set of binary decision variables to assign each finished product to a particular piece of stock. This approach will work well for a small problems, but the computational complexity scales much too rapidly with the size of the problem to be practical for business applications.\n",
    "\n",
    "A pattern is a list of finished parts that can be cut from a particular stock item.\n",
    "\n",
    "A pattern $p$ is specified by the stock $s_p$ assigned to the pattern and integers $cut_{pf}$ that specify how many finished parts of type $f$ are cut from stock $s_p$. A pattern $p\\in P$ is feasible if\n",
    "\n",
    "$$\n",
    "\\begin{align}\n",
    "\\sum_{f\\in F}cut_{pf}wd^F_f  & \\leq   wd^S_{s_p}\n",
    "\\end{align}\n",
    "$$\n",
    "\n",
    "The function `make_patterns` defined below produces a partial list of feasible patterns for given sets of stocks and finished parts. Each pattern is represented as dictionary that specifies an associated stock item, and a dictionary of cuts that specify the finished parts cut from the stock. The algorithm is simple, it just considers every finished parts and stock items, then reports the number of parts $f$ that can be cut from stock item $s$.\n",
    "\n",
    "A mathematical optimization model has five components, namely:\n",
    "\n",
    "- Sets and indices.\n",
    "- Parameters.\n",
    "- Decision variables.\n",
    "- Objective function(s).\n",
    "- Constraints."
   ]
  },
  {
   "cell_type": "markdown",
   "metadata": {},
   "source": []
  },
  {
   "cell_type": "markdown",
   "metadata": {},
   "source": [
    "## Optimal cutting using known patterns\n",
    "\n",
    "Given a list of patterns, the optimization problem is to compute how many copies of each pattern should be cut to meet the demand for finished parts at minimum cost.\n",
    "\n",
    "Let the index $s_p$ denote the stock specified by pattern $p$, and let $x_{s_p}$ denote the number pieces of stock $s_p$ is used. For a given list of patterns, the minimum cost optimization problem is a mixed integer linear optimization (MILO) subject to meeting demand constraints for each finished item.\n",
    "\n",
    "### Sets and Indices\n",
    "\n",
    "$s \\in \\text{Stock}=\\{1,2,\\dots, N\\}$: Set of available stock material units.\n",
    "\n",
    "$f \\in \\text{Finished Good}$: Set of final finised goods.\n",
    "\n",
    "### Decision variables\n",
    "\n",
    "$ \\text{trimloss}_i \\in [x \\text{ mm}, 4\\% \\text{ Mother\\_Coil\\_Width}]:  x (mm) $ the lower bound, depending on the thickness of the Mother Coil if stock $i$ is used; $4\\%$ the upper bound .\n",
    "\n",
    "$\\text{cut}_{i,j} \\in \\mathbb{N}$: Number of pieces of type $j$ cut out from stock material unit $i$.\n",
    "\n",
    "### Objective Functions\n",
    "\n",
    "- **Material Consumption:** Minimize the number of stock material units used.\n",
    "\n",
    "$$\n",
    "\\begin{equation}\n",
    "\\text{Min} \\sum_{i \\in \\text{Stock}}{\\text{trimloss}_i}\n",
    "\\tag{1.0}\n",
    "\\end{equation}\n",
    "$$\n",
    "\n",
    "### Constraints\n",
    "\n",
    "\n",
    "#### Weight Constraints\n",
    "- **Satisfy Demand:** Total weight of final pieces of type $j$ obtained must satisfy its demand requirement.\n",
    "\n",
    "$$\n",
    "\\begin{equation}\n",
    "\\text{Upper bound weight}_j \\geq P{p \\in \\text{Patterns}}{\\text{ Cut}_{p,j} \\cdot \\text{Weight per cut}_p}   \\quad \\forall j \\in \\text{Finished Goods}\n",
    "\\tag{2.1}\n",
    "\\end{equation}\n",
    "$$\n",
    "\n",
    "\n",
    "\n",
    "The following cell is an AMPL implementation of this optimization model."
   ]
  },
  {
   "cell_type": "markdown",
   "metadata": {},
   "source": []
  },
  {
   "cell_type": "code",
   "execution_count": 21,
   "metadata": {},
   "outputs": [],
   "source": [
    "from gurobipy import multidict\n",
    "\n",
    "number_of_vehicles = 2 \n",
    "vehicles_origin = [4, 6]\n",
    "vehicles_destination = [3, 0]\n",
    "# total_time_vehicle = [35, 27]\n",
    "\n",
    "truck = [i for i in range(number_of_vehicles)]\n",
    "starting_node = {}\n",
    "destination_nodes = {}\n",
    "time = {}\n",
    "for i in truck:\n",
    "  starting_node[i] = vehicles_origin[i]\n",
    "  destination_nodes[i] = vehicles_destination[i]\n",
    "#   time[i] = total_time_vehicle[i]\n",
    "\n",
    "\n",
    "multi = {}\n",
    "for i in range(number_of_vehicles):\n",
    "  l = [vehicles_origin[i],vehicles_destination[i],\n",
    "    #    total_time_vehicle[i]\n",
    "       ]\n",
    "  multi[i] = l\n",
    "\n",
    "truck, starting_node, destination_nodes = multidict(multi)"
   ]
  },
  {
   "cell_type": "code",
   "execution_count": 22,
   "metadata": {},
   "outputs": [
    {
     "data": {
      "text/plain": [
       "{0: [4, 3], 1: [6, 0]}"
      ]
     },
     "execution_count": 22,
     "metadata": {},
     "output_type": "execute_result"
    }
   ],
   "source": [
    "multi"
   ]
  },
  {
   "cell_type": "code",
   "execution_count": 23,
   "metadata": {},
   "outputs": [],
   "source": [
    "piece_reqs = [length*req for length, req in multi.values()]"
   ]
  },
  {
   "cell_type": "code",
   "execution_count": null,
   "metadata": {},
   "outputs": [],
   "source": []
  }
 ],
 "metadata": {
  "kernelspec": {
   "display_name": "optima",
   "language": "python",
   "name": "python3"
  },
  "language_info": {
   "codemirror_mode": {
    "name": "ipython",
    "version": 3
   },
   "file_extension": ".py",
   "mimetype": "text/x-python",
   "name": "python",
   "nbconvert_exporter": "python",
   "pygments_lexer": "ipython3",
   "version": "3.12.2"
  }
 },
 "nbformat": 4,
 "nbformat_minor": 2
}
