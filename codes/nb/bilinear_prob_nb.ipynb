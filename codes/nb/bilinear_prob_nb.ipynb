{
 "cells": [
  {
   "cell_type": "code",
   "execution_count": 1,
   "metadata": {},
   "outputs": [
    {
     "name": "stdout",
     "output_type": "stream",
     "text": [
      "AMPL Development Version 20240404 (MSVC 19.38.33135.0, 64-bit)\n",
      "Demo license with maintenance expiring 20260131.\n",
      "Using license file \"c:\\Users\\thuduong\\Anaconda3\\envs\\optima\\Lib\\site-packages\\ampl_module_base\\bin\\ampl.lic\".\n",
      "\n"
     ]
    }
   ],
   "source": [
    "import pandas as pd\n",
    "import numpy as np\n",
    "import math\n",
    "\n",
    "SOLVER_MILO = \"highs\"\n",
    "SOLVER_MINLO = \"ipopt\"\n",
    "\n",
    "from amplpy import AMPL, ampl_notebook\n",
    "\n",
    "ampl = ampl_notebook(\n",
    "    modules=[\"coin\", \"highs\"],  # modules to install\n",
    "    license_uuid=\"default\",  # license to use\n",
    ")  # instantiate AMPL object and register magics"
   ]
  },
  {
   "cell_type": "code",
   "execution_count": 33,
   "metadata": {},
   "outputs": [],
   "source": [
    "## PARAMETER\n",
    "# over cut bound\n",
    "BOUND = 0.3\n",
    "MIN_MARGIN = 8\n",
    "\n",
    "# DATA TEST 1\n",
    "stocks = {\n",
    "    \"S1\": {\"width\": 1219, \"weight\": 4395 },\n",
    "    \"S2\": {\"width\": 1219, \"weight\": 9260},\n",
    "    \"S3\": {\"width\": 1018, \"weight\": 3475},\n",
    "    # \"S4\": {\"width\": 1219, \"weight\": 8535},\n",
    "    \"S5\": {\"width\": 236, \"weight\": 1571},\n",
    "}\n",
    "\n",
    "finish = {\n",
    "    \"F1\": {\"width\": 235, \"need_cut\": 800 },\n",
    "    \"F2\": {\"width\": 147, \"need_cut\": 1308},\n",
    "    \"F3\": {\"width\": 136, \"need_cut\": 1290},\n",
    "    \"F4\": {\"width\": 68, \"need_cut\": 600},\n",
    "    \"F5\": {\"width\": 60, \"need_cut\": 170},\n",
    "    \"F6\": {\"width\": 85, \"need_cut\": 132},\n",
    "    \"F7\": {\"width\": 57, \"need_cut\": 100},\n",
    "    \"F8\": {\"width\": 92, \"need_cut\": 100}, \n",
    "    \"F9\": {\"width\": 57, \"need_cut\": 735}, \n",
    "}\n",
    "\n",
    "# uu tien cat het 1 finished goods trong 1 cuon thep\n",
    "# -> need cut chuyen thanh duong truoc khi sang finished goods khac"
   ]
  },
  {
   "cell_type": "code",
   "execution_count": null,
   "metadata": {},
   "outputs": [],
   "source": []
  },
  {
   "cell_type": "markdown",
   "metadata": {},
   "source": [
    "## 0.Problem with known naive patterns\n",
    "\n",
    "Given a list of patterns, the optimization problem is to compute how many copies of each pattern should be cut to fit the width of the Mother Coil and under the weight demand of the Finished Goods\n",
    "\n",
    "A pattern $p$ is specified by the stock $s_p$ assigned to the pattern and <br>\n",
    "integers $ap_{f}$ that specify the maximum of the finished parts of type $f$ are cut from stock $s_p$ and <br>\n",
    "$\\text{margin}^S_{s}$ is the allowed minimum margin of the according steel coil type; <br>\n",
    "$wu^S_{s}$ the weight unit per mm wight of the coil stock, which is the weight divided by the MC width; <br>\n",
    "$d^F_f$ the weight demand of the Finished Goods. A pattern $p\\in P$ is feasible if\n",
    "\n",
    "$$\n",
    "\\begin{align}\n",
    "& ap_{f}l^F_f  \\leq   l^S_{s} - \\text{margin}^S_{s} && \\forall f\\in F\\\\\n",
    "& wu_{s} \\times ( ap_{f} l^F_f) \\leq d^F_f && \\forall f\\in F\n",
    "\\end{align}\n",
    "$$"
   ]
  },
  {
   "cell_type": "code",
   "execution_count": 3,
   "metadata": {},
   "outputs": [
    {
     "name": "stdout",
     "output_type": "stream",
     "text": [
      "No feasible pattern was found for Stock S4 and FG F6\n",
      "No feasible pattern was found for Stock S4 and FG F7\n",
      "No feasible pattern was found for Stock S4 and FG F8\n"
     ]
    },
    {
     "data": {
      "text/plain": [
       "{'F1': 1,\n",
       " 'F2': 4,\n",
       " 'F3': 4,\n",
       " 'F4': 4,\n",
       " 'F5': 1,\n",
       " 'F6': 0,\n",
       " 'F7': 0,\n",
       " 'F8': 0,\n",
       " 'F9': 5}"
      ]
     },
     "execution_count": 3,
     "metadata": {},
     "output_type": "execute_result"
    }
   ],
   "source": [
    "from codes.create_patterns import *\n",
    "\n",
    "naive_patterns = make_patterns_by_weight_width(stocks, finish, BOUND, MIN_MARGIN)\n",
    "\n",
    "# display(naive_patterns)\n",
    "ap_upper_bound(naive_patterns,finish)"
   ]
  },
  {
   "cell_type": "code",
   "execution_count": 38,
   "metadata": {},
   "outputs": [
    {
     "name": "stdout",
     "output_type": "stream",
     "text": [
      "[{'stock': 'S3', 'cuts': {'F4': 0, 'F2': 0, 'F5': 0, 'F3': 0, 'F1': 1, 'F6': 0, 'F9': 0}}, {'stock': 'S3', 'cuts': {'F4': 0, 'F2': 0, 'F5': 0, 'F3': 1, 'F1': 1, 'F6': 0, 'F9': 0}}, {'stock': 'S3', 'cuts': {'F4': 0, 'F2': 0, 'F5': 0, 'F3': 2, 'F1': 1, 'F6': 0, 'F9': 0}}, {'stock': 'S3', 'cuts': {'F4': 0, 'F2': 0, 'F5': 0, 'F3': 3, 'F1': 1, 'F6': 0, 'F9': 0}}, {'stock': 'S3', 'cuts': {'F4': 0, 'F2': 0, 'F5': 0, 'F3': 4, 'F1': 1, 'F6': 0, 'F9': 0}}, {'stock': 'S3', 'cuts': {'F4': 0, 'F2': 1, 'F5': 0, 'F3': 0, 'F1': 1, 'F6': 0, 'F9': 0}}, {'stock': 'S3', 'cuts': {'F4': 0, 'F2': 1, 'F5': 0, 'F3': 1, 'F1': 1, 'F6': 0, 'F9': 0}}, {'stock': 'S3', 'cuts': {'F4': 0, 'F2': 1, 'F5': 0, 'F3': 2, 'F1': 1, 'F6': 0, 'F9': 0}}, {'stock': 'S3', 'cuts': {'F4': 0, 'F2': 1, 'F5': 0, 'F3': 3, 'F1': 1, 'F6': 0, 'F9': 0}}, {'stock': 'S3', 'cuts': {'F4': 0, 'F2': 1, 'F5': 0, 'F3': 4, 'F1': 1, 'F6': 0, 'F9': 0}}]\n"
     ]
    }
   ],
   "source": [
    "patterns = []\n",
    "\n",
    "for s in stocks:\n",
    "    max_cuts_dict, min_cuts_dict = ap_stock_bound(naive_patterns,finish,s)\n",
    "    generate_cut_combinations(s, min_cuts_dict, max_cuts_dict, patterns)"
   ]
  },
  {
   "cell_type": "markdown",
   "metadata": {},
   "source": [
    "Here, we will assume there exists the optimal solution in the combination created from the naive pattern\n",
    "\n",
    "The function `make_patterns` defined below produces a partial list of feasible patterns for given sets of stocks and finished parts. Each pattern is represented as dictionary that specifies an associated stock item, and a dictionary of cuts that specify the finished parts cut from the stock. The algorithm is simple, it just considers every finished parts and stock items, then reports the number of parts $f$ that can be cut from stock item $s$.\n",
    "\n",
    "The `cut_patterns` model requires a known list of cutting patterns. This works well if the patterns comprising an optimal solution to the problem are known. But since they are not initially known, an optimization model is needed that simultaneously solves for an optimal patterns and the cutting list."
   ]
  },
  {
   "cell_type": "markdown",
   "metadata": {},
   "source": [
    "## 1.Cutting Stock Problem:\n",
    "Let binary variable $b_{sp}\\in\\mathbb{Z}_2$ denote the assignment of stock $s$ to pattern $p$, and let $P = 0, 1, \\ldots, N_p-1$ index a list of patterns, $w^S_{s}$ the weight unit per mm wight of the coil stock, which is the weight divided by the width. This solution is attempted using a mixed-integer nonlinear optimization (MINLO) solver.\n",
    "\n",
    "For sufficiently large $N_p$, an optimal solution to the stock cutting problem is given by the model"
   ]
  },
  {
   "cell_type": "code",
   "execution_count": 29,
   "metadata": {},
   "outputs": [],
   "source": [
    "def cut_pattern_bilinear(stocks, finish, Np, pattern_prob):\n",
    "    # Np=len(finish) # CAI NAY CO ANH HUONG GI\n",
    "\n",
    "    pattern_prob.eval(\"reset data;\")\n",
    "    pattern_prob.set[\"S\"] = list(stocks.keys())\n",
    "    pattern_prob.set[\"F\"] = list(finish.keys())\n",
    "    pattern_prob.set[\"P\"] = list(range(Np)) # list number of patterns\n",
    " \n",
    "    pattern_prob.param[\"wu\"] = {s: stocks[s][\"weight\"]/stocks[s][\"width\"] for s in list(stocks.keys())} # stock weight per unit (unique)\n",
    "    pattern_prob.param[\"width_s\"] = {s: stocks[s][\"width\"] for s in stocks.keys()}\n",
    "    \n",
    "    pattern_prob.param[\"width_f\"] = {f: finish[f][\"width\"] for f in finish.keys()}\n",
    "    pattern_prob.param[\"demand_finish\"] = {f: finish[f][\"need_cut\"] for f in finish.keys()}\n",
    "    pattern_prob.param[\"f_upper_demand\"] = {f: finish[f][\"need_cut\"] + BOUND * finish[f][\"need_cut\"] for f in finish.keys()}\n",
    "\n",
    "    pattern_prob.param[\"a_upper_bound\"] = ap_upper_bound(naive_patterns,finish)\n",
    "    pattern_prob.get_output(\"solve;\")\n",
    "\n",
    "    return pattern_prob\n"
   ]
  },
  {
   "cell_type": "markdown",
   "metadata": {},
   "source": [
    "### TEST 1\n",
    "\n",
    "\\begin{align}\n",
    "\\min \\text{trim cost}: \\quad & \\sum_{s\\in S} b_{sp} l^S_s - \\sum_{f\\in F}a_{fp}l^F_f && \\forall p\\in P\\\\\n",
    "\\text{s.t.} \\quad\n",
    "& \\sum_{s\\in S}b_{sp} =  1 && \\forall p\\in P \\\\\n",
    "& 96\\% \\times \\sum_{s\\in S}b_{sp} l^S_s \\leq \\sum_{f\\in F}a_{fp}l^F_f \\leq \\sum_{s\\in S}b_{sp} l^S_s -\\text{margin}_{s} && \\forall p\\in P \\\\\n",
    "& \\sum_{s \\in S}b_{sp} wu^S_{s} \\times (a_{fp} l^F_{f})  \\leq d^F_f && \\forall f\\in F, \\forall p\\in P \\\\\n",
    "\n",
    "& a_{fp} \\in \\mathbb{Z}_+ && \\forall f\\in F,  \\forall p\\in P , \\\\\n",
    "& b_{sp} \\in \\{0,1\\} && \\forall s\\in S,  \\forall p\\in P \\\\\n",
    "\\end{align}\n",
    "\n",
    "### 1.1.Explaination:\n",
    "##### A. Pattern Constraint\n",
    "For each *Pattern*, find one stock that fit the requirement of minimization\n",
    "$$\n",
    "\\sum_{s\\in S}b_{sp} =  1 \\quad \\forall p\\in P \n",
    "$$\n",
    "##### B. Width Demaind Constraint\n",
    "The width of the finished goods cut for each item $f \\in F$ \n",
    "should be at least 96% of the width of the mother coil (with a maximum 4% trim loss), but no greater than the width of the mother coil minus the stock margin.\"\n",
    "$$\n",
    "96\\% \\times \\sum_{s\\in S}b_{sp} l^S_s \\leq \\sum_{f\\in F}a_{fp}l^F_f \\leq \\sum_{s\\in S}b_{sp} l^S_s -\\text{margin}_{s} \\quad \\forall p\\in P \n",
    "$$\n",
    "##### C. Weight Demand Constraint\n",
    "Find, for each *Pattern*, the stock whose weight ensures that the combined weight of the after-cut pieces is either less than or equal to the upper-bound weight of the Finished Goods.\n",
    "$$\n",
    "\\sum_{s \\in S} b_{sp} wu^S_{s} \\times (a_{fp} l^F_{f}) \\leq d_f \\quad \\forall p \\in P ,  \\forall f \\in F \n",
    "$$"
   ]
  },
  {
   "cell_type": "code",
   "execution_count": 30,
   "metadata": {},
   "outputs": [],
   "source": [
    "##### TEST 1\n",
    "# problem to find the stock with pattern that fits the weight\n",
    "#because heavier stock (same width) can also fit the pattern\n",
    "# Find the patterns of stock that minimize the loss BY PATTERN\n",
    "m = AMPL()\n",
    "m.option[\"solver\"] = SOLVER_MINLO\n",
    "m.eval(\n",
    "    \"\"\"\n",
    "        set S;\n",
    "        set F;\n",
    "        set P;\n",
    "\n",
    "        # width stock\n",
    "        param width_s{S};\n",
    "        # width finished pieces\n",
    "        param width_f{F};\n",
    "        \n",
    "        # weight per unit of stock\n",
    "        param wu{S};\n",
    "\n",
    "        # upper bound with over-cut\n",
    "        param f_upper_demand{F};\n",
    "        param demand_finish{F};\n",
    "        param a_upper_bound{F};\n",
    "\n",
    "        # how many f pieces are returned from pattern p\n",
    "        var a{f in F, p in P} integer >= 0 <= a_upper_bound[f];\n",
    "        # which stock s is choosen for pattern p\n",
    "        var b{S, P} binary;\n",
    "\n",
    "        # Find the patterns of stock that minimize the loss\n",
    "        minimize trim_loss {p in P}:\n",
    "          sum{s in S} b[s, p] * width_s[s] - sum{f in F} a[f,p] * width_f[f];\n",
    "        \n",
    "        subject to assign_each_stock_to_pattern {p in P}:\n",
    "          sum{s in S} b[s, p]  = 1;\n",
    "        \n",
    "        subject to feasible_pattern_max_margin {p in P}:\n",
    "          sum{f in F} a[f,p] * width_f[f] >= 0.96 * sum{s in S} b[s,p] * width_s[s];\n",
    "        \n",
    "        subject to feasible_pattern_min_margin {p in P}:\n",
    "          sum{f in F} a[f,p] * width_f[f] <= sum{s in S} b[s,p] * width_s[s] - 8;\n",
    "\n",
    "        # subject to weight_demand {p in P, f in F}:\n",
    "        #   a[f,p] * width_f[f] * sum{s in S} b[s, p] * wu[s] <= f_upper_demand[f];\n",
    "    \"\"\"\n",
    ")"
   ]
  },
  {
   "cell_type": "code",
   "execution_count": 34,
   "metadata": {},
   "outputs": [
    {
     "name": "stdout",
     "output_type": "stream",
     "text": [
      "Error: Cannot find optimized pattern for stock S1\n",
      "Error: Cannot find optimized pattern for stock S2\n",
      "Error: Cannot find optimized pattern for stock S3\n",
      "Error: Cannot find optimized pattern for stock S5\n"
     ]
    }
   ],
   "source": [
    "# Np=len(naive_patterns)\n",
    "Np = 100\n",
    "solved_prob = cut_pattern_bilinear(stocks, finish, Np, m)\n",
    "\n",
    "# Retrieve the patterns\n",
    "patterns = []\n",
    "for i, s in enumerate(stocks):\n",
    "    try:\n",
    "        patterns.append({\n",
    "            \"stock\": [(s, p) for p in range(Np) if solved_prob.var[\"b\"][s, p].value() > 0][0],\n",
    "            # \"patterns\": {f: round(solved_prob.var[\"a\"][f, p].value()) for p in range(Np) if solved_prob.var[\"b\"][s, p].value() > 0 and f in finish.keys()}\n",
    "        })\n",
    "    except:\n",
    "        print(f\"Error: Cannot find optimized pattern for stock {s}\")\n"
   ]
  },
  {
   "cell_type": "code",
   "execution_count": 32,
   "metadata": {},
   "outputs": [
    {
     "data": {
      "text/plain": [
       "[]"
      ]
     },
     "execution_count": 32,
     "metadata": {},
     "output_type": "execute_result"
    }
   ],
   "source": [
    "# Given dictionaries of stocks and finished parts, and a list of patterns,\n",
    "# find minimum choice of patterns to cut\n",
    "\n",
    "def cut_patterns_width(stocks, finish, patterns):\n",
    "    m = AMPL()\n",
    "\n",
    "    m.eval(\n",
    "    \"\"\"\n",
    "        set S;\n",
    "        set F;\n",
    "        set P;\n",
    "\n",
    "        param a{F, P};\n",
    "        # width stock\n",
    "        param width_s{S};\n",
    "        # width finished pieces\n",
    "        param width_f{F};\n",
    "\n",
    "        # which stock s is choosen for pattern p\n",
    "        var b{S, P} binary;\n",
    "\n",
    "        minimize trim_loss {p in P}:\n",
    "            sum{s in S} b[s, p] * width_s[s] - sum{f in F} a[f,p] * width_f[f];\n",
    "        \n",
    "        subject to assign_each_stock_to_pattern {p in P}:\n",
    "            sum{s in S} b[s, p]  = 1;\n",
    "\n",
    "        subject to feasible_pattern_min_margin {p in P}:\n",
    "            sum{f in F} a[f,p] * width_f[f] <= sum{s in S} b[s,p] * width_s[s] - 8;\n",
    "    \"\"\"\n",
    "    )\n",
    "\n",
    "    m.set[\"S\"] = list(stocks.keys())\n",
    "    m.set[\"F\"] = list(finish.keys())\n",
    "    m.set[\"P\"] = list(range(len(patterns)))\n",
    "\n",
    "    # s = {p: patterns[p][\"stock\"] for p in range(len(patterns))}\n",
    "    a = {\n",
    "        (f, p): patterns[p][\"cuts\"][f]\n",
    "        for p in range(len(patterns))\n",
    "        for f in finish.keys()\n",
    "    }\n",
    "    m.param[\"a\"] = a\n",
    "\n",
    "    m.option[\"solver\"] = SOLVER_MILO\n",
    "    m.get_output(\"solve;\")\n",
    "\n",
    "    return [m.var[\"b\"][p].value() for p in range(len(patterns))]\n",
    "\n",
    "x, cost = cut_patterns_width(stocks, finish, naive_patterns)\n",
    "x"
   ]
  },
  {
   "cell_type": "markdown",
   "metadata": {},
   "source": [
    "### TEST 2\n",
    "Remove upper bound for B. Width Demaind Constraint, as it could be satisfied in the naive pattern already\n",
    "\n",
    "\\begin{align}\n",
    "\\min \\text{trim cost}: \\quad & \\sum_{s\\in S} b_{sp} l^S_s - \\sum_{f\\in F}a_{fp}l^F_f && \\forall p\\in P\\\\\n",
    "\\text{s.t.} \\quad\n",
    "& \\sum_{s\\in S}b_{sp} =  1 && \\forall p\\in P \\\\\n",
    "& 96\\% \\times \\sum_{s\\in S}b_{sp} l^S_s \\leq \\sum_{f\\in F}a_{fp}l^F_f && \\forall p\\in P \\\\\n",
    "& \\sum_{s \\in S}b_{sp} wu^S_{s} \\times (a_{fp} l^F_{f})  \\leq d^F_f && \\forall p\\in P,  \\forall f\\in F \\\\\n",
    "\n",
    "& a_{fp} \\in \\mathbb{Z}_+ && \\forall f\\in F,  \\forall p\\in P , \\\\\n",
    "& b_{sp} \\in \\{0,1\\} && \\forall s\\in S,  \\forall p\\in P \\\\\n",
    "\\end{align}\n",
    "\n"
   ]
  },
  {
   "cell_type": "code",
   "execution_count": null,
   "metadata": {},
   "outputs": [],
   "source": [
    "##### TEST 1\n",
    "\n",
    "# problem to find the stock with pattern that fits the weight\n",
    "#because heavier stock (same width) can also fit the pattern\n",
    "# Find the patterns of stock that minimize the loss BY PATTERN\n",
    "\n",
    "m1 = AMPL()\n",
    "m1.option[\"solver\"] = SOLVER_MINLO\n",
    "m1.eval(\n",
    "    \"\"\"\n",
    "       set S;\n",
    "        set F;\n",
    "        set P;\n",
    "\n",
    "        # length stock\n",
    "        param width_s{S};\n",
    "        # length finished pieces\n",
    "        param width_f{F};\n",
    "        \n",
    "        # WEIGHT STOCK\n",
    "        param w{S};\n",
    "        # weight per unit of stock\n",
    "        param wu{S};\n",
    "\n",
    "        # upper bound with over-cut\n",
    "        param f_upper_demand{F};\n",
    "        param demand_finish{F};\n",
    "        param a_upper_bound{F};\n",
    "\n",
    "        # how many f pieces are returned from pattern p\n",
    "        var a{f in F, p in P} integer >= 0 <= a_upper_bound[f];\n",
    "        # which stock s is choosen for pattern p\n",
    "        var b{S, P} binary;\n",
    "\n",
    "        # Find the patterns of stock that minimize the loss\n",
    "        minimize trim_loss {p in P}:\n",
    "          sum{s in S} b[s, p] * width_s[s] - sum{f in F} a[f,p] * width_f[f];\n",
    "        \n",
    "        subject to assign_each_stock_to_pattern {p in P}:\n",
    "          sum{s in S} b[s, p]  = 1;\n",
    "        \n",
    "        subject to feasible_pattern_max_margin {p in P}:\n",
    "          sum{f in F} a[f,p] * width_f[f] >= 0.96 * sum{s in S} b[s,p] * width_s[s];\n",
    "        \n",
    "        # subject to feasible_pattern_min_margin {p in P}:\n",
    "        #   sum{f in F} a[f,p] * width_f[f] <= sum{s in S} b[s,p] * width_s[s] - 8;\n",
    "\n",
    "        subject to demand {p in P, f in F}:\n",
    "          a[f,p] * width_f[f] * sum{s in S} b[s, p] * wu[s] <= f_upper_demand[f];\n",
    "    \"\"\"\n",
    ")"
   ]
  },
  {
   "cell_type": "code",
   "execution_count": null,
   "metadata": {},
   "outputs": [],
   "source": [
    "Np=len(naive_patterns)\n",
    "solved_prob = cut_pattern_bilinear(stocks, finish, Np, m)\n",
    "\n",
    "# Retrieve the patterns\n",
    "patterns = []\n",
    "for i, s in enumerate(stocks):\n",
    "    try:\n",
    "        patterns.append({\n",
    "            \"stock\": [(s, p) for p in range(Np) if solved_prob.var[\"b\"][s, p].value() > 0][0],\n",
    "            # \"patterns\": {f: round(solved_prob.var[\"a\"][f, p].value()) for p in range(Np) if solved_prob.var[\"b\"][s, p].value() > 0 and f in finish.keys()}\n",
    "        })\n",
    "    except:\n",
    "        print(f\"Error: Cannot find optimized pattern for stock {s}\")\n"
   ]
  },
  {
   "cell_type": "code",
   "execution_count": null,
   "metadata": {},
   "outputs": [],
   "source": []
  }
 ],
 "metadata": {
  "kernelspec": {
   "display_name": "optima",
   "language": "python",
   "name": "python3"
  },
  "language_info": {
   "codemirror_mode": {
    "name": "ipython",
    "version": 3
   },
   "file_extension": ".py",
   "mimetype": "text/x-python",
   "name": "python",
   "nbconvert_exporter": "python",
   "pygments_lexer": "ipython3",
   "version": "3.12.2"
  }
 },
 "nbformat": 4,
 "nbformat_minor": 2
}
