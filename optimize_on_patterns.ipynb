{
 "cells": [
  {
   "cell_type": "code",
   "execution_count": 1,
   "metadata": {},
   "outputs": [
    {
     "name": "stdout",
     "output_type": "stream",
     "text": [
      "AMPL Development Version 20240404 (MSVC 19.38.33135.0, 64-bit)\n",
      "Demo license with maintenance expiring 20260131.\n",
      "Using license file \"c:\\Users\\thuduong\\Anaconda3\\envs\\optima\\Lib\\site-packages\\ampl_module_base\\bin\\ampl.lic\".\n",
      "\n"
     ]
    }
   ],
   "source": [
    "import pandas as pd\n",
    "import numpy as np\n",
    "import math\n",
    "\n",
    "SOLVER_MILO = \"highs\"\n",
    "SOLVER_MINLO = \"ipopt\"\n",
    "\n",
    "from amplpy import AMPL, ampl_notebook\n",
    "\n",
    "ampl = ampl_notebook(\n",
    "    modules=[\"coin\", \"highs\"],  # modules to install\n",
    "    license_uuid=\"default\",  # license to use\n",
    ")  # instantiate AMPL object and register magics"
   ]
  },
  {
   "cell_type": "markdown",
   "metadata": {},
   "source": [
    "### A. Optimize on selected stock then compare the result (base case)"
   ]
  },
  {
   "cell_type": "code",
   "execution_count": null,
   "metadata": {},
   "outputs": [],
   "source": [
    "# DATA TEST 1\n",
    "### uu tien cat het 1 finished goods trong 1 cuon thep\n",
    "### -> need cut chuyen thanh duong truoc khi sang finished goods khac\n",
    "###\n",
    "### uu tien trim-loss hay weight loss thap hon\n",
    "### ->\n",
    "###\n",
    "### ---> chon coil cat duoc het nhieu cac don va co trim loss that"
   ]
  },
  {
   "cell_type": "markdown",
   "metadata": {},
   "source": [
    "### B. Optimize with test data - Dont know the solution at first\n",
    "#### Try test with boundary on % need cut \n",
    "- Case 0: + 30% need cut\n",
    "- Case 1: need cut + 300% forecast\n",
    "- Case 2: need cut + 600% forecast\n",
    "\n",
    "#### Input Parameters"
   ]
  },
  {
   "cell_type": "code",
   "execution_count": 2,
   "metadata": {},
   "outputs": [],
   "source": [
    "## PARAMETER - CASE 1\n",
    "PARAMS = {\"warehouse\": \"HSC\"\n",
    "          ,\"spec_name\": \"JSH270C-PO\" # yeu cau chuan hoa du lieu OP - PO\n",
    "          ,\"thickness\": 1.6\n",
    "          ,\"maker\" : \"CSVC\"\n",
    "          ,\"stock_ratio\": { #get from app \n",
    "                    \"default\": 2\n",
    "                }\n",
    "        #   ,\"forecast_scenario\":\n",
    "          }\n",
    "\n",
    "\n",
    "margin_dict = { #save margin_dict in azure env\n",
    "    \"thickness_2.6\": {\n",
    "        \"thickness\": 2.6,\n",
    "        \"margin\": 10\n",
    "    },\n",
    "    \"thickness_2\": {\n",
    "        \"thickness\": 2,\n",
    "        \"margin\": 8\n",
    "    },\n",
    "    \"thickness_1.6\": {\n",
    "        \"thickness\": 1.6,\n",
    "        \"margin\": 6\n",
    "    }\n",
    "}"
   ]
  },
  {
   "cell_type": "code",
   "execution_count": 3,
   "metadata": {},
   "outputs": [
    {
     "name": "stdout",
     "output_type": "stream",
     "text": [
      "MIN_MARGIN:6\n",
      "BOUND_VALUE:2\n"
     ]
    }
   ],
   "source": [
    "# GET ALL PARAMS\n",
    "# print(\"Thickness of 2.6:\", margin_dict[\"Thickness_2.6\"][\"margin\"])\n",
    "MIN_MARGIN = margin_dict[f\"thickness_{PARAMS[\"thickness\"]}\"][\"margin\"]\n",
    "print(f\"MIN_MARGIN:{MIN_MARGIN}\")\n",
    "\n",
    "BOUND_KEY = next(iter(PARAMS['stock_ratio']))\n",
    "BOUND_VALUE = PARAMS['stock_ratio'][BOUND_KEY]\n",
    "print(f\"BOUND_VALUE:{BOUND_VALUE}\")"
   ]
  },
  {
   "cell_type": "markdown",
   "metadata": {},
   "source": [
    "#### Input & Process Data"
   ]
  },
  {
   "cell_type": "code",
   "execution_count": 4,
   "metadata": {},
   "outputs": [
    {
     "name": "stdout",
     "output_type": "stream",
     "text": [
      "2\n"
     ]
    }
   ],
   "source": [
    "from codes.process_df import filter_stock_excel_to_dict\n",
    "file_path = \"data/test_mc_df.xlsx\"\n",
    "stock_key, value_columns = \"inventory_id\", ['receiving_date','status',\"width\", \"weight\"]\n",
    "stocks = filter_stock_excel_to_dict(file_path, stock_key, value_columns, PARAMS, PRIORITY = \"CASE_1\")\n",
    "print(len(stocks))\n",
    "# list of stock >> list of need cut PO\n",
    "# Improve: need rules to pick up stock to the pool"
   ]
  },
  {
   "cell_type": "code",
   "execution_count": 5,
   "metadata": {},
   "outputs": [
    {
     "data": {
      "text/plain": [
       "10"
      ]
     },
     "execution_count": 5,
     "metadata": {},
     "output_type": "execute_result"
    }
   ],
   "source": [
    "from codes.process_df import filter_finish_excel_to_dict\n",
    "\n",
    "file_path = \"data/test_finish_df_Jul2022.xlsx\"\n",
    "finish_key, value_columns = \"order_id\", [\"width\", \"need_cut\", f\"upper_bound_{BOUND_KEY}\", \"fc1\", \"fc2\", \"fc3\"]\n",
    "finish = filter_finish_excel_to_dict(file_path, finish_key, value_columns, PARAMS, BOUND_KEY, BOUND_VALUE)\n",
    "len(finish)\n",
    "\n",
    "# nen loc list need cut voi so am truoc,\n",
    "#Improve: uu tien thu solion voi FG co width lon truoc"
   ]
  },
  {
   "cell_type": "markdown",
   "metadata": {},
   "source": [
    "#### Naive patterns and combination"
   ]
  },
  {
   "cell_type": "code",
   "execution_count": 6,
   "metadata": {},
   "outputs": [
    {
     "name": "stdout",
     "output_type": "stream",
     "text": [
      "dict_keys(['S813', 'S885'])\n"
     ]
    }
   ],
   "source": [
    "from codes.create_patterns import *\n",
    "naive_patterns = make_patterns_by_weight_width(stocks, finish, BOUND_KEY, MIN_MARGIN)\n",
    "\n",
    "# display(naive_patterns)\n",
    "len(naive_patterns)\n",
    "print(stocks.keys())\n",
    "# uu tien so need cut va so can cua mother coil ko gap nhau qua 5 (X) lan. de combination ko loi"
   ]
  },
  {
   "cell_type": "code",
   "execution_count": 7,
   "metadata": {},
   "outputs": [],
   "source": [
    "def generate_cut_combinations_with_timeout1(stock_id, min_c_values, max_c_values, pattern, TIMEOUT):\n",
    "\n",
    "    def generate_combinations_util(keys, current_combination, start_time, TIMEOUT):\n",
    "\n",
    "        if not keys:\n",
    "            if any(current_combination.values()):  # Check if any 'F' value is non-zero, remove the case all zeros\n",
    "                pattern.append({'stock': stock_id, 'cuts': current_combination})\n",
    "            return\n",
    "        \n",
    "        key = keys[0]\n",
    "        min_c = min_c_values.get(key, 0) #retrieves the value associated, 0 if not found\n",
    "        max_c = max_c_values.get(key, 0)\n",
    "\n",
    "        for c in range(max_c, min_c - 1, -1):\n",
    "            # Check if the timeout has been exceeded\n",
    "            if time.time() - start_time >= TIMEOUT:\n",
    "                print(f\"key{key}, timeout{time.time() - start_time}\")\n",
    "                return pattern  # Return the pattern if timeout occurs\n",
    "            else:\n",
    "                new_combination = current_combination.copy()\n",
    "                new_combination[key] = c\n",
    "                generate_combinations_util(keys[1:], new_combination, start_time, TIMEOUT)\n",
    "\n",
    "    # keys = set(min_c_values.keys()) | set(max_c_values.keys()) # converts any iterable into a set without order\n",
    "    reorderd_max_c = change_order_dict(max_c_values)\n",
    "    keys = list(reorderd_max_c.keys())\n",
    "\n",
    "    import time\n",
    "    start_time = time.time()\n",
    "    generate_combinations_util(list(keys), {},start_time, TIMEOUT)"
   ]
  },
  {
   "cell_type": "code",
   "execution_count": 8,
   "metadata": {},
   "outputs": [
    {
     "name": "stdout",
     "output_type": "stream",
     "text": [
      "Start create combination for stock S885\n",
      "keyF14, timeout31.399585485458374\n",
      "keyF15, timeout31.407603979110718\n",
      "keyF17, timeout31.407603979110718\n",
      "keyF18, timeout31.407603979110718\n",
      "keyF10, timeout31.408599853515625\n",
      "keyF11, timeout31.408599853515625\n",
      "keyF12, timeout31.408599853515625\n",
      "keyF13, timeout31.408599853515625\n"
     ]
    }
   ],
   "source": [
    "s = \"S885\"\n",
    "TIMEOUT = 30\n",
    "patterns = []\n",
    "min_cuts_dict, max_cuts_dict  = ap_stock_bound(naive_patterns,finish,s)\n",
    "print(f\"Start create combination for stock {s}\")\n",
    "generate_cut_combinations_with_timeout1(s, min_cuts_dict, max_cuts_dict, patterns, TIMEOUT)"
   ]
  },
  {
   "cell_type": "code",
   "execution_count": null,
   "metadata": {},
   "outputs": [],
   "source": [
    "from codes.optima_sol import cut_patterns_by_stock\n",
    "opt_patterns = cut_patterns_by_stock(\n",
    "                                     stocks[s][\"width\"]\n",
    "                                     ,stocks[s][\"weight\"] \n",
    "                                     ,finish \n",
    "                                     ,patterns\n",
    "                                     ,BOUND_KEY\n",
    "                                     )"
   ]
  },
  {
   "cell_type": "code",
   "execution_count": null,
   "metadata": {},
   "outputs": [],
   "source": [
    "# from codes.errors_handling import run_with_timeout\n",
    "from codes.optima_sol import cut_patterns_by_stock\n",
    "\n",
    "for s in stocks.keys():\n",
    "    # create pattern by stocks\n",
    "    patterns = []\n",
    "    min_cuts_dict, max_cuts_dict  = ap_stock_bound(naive_patterns,finish,s)\n",
    "    print(f\"Start create combination for stock {s}\")\n",
    "    generate_cut_combinations_with_timeout(s, min_cuts_dict, max_cuts_dict, patterns, TIMEOUT = 60)\n",
    "    if patterns is None:\n",
    "        print(\"Null value\")\n",
    "    else:\n",
    "        opt_patterns = cut_patterns_by_stock(\n",
    "                                     stocks[s][\"width\"]\n",
    "                                     ,stocks[s][\"weight\"] \n",
    "                                     ,finish \n",
    "                                     ,patterns\n",
    "                                     ,BOUND_KEY\n",
    "                                     )\n",
    "\n",
    "        if len(opt_patterns) == 0:\n",
    "            print(f\"No optimal solution with stock {s}\")\n",
    "            print(\"=================================\")\n",
    "        else:\n",
    "            print(f\"Solution for stock {s}\")\n",
    "            for p in opt_patterns:\n",
    "                print(f\"take pattern {p}\")\n",
    "                cuts_dict= patterns[p]['cuts']\n",
    "                print(cuts_dict)\n",
    "                trim_loss = stocks[s][\"width\"] - sum([finish[f][\"width\"]*cuts_dict[f] for f in finish.keys()])\n",
    "                weight_loss = trim_loss * stocks[s][\"weight\"]/stocks[s][\"width\"]\n",
    "                print(f\"trim loss :{trim_loss}, weight loss: {weight_loss}\")\n",
    "                print(\"*****\")\n",
    "\n",
    "            print(\"=================================\")\n"
   ]
  },
  {
   "cell_type": "markdown",
   "metadata": {},
   "source": [
    "#### Optimization"
   ]
  },
  {
   "cell_type": "code",
   "execution_count": null,
   "metadata": {},
   "outputs": [],
   "source": [
    "from codes.errors_handling import run_with_timeout\n",
    "from codes.optima_sol import cut_patterns_by_stock\n",
    "timeout_limit = 40\n",
    "\n",
    "for s in stocks.keys():\n",
    "    # create pattern by stocks\n",
    "    patterns = []\n",
    "    max_cuts_dict, min_cuts_dict = ap_stock_bound(naive_patterns,finish,s)\n",
    "    print(f\"Start create combination for stock {s}\")\n",
    "    patterns = run_with_timeout(generate_cut_combinations, args=(s, min_cuts_dict, max_cuts_dict, patterns), timeout=timeout_limit)\n",
    "    if patterns is None:\n",
    "        print(\"Function timed out\")\n",
    "    else:\n",
    " \n",
    "        opt_patterns = cut_patterns_by_stock(\n",
    "                                     stocks[s][\"width\"]\n",
    "                                     ,stocks[s][\"weight\"] \n",
    "                                     ,finish \n",
    "                                     ,patterns\n",
    "                                     )\n",
    "\n",
    "        if len(opt_patterns) == 0:\n",
    "            print(f\"No optimal solution with stock {s}\")\n",
    "            print(\"=================================\")\n",
    "        else:\n",
    "            print(f\"Solution for stock {s}\")\n",
    "            for p in opt_patterns:\n",
    "                print(f\"take pattern {p}\")\n",
    "                cuts_dict= patterns[p]['cuts']\n",
    "                print(cuts_dict)\n",
    "                trim_loss = stocks[s][\"width\"] - sum([finish[f][\"width\"]*cuts_dict[f] for f in finish.keys()])\n",
    "                weight_loss = trim_loss * stocks[s][\"weight\"]/stocks[s][\"width\"]\n",
    "                print(f\"trim loss :{trim_loss}, weight loss: {weight_loss}\")\n",
    "                print(\"*****\")\n",
    "\n",
    "            print(\"=================================\")\n"
   ]
  },
  {
   "cell_type": "markdown",
   "metadata": {},
   "source": []
  }
 ],
 "metadata": {
  "kernelspec": {
   "display_name": "optima",
   "language": "python",
   "name": "python3"
  },
  "language_info": {
   "codemirror_mode": {
    "name": "ipython",
    "version": 3
   },
   "file_extension": ".py",
   "mimetype": "text/x-python",
   "name": "python",
   "nbconvert_exporter": "python",
   "pygments_lexer": "ipython3",
   "version": "3.12.2"
  }
 },
 "nbformat": 4,
 "nbformat_minor": 2
}
