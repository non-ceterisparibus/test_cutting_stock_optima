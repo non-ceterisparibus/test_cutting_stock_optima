{
 "cells": [
  {
   "cell_type": "code",
   "execution_count": 1,
   "metadata": {},
   "outputs": [
    {
     "name": "stdout",
     "output_type": "stream",
     "text": [
      "AMPL Development Version 20240404 (MSVC 19.38.33135.0, 64-bit)\n",
      "Demo license with maintenance expiring 20260131.\n",
      "Using license file \"c:\\Users\\thuduong\\Anaconda3\\envs\\optima\\Lib\\site-packages\\ampl_module_base\\bin\\ampl.lic\".\n",
      "\n"
     ]
    }
   ],
   "source": [
    "import pandas as pd\n",
    "import numpy as np\n",
    "import math\n",
    "\n",
    "SOLVER_MILO = \"highs\"\n",
    "SOLVER_MINLO = \"ipopt\"\n",
    "\n",
    "from amplpy import AMPL, ampl_notebook\n",
    "\n",
    "ampl = ampl_notebook(\n",
    "    modules=[\"coin\", \"highs\"],  # modules to install\n",
    "    license_uuid=\"default\",  # license to use\n",
    ")  # instantiate AMPL object and register magics"
   ]
  },
  {
   "cell_type": "markdown",
   "metadata": {},
   "source": [
    "### A. Optimize on selected stock then compare the result (base case)"
   ]
  },
  {
   "cell_type": "code",
   "execution_count": null,
   "metadata": {},
   "outputs": [],
   "source": [
    "# DATA TEST 1\n",
    "### uu tien cat het 1 finished goods trong 1 cuon thep\n",
    "### -> need cut chuyen thanh duong truoc khi sang finished goods khac\n",
    "###\n",
    "### uu tien trim-loss hay weight loss thap hon\n",
    "### ->\n",
    "###\n",
    "### ---> chon coil cat duoc het nhieu cac don va co trim loss that"
   ]
  },
  {
   "cell_type": "markdown",
   "metadata": {},
   "source": [
    "### B. Optimize with test data - Dont know the solution at first\n",
    "#### Try test with boundary on % need cut \n",
    "- Case 0: + 30% need cut\n",
    "- Case 1: need cut + 300% forecast\n",
    "- Case 2: need cut + 600% forecast\n",
    "\n",
    "#### Input Parameters"
   ]
  },
  {
   "cell_type": "code",
   "execution_count": 20,
   "metadata": {},
   "outputs": [],
   "source": [
    "## PARAMETER - CASE 0\n",
    "PARAMS = {\"warehouse\": \"HSC\"\n",
    "          ,\"spec_name\": \"JSH270C-PO\" # yeu cau chuan hoa du lieu OP - PO\n",
    "          ,\"thickness\": 1.6\n",
    "          ,\"maker\" : \"CSVC\"\n",
    "          ,\"stock_ratio\": { #get from app \n",
    "                    \"limited\": None\n",
    "                    # \"default\": 2\n",
    "                    # \"user_setting\": 4\n",
    "                }\n",
    "        #   ,\"forecast_scenario\": median\n",
    "          }\n",
    "\n",
    "## PARAMETER - CASE 1\n",
    "# PARAMS = {\"warehouse\": \"HSC\"\n",
    "#           ,\"spec_name\": \"JSH270C-PO\" # yeu cau chuan hoa du lieu OP - PO\n",
    "#           ,\"thickness\": 1.6\n",
    "#           ,\"maker\" : \"CSVC\"\n",
    "#           ,\"stock_ratio\": { #get from app \n",
    "#                     \"default\": 2\n",
    "#                 }\n",
    "#         #   ,\"forecast_scenario\":\n",
    "#           }\n",
    "\n",
    "margin_dict = { \"HSC\":\n",
    "    {#save margin_dict in azure env, margin dictionary by warehouse\n",
    "    \"thickness_2.6\": {\n",
    "        \"thickness\": 2.6,\n",
    "        \"margin\": 10\n",
    "    },\n",
    "    \"thickness_2\": {\n",
    "        \"thickness\": 2,\n",
    "        \"margin\": 8\n",
    "    },\n",
    "    \"thickness_1.6\": {\n",
    "        \"thickness\": 1.6,\n",
    "        \"margin\": 6\n",
    "    }\n",
    "    },\n",
    "    \"NQS\":\n",
    "    {#save margin_dict in azure env, margin dictionary by warehouse\n",
    "    \"thickness_2.6\": {\n",
    "        \"thickness\": 2.6,\n",
    "        \"margin\": 10\n",
    "    },\n",
    "    \"thickness_2\": {\n",
    "        \"thickness\": 2,\n",
    "        \"margin\": 8\n",
    "    },\n",
    "    \"thickness_1.6\": {\n",
    "        \"thickness\": 1.6,\n",
    "        \"margin\": 6\n",
    "    }\n",
    "    }\n",
    "}\n",
    "\n",
    "# GET ALL PARAMS\n",
    "MIN_MARGIN = margin_dict[PARAMS[\"warehouse\"]][f\"thickness_{PARAMS[\"thickness\"]}\"][\"margin\"]\n",
    "print(f\"MIN_MARGIN:{MIN_MARGIN}\")\n",
    "\n",
    "BOUND_KEY = next(iter(PARAMS['stock_ratio']))\n",
    "BOUND_VALUE = PARAMS['stock_ratio'][BOUND_KEY]\n",
    "print(f\"BOUND_VALUE:{BOUND_VALUE}\")"
   ]
  },
  {
   "cell_type": "markdown",
   "metadata": {},
   "source": [
    "#### Input & Process Data"
   ]
  },
  {
   "cell_type": "code",
   "execution_count": 4,
   "metadata": {},
   "outputs": [
    {
     "name": "stdout",
     "output_type": "stream",
     "text": [
      "0\n"
     ]
    }
   ],
   "source": [
    "from codes.process_df import filter_stock_excel_to_dict\n",
    "file_path = \"data/test_mc_df.xlsx\"\n",
    "stock_key, value_columns = \"inventory_id\", ['receiving_date','status',\"width\", \"weight\"]\n",
    "stocks = filter_stock_excel_to_dict(file_path, stock_key, value_columns, PARAMS, PRIORITY = \"CASE_1\")\n",
    "print(len(stocks))\n",
    "# list of stock >> list of need cut PO\n",
    "# Improve: need rules to pick up stock to the pool"
   ]
  },
  {
   "cell_type": "code",
   "execution_count": 24,
   "metadata": {},
   "outputs": [
    {
     "data": {
      "text/plain": [
       "True"
      ]
     },
     "execution_count": 24,
     "metadata": {},
     "output_type": "execute_result"
    }
   ],
   "source": [
    "from codes.process_df import filter_by_params\n",
    "\n",
    "file_path = \"data/test_mc_df.xlsx\"\n",
    "df = filter_by_params(file_path, PARAMS)\n",
    "result = df['status'].isin(['R:REWIND'\n",
    "                            ,'Z:SEMI MCOIL'\n",
    "                            ,'S:SEMI FINISHED'])\n",
    "any(result)"
   ]
  },
  {
   "cell_type": "code",
   "execution_count": 5,
   "metadata": {},
   "outputs": [
    {
     "data": {
      "text/plain": [
       "0"
      ]
     },
     "execution_count": 5,
     "metadata": {},
     "output_type": "execute_result"
    }
   ],
   "source": [
    "from codes.process_df import filter_finish_excel_to_dict\n",
    "\n",
    "file_path = \"data/test_finish_df_Jul2022.xlsx\"\n",
    "finish_key, value_columns = \"order_id\", [\"width\", \"need_cut\", f\"upper_bound_{BOUND_KEY}\", \"fc1\", \"fc2\", \"fc3\"]\n",
    "finish = filter_finish_excel_to_dict(file_path, finish_key, value_columns, PARAMS, BOUND_KEY, BOUND_VALUE)\n",
    "len(finish)\n",
    "\n",
    "# nen loc list need cut voi so am truoc,\n",
    "#Improve: uu tien thu solion voi FG co width lon truoc"
   ]
  },
  {
   "cell_type": "code",
   "execution_count": 7,
   "metadata": {},
   "outputs": [
    {
     "data": {
      "text/plain": [
       "{'F13': {'width': 256.0,\n",
       "  'need_cut': -2400,\n",
       "  'upper_bound_limited': 3120.0,\n",
       "  'fc1': 2437.453888,\n",
       "  'fc2': 1616.803584,\n",
       "  'fc3': 1543.312512},\n",
       " 'F12': {'width': 216.0,\n",
       "  'need_cut': -4500,\n",
       "  'upper_bound_limited': 5850.0,\n",
       "  'fc1': 4660.464,\n",
       "  'fc2': 5427.6648,\n",
       "  'fc3': 5225.0832},\n",
       " 'F11': {'width': 155.0,\n",
       "  'need_cut': -1200,\n",
       "  'upper_bound_limited': 1560.0,\n",
       "  'fc1': 1542.3700000000001,\n",
       "  'fc2': 1663.68,\n",
       "  'fc3': 2235.57},\n",
       " 'F14': {'width': 72.5,\n",
       "  'need_cut': -2000,\n",
       "  'upper_bound_limited': 2600.0,\n",
       "  'fc1': 1047.247776,\n",
       "  'fc2': 1745.41296,\n",
       "  'fc3': 909.452016}}"
      ]
     },
     "execution_count": 7,
     "metadata": {},
     "output_type": "execute_result"
    }
   ],
   "source": [
    "finish"
   ]
  },
  {
   "cell_type": "markdown",
   "metadata": {},
   "source": [
    "#### Naive patterns and combination"
   ]
  },
  {
   "cell_type": "code",
   "execution_count": 8,
   "metadata": {},
   "outputs": [
    {
     "name": "stdout",
     "output_type": "stream",
     "text": [
      "dict_keys(['S813', 'S885'])\n"
     ]
    }
   ],
   "source": [
    "from codes.create_patterns import *\n",
    "naive_patterns = make_patterns_by_weight_width(stocks, finish, BOUND_KEY, MIN_MARGIN)\n",
    "# display(naive_patterns)\n",
    "len(naive_patterns)\n",
    "print(stocks.keys())\n",
    "# uu tien so need cut va so can cua mother coil ko gap nhau qua 5 (X) lan. de combination ko loi"
   ]
  },
  {
   "cell_type": "code",
   "execution_count": 13,
   "metadata": {},
   "outputs": [
    {
     "data": {
      "text/plain": [
       "{'S813': {'receiving_date': '2022/03/07',\n",
       "  'status': 'S:SEMI FINISHED',\n",
       "  'width': 183.0,\n",
       "  'weight': 713},\n",
       " 'S885': {'receiving_date': '2022/06/06',\n",
       "  'status': 'R:REWIND',\n",
       "  'width': 1219.0,\n",
       "  'weight': 3891}}"
      ]
     },
     "execution_count": 13,
     "metadata": {},
     "output_type": "execute_result"
    }
   ],
   "source": [
    "stocks"
   ]
  },
  {
   "cell_type": "code",
   "execution_count": null,
   "metadata": {},
   "outputs": [],
   "source": [
    "def generate_cut_combinations_with_timeout(stock_id, min_c_values, max_c_values, pattern, TIMEOUT):\n",
    "\n",
    "    def generate_combinations_util(keys, current_combination, start_time, TIMEOUT):\n",
    "\n",
    "        if not keys:\n",
    "            if any(current_combination.values()):  # Check if any 'F' value is non-zero, remove the case all zeros\n",
    "                pattern.append({'stock': stock_id, 'cuts': current_combination})\n",
    "            return\n",
    "        \n",
    "        key = keys[0]\n",
    "        min_c = min_c_values.get(key, 0) #retrieves the value associated, 0 if not found\n",
    "        max_c = max_c_values.get(key, 0)\n",
    "\n",
    "        for c in range(max_c, min_c - 1, -1):\n",
    "            # Check if the timeout has been exceeded\n",
    "            if time.time() - start_time >= TIMEOUT:\n",
    "                print(f\"key{key}, timeout{time.time() - start_time}\")\n",
    "                return pattern  # Return the pattern if timeout occurs\n",
    "            else:\n",
    "                new_combination = current_combination.copy()\n",
    "                new_combination[key] = c\n",
    "                generate_combinations_util(keys[1:], new_combination, start_time, TIMEOUT)\n",
    "\n",
    "    # keys = set(min_c_values.keys()) | set(max_c_values.keys()) # converts any iterable into a set without order\n",
    "    reorderd_max_c = change_order_dict(max_c_values)\n",
    "    keys = list(reorderd_max_c.keys())\n",
    "\n",
    "    import time\n",
    "    start_time = time.time()\n",
    "    generate_combinations_util(list(keys), {},start_time, TIMEOUT)"
   ]
  },
  {
   "cell_type": "code",
   "execution_count": 14,
   "metadata": {},
   "outputs": [
    {
     "name": "stdout",
     "output_type": "stream",
     "text": [
      "Start create combination for stock S885\n"
     ]
    }
   ],
   "source": [
    "# TEST\n",
    "s = \"S885\"\n",
    "TIMEOUT = 30\n",
    "patterns = []\n",
    "min_cuts_dict, max_cuts_dict  = ap_stock_bound(naive_patterns,finish,s)\n",
    "print(f\"Start create combination for stock {s}\")\n",
    "generate_cut_combinations_with_timeout(s, min_cuts_dict, max_cuts_dict, patterns, TIMEOUT)\n",
    "\n",
    "# from codes.optima_sol import cut_patterns_by_stock\n",
    "# opt_patterns = cut_patterns_by_stock(\n",
    "#                                      stocks[s][\"width\"]\n",
    "#                                      ,stocks[s][\"weight\"] \n",
    "#                                      ,finish \n",
    "#                                      ,patterns\n",
    "#                                      ,BOUND_KEY\n",
    "#                                      )"
   ]
  },
  {
   "cell_type": "code",
   "execution_count": 9,
   "metadata": {},
   "outputs": [
    {
     "name": "stdout",
     "output_type": "stream",
     "text": [
      "Start create combination for stock S813\n",
      "No optimal solution with stock S813\n",
      "=================================\n",
      "Start create combination for stock S885\n",
      "Solution for stock S885\n",
      "take pattern 840\n",
      "{'F13': 1, 'F12': 0, 'F11': 1, 'F14': 11}\n",
      "trim loss :10.5, weight loss: 33.51558654634947\n",
      "*****\n",
      "=================================\n"
     ]
    }
   ],
   "source": [
    "# from codes.errors_handling import run_with_timeout\n",
    "from codes.optima_sol import cut_patterns_by_stock\n",
    "\n",
    "for s in stocks.keys():\n",
    "    # create pattern by stocks\n",
    "    patterns = []\n",
    "    min_cuts_dict, max_cuts_dict  = ap_stock_bound(naive_patterns,finish,s)\n",
    "    print(f\"Start create combination for stock {s}\")\n",
    "    generate_cut_combinations_with_timeout(s, min_cuts_dict, max_cuts_dict, patterns, TIMEOUT = 40)\n",
    "    if patterns is None:\n",
    "        print(\"Null value\")\n",
    "    else:\n",
    "        opt_patterns = cut_patterns_by_stock(\n",
    "                                     stocks[s][\"width\"]\n",
    "                                     ,stocks[s][\"weight\"] \n",
    "                                     ,finish \n",
    "                                     ,patterns\n",
    "                                     ,BOUND_KEY\n",
    "                                     )\n",
    "\n",
    "        if len(opt_patterns) == 0:\n",
    "            print(f\"No optimal solution with stock {s}\")\n",
    "            print(\"=================================\")\n",
    "        else:\n",
    "            print(f\"Solution for stock {s}\")\n",
    "            for p in opt_patterns:\n",
    "                print(f\"take pattern {p}\")\n",
    "                print(\"*****\")\n",
    "                cuts_dict= patterns[p]['cuts']\n",
    "                print(cuts_dict)\n",
    "                trim_loss = stocks[s][\"width\"] - sum([finish[f][\"width\"]*cuts_dict[f] for f in finish.keys()])\n",
    "                weight_loss = trim_loss * stocks[s][\"weight\"]/stocks[s][\"width\"]\n",
    "                print(f\"trim loss :{trim_loss}, weight loss: {weight_loss}\")\n",
    "            print(\"=================================\")"
   ]
  },
  {
   "cell_type": "code",
   "execution_count": null,
   "metadata": {},
   "outputs": [],
   "source": [
    "\"\"\"\n",
    "        set F;\n",
    "        set P;\n",
    "\n",
    "        # width stock\n",
    "        param width_s integer;\n",
    "        # weight per unit of stock\n",
    "        param wu > 0;\n",
    "        # width finished pieces\n",
    "        param width_f{F};\n",
    "\n",
    "        # upper bound with over-cut\n",
    "        param f_upper_demand{F};\n",
    "        param demand_finish{F};\n",
    "        # how many f pieces are returned from pattern p\n",
    "        param a{F, P};\n",
    "        # which stock s is choosen for pattern p\n",
    "        var b{P} binary;\n",
    "\n",
    "        # Find the patterns of stock that minimize the loss\n",
    "        minimize trim_loss:\n",
    "          width_s - sum{p in P, f in F} b[p] * a[f,p] * width_f[f];\n",
    "        \n",
    "        subject to assign_each_finish_to_pattern:\n",
    "          sum{p in P} b[p]  = 1;\n",
    "        \n",
    "        subject to feasible_pattern_max_margin:\n",
    "          sum{p in P, f in F} b[p]* a[f,p] * width_f[f] >= 0.96 * width_s;\n",
    "        \n",
    "        subject to feasible_pattern_min_margin:\n",
    "          sum{p in P, f in F}  b[p] * a[f,p] * width_f[f] <= width_s_min_margin;\n",
    "\n",
    "        subject to weight_demand {f in F}:\n",
    "          sum{p in P} b[p] * a[f,p] * width_f[f] * wu <= f_upper_demand[f];\n",
    "    \"\"\""
   ]
  },
  {
   "cell_type": "markdown",
   "metadata": {},
   "source": [
    "#### Optimization"
   ]
  },
  {
   "cell_type": "code",
   "execution_count": null,
   "metadata": {},
   "outputs": [],
   "source": [
    "from codes.errors_handling import run_with_timeout\n",
    "from codes.optima_sol import cut_patterns_by_stock\n",
    "timeout_limit = 40\n",
    "\n",
    "for s in stocks.keys():\n",
    "    # create pattern by stocks\n",
    "    patterns = []\n",
    "    max_cuts_dict, min_cuts_dict = ap_stock_bound(naive_patterns,finish,s)\n",
    "    print(f\"Start create combination for stock {s}\")\n",
    "    patterns = run_with_timeout(generate_cut_combinations, args=(s, min_cuts_dict, max_cuts_dict, patterns), timeout=timeout_limit)\n",
    "    if patterns is None:\n",
    "        print(\"Function timed out\")\n",
    "    else:\n",
    " \n",
    "        opt_patterns = cut_patterns_by_stock(\n",
    "                                     stocks[s][\"width\"]\n",
    "                                     ,stocks[s][\"weight\"] \n",
    "                                     ,finish \n",
    "                                     ,patterns\n",
    "                                     )\n",
    "\n",
    "        if len(opt_patterns) == 0:\n",
    "            print(f\"No optimal solution with stock {s}\")\n",
    "            print(\"=================================\")\n",
    "        else:\n",
    "            print(f\"Solution for stock {s}\")\n",
    "            for p in opt_patterns:\n",
    "                print(f\"take pattern {p}\")\n",
    "                cuts_dict= patterns[p]['cuts']\n",
    "                print(cuts_dict)\n",
    "                trim_loss = stocks[s][\"width\"] - sum([finish[f][\"width\"]*cuts_dict[f] for f in finish.keys()])\n",
    "                weight_loss = trim_loss * stocks[s][\"weight\"]/stocks[s][\"width\"]\n",
    "                print(f\"trim loss :{trim_loss}, weight loss: {weight_loss}\")\n",
    "                print(\"*****\")\n",
    "\n",
    "            print(\"=================================\")\n"
   ]
  },
  {
   "cell_type": "markdown",
   "metadata": {},
   "source": []
  }
 ],
 "metadata": {
  "kernelspec": {
   "display_name": "optima",
   "language": "python",
   "name": "python3"
  },
  "language_info": {
   "codemirror_mode": {
    "name": "ipython",
    "version": 3
   },
   "file_extension": ".py",
   "mimetype": "text/x-python",
   "name": "python",
   "nbconvert_exporter": "python",
   "pygments_lexer": "ipython3",
   "version": "3.12.2"
  }
 },
 "nbformat": 4,
 "nbformat_minor": 2
}
