{
 "cells": [
  {
   "cell_type": "code",
   "execution_count": 1,
   "metadata": {},
   "outputs": [
    {
     "name": "stdout",
     "output_type": "stream",
     "text": [
      "AMPL Development Version 20240404 (MSVC 19.38.33135.0, 64-bit)\n",
      "Demo license with maintenance expiring 20260131.\n",
      "Using license file \"c:\\Users\\thuduong\\Anaconda3\\envs\\optima\\Lib\\site-packages\\ampl_module_base\\bin\\ampl.lic\".\n",
      "\n"
     ]
    }
   ],
   "source": [
    "import pandas as pd\n",
    "import numpy as np\n",
    "import math\n",
    "\n",
    "SOLVER_MILO = \"highs\"\n",
    "SOLVER_MINLO = \"ipopt\"\n",
    "\n",
    "from amplpy import AMPL, ampl_notebook\n",
    "\n",
    "ampl = ampl_notebook(\n",
    "    modules=[\"coin\", \"highs\"],  # modules to install\n",
    "    license_uuid=\"default\",  # license to use\n",
    ")  # instantiate AMPL object and register magics"
   ]
  },
  {
   "cell_type": "code",
   "execution_count": 2,
   "metadata": {},
   "outputs": [],
   "source": [
    "## PARAMETER\n",
    "BOUND = 0.3 # over cut - maxi bound on fc quantity\n",
    "MIN_MARGIN = 8\n",
    "\n",
    "# DATA TEST 1\n",
    "### uu tien cat het 1 finished goods trong 1 cuon thep\n",
    "### -> need cut chuyen thanh duong truoc khi sang finished goods khac\n",
    "stocks = {\n",
    "    \"S1\": {\"width\": 1219, \"weight\": 4395 },\n",
    "    \"S2\": {\"width\": 1219, \"weight\": 9260},\n",
    "    \"S3\": {\"width\": 1018, \"weight\": 3475},\n",
    "    \"S4\": {\"width\": 1219, \"weight\": 8535},\n",
    "    \"S5\": {\"width\": 236, \"weight\": 1571},\n",
    "}\n",
    "\n",
    "finish = {\n",
    "    \"F1\": {\"width\": 235, \"need_cut\": 800 },\n",
    "    \"F2\": {\"width\": 147, \"need_cut\": 1308},\n",
    "    \"F3\": {\"width\": 136, \"need_cut\": 1290},\n",
    "    \"F4\": {\"width\": 68, \"need_cut\": 600},\n",
    "    \"F5\": {\"width\": 60, \"need_cut\": 170},\n",
    "    \"F6\": {\"width\": 85, \"need_cut\": 132},\n",
    "    \"F7\": {\"width\": 57, \"need_cut\": 100},\n",
    "    \"F8\": {\"width\": 92, \"need_cut\": 100}, \n",
    "    \"F9\": {\"width\": 57, \"need_cut\": 735}, \n",
    "}\n"
   ]
  },
  {
   "cell_type": "code",
   "execution_count": 9,
   "metadata": {},
   "outputs": [
    {
     "name": "stdout",
     "output_type": "stream",
     "text": [
      "No feasible pattern was found for Stock S5 and FG F6\n",
      "No feasible pattern was found for Stock S5 and FG F7\n",
      "No feasible pattern was found for Stock S5 and FG F8\n"
     ]
    }
   ],
   "source": [
    "from codes.create_patterns import *\n",
    "\n",
    "naive_patterns = make_patterns_by_weight_width(stocks, finish, BOUND, MIN_MARGIN)\n",
    "\n",
    "# display(naive_patterns)\n",
    "# ap_upper_bound(naive_patterns, finish)\n",
    "\n",
    "# create pattern combination\n",
    "patterns = []\n",
    "for s in stocks:\n",
    "    max_cuts_dict, min_cuts_dict = ap_stock_bound(naive_patterns,finish,s)\n",
    "    generate_cut_combinations(s, min_cuts_dict, max_cuts_dict, patterns)"
   ]
  },
  {
   "cell_type": "code",
   "execution_count": null,
   "metadata": {},
   "outputs": [],
   "source": [
    "def cut_patterns(stocks, finish, patterns):\n",
    "    m = AMPL()\n",
    "    # m.eval(\"reset data;\")\n",
    "    m.eval(\n",
    "    \"\"\"\n",
    "        set S;\n",
    "        set F;\n",
    "        set P;\n",
    "\n",
    "        # width stock\n",
    "        param width_s{S};\n",
    "        # width finished pieces\n",
    "        param width_f{F};\n",
    "\n",
    "        # how many f pieces are returned from pattern p\n",
    "        param a{F, P};\n",
    "\n",
    "        # which stock s is choosen for pattern p\n",
    "        var b{S, P} binary;\n",
    "\n",
    "        # Find the patterns of stock that minimize the loss\n",
    "        minimize trim_loss {p in P}:\n",
    "          sum{s in S} b[s, p] * width_s[s] - sum{f in F} a[f,p] * width_f[f];\n",
    "        \n",
    "        subject to assign_each_stock_to_pattern {p in P}:\n",
    "          sum{s in S} b[s, p]  = 1;\n",
    "        \n",
    "        subject to feasible_pattern_max_margin {p in P}:\n",
    "          sum{f in F} a[f,p] * width_f[f] >= 0.96 * sum{s in S} b[s,p] * width_s[s];\n",
    "        \n",
    "        subject to feasible_pattern_min_margin {p in P}:\n",
    "          sum{f in F} a[f,p] * width_f[f] <= sum{s in S} b[s,p] * width_s[s] - 8;\n",
    "\n",
    "    \"\"\"\n",
    "    )\n",
    "\n",
    "    m.set[\"S\"] = list(stocks.keys())\n",
    "    m.set[\"F\"] = list(finish.keys())\n",
    "    m.set[\"P\"] = list(range(len(patterns)))\n",
    "\n",
    "    m.param[\"width_s\"] = {s: stocks[s][\"width\"] for s in stocks.keys()}\n",
    "    m.param[\"width_f\"] = {f: finish[f][\"width\"] for f in finish.keys()}\n",
    "\n",
    "    a = {\n",
    "        (f, p): patterns[p][\"cuts\"][f]\n",
    "        for p in range(len(patterns))\n",
    "        for f in finish.keys()\n",
    "    }\n",
    "    m.param[\"a\"] = a\n",
    "    \n",
    "    m.option[\"solver\"] = SOLVER_MILO\n",
    "    m.get_output(\"solve;\")\n",
    "\n",
    "    opt_patterns = []\n",
    "    for s in stocks.keys():\n",
    "        opt_patterns.append(\n",
    "            {\n",
    "                \"stocks\":[(s,p) for p in range(len(patterns)) if m.var[\"b\"][s, p].value() > 0],\n",
    "            }\n",
    "        )\n",
    "\n",
    "    return opt_patterns"
   ]
  },
  {
   "cell_type": "code",
   "execution_count": null,
   "metadata": {},
   "outputs": [],
   "source": [
    "def cut_patterns_by_multi_stocks(stocks, finish, patterns):\n",
    "    m = AMPL()\n",
    "    m.eval(\"reset data;\")\n",
    "    m.eval(\n",
    "    \"\"\"\n",
    "        set S;\n",
    "        set F;\n",
    "        set P;\n",
    "\n",
    "        # width stock\n",
    "        param width_s{S};\n",
    "        # width finished pieces\n",
    "        param width_f{F};\n",
    "        \n",
    "        # weight per unit of stock\n",
    "        param wu{S};\n",
    "\n",
    "        # upper bound with over-cut\n",
    "        param f_upper_demand{F};\n",
    "        param demand_finish{F};\n",
    "        # param a_upper_bound{F};\n",
    "\n",
    "        # how many f pieces are returned from pattern p\n",
    "        param a{F, P};\n",
    "        # var a{f in F, p in P} integer >= 0 <= a_upper_bound[f];\n",
    "        # which stock s is choosen for pattern p\n",
    "        var b{S, P} binary;\n",
    "\n",
    "        # Find the patterns of stock that minimize the loss\n",
    "        minimize trim_loss {p in P}:\n",
    "          sum{s in S} b[s, p] * width_s[s] - sum{f in F} a[f,p] * width_f[f];\n",
    "        \n",
    "        subject to assign_each_stock_to_pattern {p in P}:\n",
    "          sum{s in S} b[s, p]  = 1;\n",
    "        \n",
    "        subject to feasible_pattern_max_margin {p in P}:\n",
    "          sum{f in F} a[f,p] * width_f[f] >= 0.96 * sum{s in S} b[s,p] * width_s[s];\n",
    "        \n",
    "        subject to feasible_pattern_min_margin {p in P}:\n",
    "          sum{f in F} a[f,p] * width_f[f] <= sum{s in S} b[s,p] * width_s[s] - 8;\n",
    "\n",
    "        subject to weight_demand {p in P, f in F}:\n",
    "          a[f,p] * width_f[f] * sum{s in S} b[s, p] * wu[s] <= f_upper_demand[f];\n",
    "\n",
    "\n",
    "    \"\"\"\n",
    "    )\n",
    "\n",
    "    m.set[\"S\"] = list(stocks.keys())\n",
    "    m.set[\"F\"] = list(finish.keys())\n",
    "    m.set[\"P\"] = list(range(len(patterns)))\n",
    "\n",
    "    m.param[\"width_s\"] = {s: stocks[s][\"width\"] for s in stocks.keys()}\n",
    "    m.param[\"width_f\"] = {f: finish[f][\"width\"] for f in finish.keys()}\n",
    "\n",
    "    m.param[\"wu\"] = {s: stocks[s][\"weight\"]/stocks[s][\"width\"] for s in list(stocks.keys())} # stock weight per unit (unique)\n",
    "    m.param[\"demand_finish\"] = {f: finish[f][\"need_cut\"] for f in finish.keys()}\n",
    "    m.param[\"f_upper_demand\"] = {f: finish[f][\"need_cut\"] + BOUND * finish[f][\"need_cut\"] for f in finish.keys()}\n",
    "\n",
    "    a = {\n",
    "        (f, p): patterns[p][\"cuts\"][f]\n",
    "        for p in range(len(patterns))\n",
    "        for f in finish.keys()\n",
    "    }\n",
    "    m.param[\"a\"] = a\n",
    "    \n",
    "    m.option[\"solver\"] = SOLVER_MILO\n",
    "    m.get_output(\"solve;\")\n",
    "\n",
    "    opt_patterns = []\n",
    "    for s in stocks.keys():\n",
    "        opt_patterns.append(\n",
    "            {\n",
    "                \"stocks\":[(s,p) for p in range(len(patterns)) if m.var[\"b\"][s, p].value() > 0],\n",
    "            }\n",
    "        )\n",
    "\n",
    "    return opt_patterns"
   ]
  },
  {
   "cell_type": "code",
   "execution_count": null,
   "metadata": {},
   "outputs": [],
   "source": [
    "### Add weight constraints\n",
    "\n",
    "def cut_weight_patterns(stocks, finish, patterns):\n",
    "    m = AMPL()\n",
    "    m.eval(\"reset data;\")\n",
    "    m.eval(\n",
    "    \"\"\"\n",
    "        set S;\n",
    "        set F;\n",
    "        set P;\n",
    "\n",
    "        # width stock\n",
    "        param width_s{S};\n",
    "        # width finished pieces\n",
    "        param width_f{F};\n",
    "        \n",
    "        # weight per unit of stock\n",
    "        param wu{S};\n",
    "\n",
    "        # upper bound with over-cut\n",
    "        param f_upper_demand{F};\n",
    "        param demand_finish{F};\n",
    "        # param a_upper_bound{F};\n",
    "\n",
    "        # how many f pieces are returned from pattern p\n",
    "        param a{F, P};\n",
    "        # var a{f in F, p in P} integer >= 0 <= a_upper_bound[f];\n",
    "        # which stock s is choosen for pattern p\n",
    "        var b{S, P} binary;\n",
    "\n",
    "        # Find the patterns of stock that minimize the loss\n",
    "        minimize trim_loss {p in P}:\n",
    "          sum{s in S} b[s, p] * width_s[s] - sum{f in F} a[f,p] * width_f[f];\n",
    "        \n",
    "        subject to assign_each_stock_to_pattern {p in P}:\n",
    "          sum{s in S} b[s, p]  = 1;\n",
    "        \n",
    "        subject to feasible_pattern_max_margin {p in P}:\n",
    "          sum{f in F} a[f,p] * width_f[f] >= 0.96 * sum{s in S} b[s,p] * width_s[s];\n",
    "        \n",
    "        subject to feasible_pattern_min_margin {p in P}:\n",
    "          sum{f in F} a[f,p] * width_f[f] <= sum{s in S} b[s,p] * width_s[s] - 8;\n",
    "\n",
    "        subject to weight_demand {p in P, f in F}:\n",
    "          a[f,p] * width_f[f] * sum{s in S} b[s, p] * wu[s] <= f_upper_demand[f];\n",
    "\n",
    "\n",
    "    \"\"\"\n",
    "    )\n",
    "\n",
    "    m.set[\"S\"] = list(stocks.keys())\n",
    "    m.set[\"F\"] = list(finish.keys())\n",
    "    m.set[\"P\"] = list(range(len(patterns)))\n",
    "\n",
    "    m.param[\"width_s\"] = {s: stocks[s][\"width\"] for s in stocks.keys()}\n",
    "    m.param[\"width_f\"] = {f: finish[f][\"width\"] for f in finish.keys()}\n",
    "\n",
    "    m.param[\"wu\"] = {s: stocks[s][\"weight\"]/stocks[s][\"width\"] for s in list(stocks.keys())} # stock weight per unit (unique)\n",
    "    m.param[\"demand_finish\"] = {f: finish[f][\"need_cut\"] for f in finish.keys()}\n",
    "    m.param[\"f_upper_demand\"] = {f: finish[f][\"need_cut\"] + BOUND * finish[f][\"need_cut\"] for f in finish.keys()}\n",
    "\n",
    "    a = {\n",
    "        (f, p): patterns[p][\"cuts\"][f]\n",
    "        for p in range(len(patterns))\n",
    "        for f in finish.keys()\n",
    "    }\n",
    "    m.param[\"a\"] = a\n",
    "    \n",
    "    m.option[\"solver\"] = SOLVER_MILO\n",
    "    m.get_output(\"solve;\")\n",
    "\n",
    "    opt_patterns = []\n",
    "    for s in stocks.keys():\n",
    "        opt_patterns.append(\n",
    "            {\n",
    "                \"stocks\":[(s,p) for p in range(len(patterns)) if m.var[\"b\"][s, p].value() > 0],\n",
    "            }\n",
    "        )\n",
    "\n",
    "    return opt_patterns"
   ]
  },
  {
   "cell_type": "markdown",
   "metadata": {},
   "source": [
    "### Optimize on selected stock then compare the result"
   ]
  },
  {
   "cell_type": "code",
   "execution_count": 19,
   "metadata": {},
   "outputs": [],
   "source": [
    "def cut_patterns_by_stock(stocks,s, finish, patterns):\n",
    "    m = AMPL()\n",
    "    m.eval(\"reset data;\")\n",
    "    m.eval(\n",
    "    \"\"\"\n",
    "        set F;\n",
    "        set P;\n",
    "\n",
    "        # width stock\n",
    "        param width_s integer;\n",
    "        # weight per unit of stock\n",
    "        param wu > 0;\n",
    "        # width finished pieces\n",
    "        param width_f{F};\n",
    "\n",
    "        # upper bound with over-cut\n",
    "        param f_upper_demand{F};\n",
    "        param demand_finish{F};\n",
    "        # param a_upper_bound{F};\n",
    "\n",
    "        # how many f pieces are returned from pattern p\n",
    "        param a{F, P};\n",
    "        # var a{f in F, p in P} integer >= 0 <= a_upper_bound[f];\n",
    "        # which stock s is choosen for pattern p\n",
    "        var b{P} binary;\n",
    "\n",
    "        # Find the patterns of stock that minimize the loss\n",
    "        minimize trim_loss:\n",
    "          width_s - sum{p in P, f in F} b[p] * a[f,p] * width_f[f];\n",
    "        \n",
    "        subject to assign_each_finish_to_pattern:\n",
    "          sum{p in P} b[p]  = 1;\n",
    "        \n",
    "        subject to feasible_pattern_max_margin:\n",
    "          sum{p in P, f in F} b[p]* a[f,p] * width_f[f] >= 0.96 * width_s;\n",
    "        \n",
    "        subject to feasible_pattern_min_margin:\n",
    "          sum{p in P, f in F}  b[p] * a[f,p] * width_f[f] <= width_s - 8;\n",
    "\n",
    "        subject to weight_demand {f in F}:\n",
    "          sum{p in P} b[p] * a[f,p] * width_f[f] * wu <= f_upper_demand[f];\n",
    "    \"\"\"\n",
    "    )\n",
    "    m.set[\"F\"] = list(finish.keys())\n",
    "    m.set[\"P\"] = list(range(len(patterns)))\n",
    "\n",
    "    m.param[\"width_s\"] = stocks[s][\"width\"] \n",
    "    m.param[\"width_f\"] = {f: finish[f][\"width\"] for f in finish.keys()}\n",
    "\n",
    "    m.param[\"wu\"] = stocks[s][\"weight\"]/stocks[s][\"width\"]  # stock weight per unit (unique)\n",
    "    m.param[\"demand_finish\"] = {f: finish[f][\"need_cut\"] for f in finish.keys()}\n",
    "    m.param[\"f_upper_demand\"] = {f: finish[f][\"need_cut\"] + BOUND * finish[f][\"need_cut\"] for f in finish.keys()}\n",
    "\n",
    "    a = {\n",
    "        (f, p): patterns[p][\"cuts\"][f]\n",
    "        for p in range(len(patterns))\n",
    "        for f in finish.keys()\n",
    "    }\n",
    "    m.param[\"a\"] = a\n",
    "    \n",
    "    m.option[\"solver\"] = SOLVER_MILO\n",
    "    m.get_output(\"solve;\")\n",
    "\n",
    "    opt_patterns = []\n",
    "    opt_patterns.append(\n",
    "        {\n",
    "            \"pattern\":[p for p in range(len(patterns)) if m.var[\"b\"][p].value() > 0],\n",
    "            \"stocks\": s,\n",
    "            \"trim loss\": [0]\n",
    "        }\n",
    "    )\n",
    "\n",
    "    return opt_patterns"
   ]
  },
  {
   "cell_type": "code",
   "execution_count": 29,
   "metadata": {},
   "outputs": [
    {
     "data": {
      "text/plain": [
       "[{'pattern': [1142], 'stocks': 'S1', 'trim loss': [0]}]"
      ]
     },
     "execution_count": 29,
     "metadata": {},
     "output_type": "execute_result"
    }
   ],
   "source": [
    "s = \"S1\"\n",
    "filtered_patterns = [item for item in patterns if item['stock'] == s]\n",
    "\n",
    "# len(filtered_patterns)\n",
    "cut_patterns_by_stock(stocks,s, finish, filtered_patterns)"
   ]
  },
  {
   "cell_type": "code",
   "execution_count": 26,
   "metadata": {},
   "outputs": [
    {
     "data": {
      "text/plain": [
       "1279"
      ]
     },
     "execution_count": 26,
     "metadata": {},
     "output_type": "execute_result"
    }
   ],
   "source": [
    "s = \"S3\"\n",
    "filtered_patterns = [item for item in patterns if item['stock'] == s]\n",
    "\n",
    "# len(filtered_patterns)\n",
    "cut_patterns_by_stock(stocks,s, finish, filtered_patterns)"
   ]
  },
  {
   "cell_type": "code",
   "execution_count": 28,
   "metadata": {},
   "outputs": [
    {
     "data": {
      "text/plain": [
       "{'stock': 'S3',\n",
       " 'cuts': {'F1': 0,\n",
       "  'F2': 2,\n",
       "  'F8': 0,\n",
       "  'F5': 0,\n",
       "  'F9': 3,\n",
       "  'F7': 0,\n",
       "  'F4': 2,\n",
       "  'F6': 0,\n",
       "  'F3': 3}}"
      ]
     },
     "execution_count": 28,
     "metadata": {},
     "output_type": "execute_result"
    }
   ],
   "source": [
    "filtered_patterns[378]"
   ]
  },
  {
   "cell_type": "code",
   "execution_count": 30,
   "metadata": {},
   "outputs": [
    {
     "data": {
      "text/plain": [
       "[{'pattern': [], 'stocks': 'S4', 'trim loss': [0]}]"
      ]
     },
     "execution_count": 30,
     "metadata": {},
     "output_type": "execute_result"
    }
   ],
   "source": [
    "s = \"S4\"\n",
    "filtered_patterns = [item for item in patterns if item['stock'] == s]\n",
    "\n",
    "# len(filtered_patterns)\n",
    "cut_patterns_by_stock(stocks,s, finish, filtered_patterns)"
   ]
  },
  {
   "cell_type": "code",
   "execution_count": 31,
   "metadata": {},
   "outputs": [
    {
     "data": {
      "text/plain": [
       "[{'pattern': [], 'stocks': 'S5', 'trim loss': [0]}]"
      ]
     },
     "execution_count": 31,
     "metadata": {},
     "output_type": "execute_result"
    }
   ],
   "source": [
    "s = \"S5\"\n",
    "filtered_patterns = [item for item in patterns if item['stock'] == s]\n",
    "\n",
    "# len(filtered_patterns)\n",
    "cut_patterns_by_stock(stocks,s, finish, filtered_patterns)"
   ]
  }
 ],
 "metadata": {
  "kernelspec": {
   "display_name": "optima",
   "language": "python",
   "name": "python3"
  },
  "language_info": {
   "codemirror_mode": {
    "name": "ipython",
    "version": 3
   },
   "file_extension": ".py",
   "mimetype": "text/x-python",
   "name": "python",
   "nbconvert_exporter": "python",
   "pygments_lexer": "ipython3",
   "version": "3.12.2"
  }
 },
 "nbformat": 4,
 "nbformat_minor": 2
}
