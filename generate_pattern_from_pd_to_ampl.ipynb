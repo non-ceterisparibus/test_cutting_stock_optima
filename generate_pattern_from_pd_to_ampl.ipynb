{
 "cells": [
  {
   "cell_type": "code",
   "execution_count": 1,
   "metadata": {},
   "outputs": [],
   "source": [
    "import pandas as pd\n",
    "import numpy as np\n",
    "\n",
    "food_df = pd.DataFrame(\n",
    "    [\n",
    "        (\"BEEF\", 3.59, 2, 10),\n",
    "        (\"CHK\", 2.59, 2, 10),\n",
    "        (\"FISH\", 2.29, 2, 10),\n",
    "        (\"HAM\", 2.89, 2, 10),\n",
    "        (\"MCH\", 1.89, 2, 10),\n",
    "        (\"MTL\", 1.99, 2, 10),\n",
    "        (\"SPG\", 1.99, 2, 10),\n",
    "        (\"TUR\", 2.49, 2, 10),\n",
    "    ],\n",
    "    columns=[\"FOOD\", \"cost\", \"f_min\", \"f_max\"],\n",
    ").set_index(\"FOOD\")\n",
    "\n",
    "# Create a pandas.DataFrame with data for n_min, n_max\n",
    "nutr_df = pd.DataFrame(\n",
    "    [\n",
    "        (\"A\", 700, 20000),\n",
    "        (\"C\", 700, 20000),\n",
    "        (\"B1\", 700, 20000),\n",
    "        (\"B2\", 700, 20000),\n",
    "        (\"NA\", 0, 50000),\n",
    "        (\"CAL\", 16000, 24000),\n",
    "    ],\n",
    "    columns=[\"NUTR\", \"n_min\", \"n_max\"],\n",
    ").set_index(\"NUTR\")\n",
    "\n",
    "amt_df = pd.DataFrame(\n",
    "    np.matrix(\n",
    "        [\n",
    "            [60, 8, 8, 40, 15, 70, 25, 60],\n",
    "            [20, 0, 10, 40, 35, 30, 50, 20],\n",
    "            [10, 20, 15, 35, 15, 15, 25, 15],\n",
    "            [15, 20, 10, 10, 15, 15, 15, 10],\n",
    "            [928, 2180, 945, 278, 1182, 896, 1329, 1397],\n",
    "            [295, 770, 440, 430, 315, 400, 379, 450],\n",
    "        ]\n",
    "    ),\n",
    "    columns=food_df.index.tolist(),\n",
    "    index=nutr_df.index.tolist(),\n",
    ")"
   ]
  },
  {
   "cell_type": "code",
   "execution_count": 2,
   "metadata": {},
   "outputs": [
    {
     "name": "stdout",
     "output_type": "stream",
     "text": [
      "AMPL Development Version 20240404 (MSVC 19.38.33135.0, 64-bit)\n",
      "Demo license with maintenance expiring 20260131.\n",
      "Using license file \"c:\\Users\\thuduong\\Anaconda3\\envs\\optima\\Lib\\site-packages\\ampl_module_base\\bin\\ampl.lic\".\n",
      "\n"
     ]
    }
   ],
   "source": [
    "from amplpy import AMPL, ampl_notebook\n",
    "\n",
    "ampl = ampl_notebook(\n",
    "    modules=[\"highs\"],  # modules to install\n",
    "    license_uuid=\"default\",  # license to use\n",
    ")  # instantiate AMPL object and register magics"
   ]
  },
  {
   "cell_type": "code",
   "execution_count": 4,
   "metadata": {},
   "outputs": [],
   "source": [
    "%%ampl_eval\n",
    "reset;\n",
    "set NUTR;\n",
    "set FOOD;\n",
    "\n",
    "param cost {FOOD} > 0;\n",
    "param f_min {FOOD} >= 0;\n",
    "param f_max {j in FOOD} >= f_min[j];\n",
    "\n",
    "param n_min {NUTR} >= 0;\n",
    "param n_max {i in NUTR} >= n_min[i];\n",
    "\n",
    "param amt {NUTR,FOOD} >= 0;\n",
    "\n",
    "var Buy {j in FOOD} >= f_min[j], <= f_max[j];\n",
    "\n",
    "minimize Total_Cost:  sum {j in FOOD} cost[j] * Buy[j];\n",
    "\n",
    "subject to Diet {i in NUTR}:\n",
    "n_min[i] <= sum {j in FOOD} amt[i,j] * Buy[j] <= n_max[i];"
   ]
  },
  {
   "cell_type": "code",
   "execution_count": 5,
   "metadata": {},
   "outputs": [],
   "source": [
    "# 1. Send the data from \"amt_df\" to AMPL and initialize the indexing set \"FOOD\"\n",
    "ampl.set_data(food_df, \"FOOD\")\n",
    "# 2. Send the data from \"nutr_df\" to AMPL and initialize the indexing set \"NUTR\"\n",
    "ampl.set_data(nutr_df, \"NUTR\")\n",
    "# 3. Set the values for the parameter \"amt\" using \"amt_df\"\n",
    "ampl.get_parameter(\"amt\").set_values(amt_df)"
   ]
  },
  {
   "cell_type": "code",
   "execution_count": 10,
   "metadata": {},
   "outputs": [
    {
     "data": {
      "text/html": [
       "<div>\n",
       "<style scoped>\n",
       "    .dataframe tbody tr th:only-of-type {\n",
       "        vertical-align: middle;\n",
       "    }\n",
       "\n",
       "    .dataframe tbody tr th {\n",
       "        vertical-align: top;\n",
       "    }\n",
       "\n",
       "    .dataframe thead th {\n",
       "        text-align: right;\n",
       "    }\n",
       "</style>\n",
       "<table border=\"1\" class=\"dataframe\">\n",
       "  <thead>\n",
       "    <tr style=\"text-align: right;\">\n",
       "      <th></th>\n",
       "    </tr>\n",
       "  </thead>\n",
       "  <tbody>\n",
       "    <tr>\n",
       "      <th>BEEF</th>\n",
       "    </tr>\n",
       "    <tr>\n",
       "      <th>CHK</th>\n",
       "    </tr>\n",
       "    <tr>\n",
       "      <th>FISH</th>\n",
       "    </tr>\n",
       "    <tr>\n",
       "      <th>HAM</th>\n",
       "    </tr>\n",
       "    <tr>\n",
       "      <th>MCH</th>\n",
       "    </tr>\n",
       "    <tr>\n",
       "      <th>MTL</th>\n",
       "    </tr>\n",
       "    <tr>\n",
       "      <th>SPG</th>\n",
       "    </tr>\n",
       "    <tr>\n",
       "      <th>TUR</th>\n",
       "    </tr>\n",
       "  </tbody>\n",
       "</table>\n",
       "</div>"
      ],
      "text/plain": [
       "Empty DataFrame\n",
       "Columns: []\n",
       "Index: [BEEF, CHK, FISH, HAM, MCH, MTL, SPG, TUR]"
      ]
     },
     "execution_count": 10,
     "metadata": {},
     "output_type": "execute_result"
    }
   ],
   "source": [
    "FOOD = ampl.get_data(\"FOOD\")\n",
    "FOOD.toPandas()"
   ]
  },
  {
   "cell_type": "code",
   "execution_count": null,
   "metadata": {},
   "outputs": [],
   "source": []
  }
 ],
 "metadata": {
  "kernelspec": {
   "display_name": "optima",
   "language": "python",
   "name": "python3"
  },
  "language_info": {
   "codemirror_mode": {
    "name": "ipython",
    "version": 3
   },
   "file_extension": ".py",
   "mimetype": "text/x-python",
   "name": "python",
   "nbconvert_exporter": "python",
   "pygments_lexer": "ipython3",
   "version": "3.12.2"
  }
 },
 "nbformat": 4,
 "nbformat_minor": 2
}
