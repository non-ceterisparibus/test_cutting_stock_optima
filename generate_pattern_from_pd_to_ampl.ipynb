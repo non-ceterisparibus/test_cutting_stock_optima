{
 "cells": [
  {
   "cell_type": "code",
   "execution_count": 2,
   "metadata": {},
   "outputs": [
    {
     "name": "stdout",
     "output_type": "stream",
     "text": [
      "AMPL Development Version 20240404 (MSVC 19.38.33135.0, 64-bit)\n",
      "Demo license with maintenance expiring 20260131.\n",
      "Using license file \"c:\\Users\\thuduong\\Anaconda3\\envs\\optima\\Lib\\site-packages\\ampl_module_base\\bin\\ampl.lic\".\n",
      "\n"
     ]
    }
   ],
   "source": [
    "from amplpy import AMPL, ampl_notebook\n",
    "\n",
    "ampl = ampl_notebook(\n",
    "    modules=[\"highs\"],  # modules to install\n",
    "    license_uuid=\"default\",  # license to use\n",
    ")  # instantiate AMPL object and register magics"
   ]
  },
  {
   "cell_type": "markdown",
   "metadata": {},
   "source": [
    "### purpose: testing optima with generate all pattern but the max of each FG"
   ]
  },
  {
   "cell_type": "code",
   "execution_count": 8,
   "metadata": {},
   "outputs": [],
   "source": [
    "## PARAMETER - CASE 0\n",
    "PARAMS = {\"warehouse\": \"HSC\"\n",
    "          ,\"spec_name\": \"JSH270C-PO\" # yeu cau chuan hoa du lieu OP - PO\n",
    "          ,\"thickness\": 1.6\n",
    "          ,\"maker\" : \"CSVC\"\n",
    "          ,\"stock_ratio\": { #get from app \n",
    "                    \"limited\": None\n",
    "                    # \"default\": 2\n",
    "                    # \"user_setting\": 4\n",
    "                }\n",
    "        #   ,\"forecast_scenario\": median\n",
    "          }\n",
    "\n",
    "margin_dict = { \"HSC\":\n",
    "    {#thickness : min_margin\n",
    "    2.6:10\n",
    "    ,2 : 8\n",
    "   , 1.6: 6\n",
    "    },\n",
    "    \"NQS\":\n",
    "    {#save margin_dict in azure env, margin dictionary by warehouse, margin by range?\n",
    "    2.6:10\n",
    "    ,2 : 8\n",
    "   , 1.6: 6\n",
    "    }\n",
    "}\n",
    "# GET ALL PARAMS\n",
    "MIN_MARGIN = margin_dict[PARAMS[\"warehouse\"]][PARAMS[\"thickness\"]]\n",
    "print(f\"MIN_MARGIN:{MIN_MARGIN}\")\n",
    "\n",
    "BOUND_KEY = next(iter(PARAMS['stock_ratio']))\n",
    "BOUND_VALUE = PARAMS['stock_ratio'][BOUND_KEY]\n",
    "print(f\"BOUND_VALUE:{BOUND_VALUE}\")"
   ]
  },
  {
   "cell_type": "code",
   "execution_count": 11,
   "metadata": {},
   "outputs": [],
   "source": [
    "from codes.process_df import filter_by_params\n",
    "import pandas as pd\n",
    "import numpy as np\n",
    "\n",
    "# STEP 1: FILTER DF BY PARAMS\n",
    "stock_file_path = \"data/test_mc_df.xlsx\"\n",
    "finish_file_path = 'data/test_finish_df_Jul2022.xlsx'\n",
    "stock_key, value_columns = \"inventory_id\", ['receiving_date','status',\"width\", \"weight\"]\n",
    "finish_df = filter_by_params(finish_file_path, PARAMS)\n",
    "stock_df = filter_by_params(stock_file_path, PARAMS)"
   ]
  },
  {
   "cell_type": "code",
   "execution_count": 12,
   "metadata": {},
   "outputs": [],
   "source": [
    "# STEP 2: PROCESS DATA TO DF THAT CAN USE TO CONVERT TO DICT\n",
    "filter_stock_df\n"
   ]
  },
  {
   "cell_type": "code",
   "execution_count": 13,
   "metadata": {},
   "outputs": [],
   "source": [
    "#STEP 3: SET VALUE AND PARAMS TO AMPL\n",
    "# 1. Send the data from \"amt_df\" to AMPL and initialize the indexing set \"FOOD\"\n",
    "ampl.set_data(filter_stock_df, \"FOOD\")\n",
    "# 2. Send the data from \"nutr_df\" to AMPL and initialize the indexing set \"NUTR\"\n",
    "ampl.set_data(nutr_df, \"NUTR\")\n",
    "# 3. Set the values for the parameter \"amt\" using \"amt_df\"\n",
    "ampl.get_parameter(\"amt\").set_values(amt_df)"
   ]
  },
  {
   "cell_type": "code",
   "execution_count": 4,
   "metadata": {},
   "outputs": [],
   "source": [
    "%%ampl_eval\n",
    "reset;\n",
    "set F;\n",
    "set P;\n",
    "# width stock\n",
    "param width_s integer;\n",
    "# width stock minus min_margin\n",
    "param width_s_min_margin integer;\n",
    "# weight per unit of stock\n",
    "param wu > 0;\n",
    "# width finished pieces\n",
    "param width_f{F}\n",
    "# upper bound with over-cut\n",
    "param f_upper_demand{F};\n",
    "param demand_finish{F};\n",
    "# how many f pieces are returned from pattern p\n",
    "param a{F, P};\n",
    "# which stock s is choosen for pattern p\n",
    "var b{P} binary;\n",
    "# Find the patterns of stock that minimize the loss\n",
    "minimize trim_loss:\n",
    "  width_s - sum{p in P, f in F} b[p] * a[f,p] * width_f[f];\n",
    "\n",
    "subject to assign_each_finish_to_pattern:\n",
    "  sum{p in P} b[p]  = 1;\n",
    "\n",
    "subject to feasible_pattern_max_margin:\n",
    "  sum{p in P, f in F} b[p]* a[f,p] * width_f[f] >= 0.96 * width_s;\n",
    "\n",
    "subject to feasible_pattern_min_margin:\n",
    "  sum{p in P, f in F}  b[p] * a[f,p] * width_f[f] <= width_s_min_margin;\n",
    "subject to weight_demand {f in F}:\n",
    "  sum{p in P} b[p] * a[f,p] * width_f[f] * wu <= f_upper_demand[f];"
   ]
  },
  {
   "cell_type": "code",
   "execution_count": 5,
   "metadata": {},
   "outputs": [],
   "source": []
  },
  {
   "cell_type": "code",
   "execution_count": 10,
   "metadata": {},
   "outputs": [
    {
     "data": {
      "text/html": [
       "<div>\n",
       "<style scoped>\n",
       "    .dataframe tbody tr th:only-of-type {\n",
       "        vertical-align: middle;\n",
       "    }\n",
       "\n",
       "    .dataframe tbody tr th {\n",
       "        vertical-align: top;\n",
       "    }\n",
       "\n",
       "    .dataframe thead th {\n",
       "        text-align: right;\n",
       "    }\n",
       "</style>\n",
       "<table border=\"1\" class=\"dataframe\">\n",
       "  <thead>\n",
       "    <tr style=\"text-align: right;\">\n",
       "      <th></th>\n",
       "    </tr>\n",
       "  </thead>\n",
       "  <tbody>\n",
       "    <tr>\n",
       "      <th>BEEF</th>\n",
       "    </tr>\n",
       "    <tr>\n",
       "      <th>CHK</th>\n",
       "    </tr>\n",
       "    <tr>\n",
       "      <th>FISH</th>\n",
       "    </tr>\n",
       "    <tr>\n",
       "      <th>HAM</th>\n",
       "    </tr>\n",
       "    <tr>\n",
       "      <th>MCH</th>\n",
       "    </tr>\n",
       "    <tr>\n",
       "      <th>MTL</th>\n",
       "    </tr>\n",
       "    <tr>\n",
       "      <th>SPG</th>\n",
       "    </tr>\n",
       "    <tr>\n",
       "      <th>TUR</th>\n",
       "    </tr>\n",
       "  </tbody>\n",
       "</table>\n",
       "</div>"
      ],
      "text/plain": [
       "Empty DataFrame\n",
       "Columns: []\n",
       "Index: [BEEF, CHK, FISH, HAM, MCH, MTL, SPG, TUR]"
      ]
     },
     "execution_count": 10,
     "metadata": {},
     "output_type": "execute_result"
    }
   ],
   "source": [
    "FOOD = ampl.get_data(\"FOOD\")\n",
    "FOOD.toPandas()"
   ]
  },
  {
   "cell_type": "code",
   "execution_count": null,
   "metadata": {},
   "outputs": [],
   "source": [
    "%%ampl_eval\n",
    "param nPatterns integer > 0;\n",
    "set PATTERNS = 1..nPatterns; # patterns\n",
    "set WIDTHS; # finished widths\n",
    "param order {WIDTHS} >= 0; # rolls of width j ordered\n",
    "param overrun; # permitted overrun on any width\n",
    "param rolls {WIDTHS,PATTERNS} >= 0 default 0; # rolls of width i in pattern j\n",
    "\n",
    "var Cut {PATTERNS} integer >= 0; # raw rolls to cut in each pattern\n",
    "\n",
    "minimize TotalRawRolls: sum {p in PATTERNS} Cut[p];\n",
    "\n",
    "subject to FinishedRollLimits {w in WIDTHS}:\n",
    "  order[w] <= sum {p in PATTERNS} rolls[w,p] * Cut[p] <= order[w] + overrun;"
   ]
  },
  {
   "cell_type": "code",
   "execution_count": null,
   "metadata": {},
   "outputs": [],
   "source": [
    "  set WIDTHS;\n",
    "    param W >= 0;\n",
    "    param v{WIDTHS} >= 0;\n",
    "    var x{WIDTHS} integer >= 0;\n",
    "    maximize profit: sum {w in WIDTHS} v[w]*x[w];\n",
    "    subject to capacity: sum {w in WIDTHS} w*x[w] <= W;"
   ]
  }
 ],
 "metadata": {
  "kernelspec": {
   "display_name": "optima",
   "language": "python",
   "name": "python3"
  },
  "language_info": {
   "codemirror_mode": {
    "name": "ipython",
    "version": 3
   },
   "file_extension": ".py",
   "mimetype": "text/x-python",
   "name": "python",
   "nbconvert_exporter": "python",
   "pygments_lexer": "ipython3",
   "version": "3.10.2"
  }
 },
 "nbformat": 4,
 "nbformat_minor": 2
}
