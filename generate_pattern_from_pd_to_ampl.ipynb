{
 "cells": [
  {
   "cell_type": "code",
   "execution_count": 1,
   "metadata": {},
   "outputs": [
    {
     "name": "stdout",
     "output_type": "stream",
     "text": [
      "AMPL Development Version 20240404 (MSVC 19.38.33135.0, 64-bit)\n",
      "Demo license with maintenance expiring 20260131.\n",
      "Using license file \"c:\\Users\\thuduong\\Anaconda3\\envs\\optima\\Lib\\site-packages\\ampl_module_base\\bin\\ampl.lic\".\n",
      "\n"
     ]
    }
   ],
   "source": [
    "from amplpy import AMPL, ampl_notebook\n",
    "\n",
    "ampl = ampl_notebook(\n",
    "    modules=[\"gurobi\"],  # modules to install\n",
    "    license_uuid=\"default\",  # license to use\n",
    ")  # instantiate AMPL object and register magics"
   ]
  },
  {
   "cell_type": "markdown",
   "metadata": {},
   "source": [
    "### purpose: testing optima with generate all pattern but the max of each FG"
   ]
  },
  {
   "cell_type": "code",
   "execution_count": 2,
   "metadata": {},
   "outputs": [
    {
     "name": "stdout",
     "output_type": "stream",
     "text": [
      "MIN_MARGIN:6\n",
      "BOUND_KEY:limited, BOUND_VALUE:None\n"
     ]
    }
   ],
   "source": [
    "## PARAMETER - CASE 0\n",
    "PARAMS = {\"warehouse\": \"HSC\"\n",
    "          ,\"spec_name\": \"JSH270C-PO\" # yeu cau chuan hoa du lieu OP - PO\n",
    "          ,\"thickness\": 1.6\n",
    "          ,\"maker\" : \"CSVC\"\n",
    "          ,\"stock_ratio\": { #get from app \n",
    "                    \"limited\": None\n",
    "                    # \"default\": 2\n",
    "                    # \"user_setting\": 4\n",
    "                }\n",
    "        #   ,\"forecast_scenario\": median\n",
    "          }\n",
    "\n",
    "#save margin_dict in azure env, margin dictionary by warehouse, margin by range?\n",
    "margin_dict = { \"HSC\":\n",
    "    {#thickness : min_margin\n",
    "    2.6:8\n",
    "    ,2 : 8\n",
    "   , 1.6: 6\n",
    "   ,3.4:10\n",
    "    },\n",
    "    \"NQS\":\n",
    "    {\n",
    "    2.6:10\n",
    "    ,2 : 8\n",
    "   , 1.6: 6\n",
    "    }\n",
    "}\n",
    "# GET ALL PARAMS\n",
    "MIN_MARGIN = margin_dict[PARAMS[\"warehouse\"]][PARAMS[\"thickness\"]]\n",
    "print(f\"MIN_MARGIN:{MIN_MARGIN}\")\n",
    "\n",
    "BOUND_KEY = next(iter(PARAMS['stock_ratio']))\n",
    "BOUND_VALUE = PARAMS['stock_ratio'][BOUND_KEY]\n",
    "print(f\"BOUND_KEY:{BOUND_KEY}, BOUND_VALUE:{BOUND_VALUE}\")"
   ]
  },
  {
   "cell_type": "code",
   "execution_count": 3,
   "metadata": {},
   "outputs": [],
   "source": [
    "from codes.process_df import filter_by_params\n",
    "import pandas as pd\n",
    "import numpy as np\n",
    "\n",
    "# STEP 1: FILTER DF BY PARAMS\n",
    "stock_file_path = \"data/test_mc_df.xlsx\"\n",
    "finish_file_path = 'data/test_finish_df_Jul2022.xlsx'\n",
    "\n",
    "finish_df = filter_by_params(finish_file_path, PARAMS)\n",
    "stock_df = filter_by_params(stock_file_path, PARAMS)"
   ]
  },
  {
   "cell_type": "code",
   "execution_count": 4,
   "metadata": {},
   "outputs": [],
   "source": [
    "stock_df.drop(stock_df.loc[stock_df['status'].isin(['R:REWIND', 'Z:SEMI MCOIL', 'S:SEMI FINISHED'])].index, inplace=True)"
   ]
  },
  {
   "cell_type": "code",
   "execution_count": 5,
   "metadata": {},
   "outputs": [],
   "source": [
    "def filter_stock_df(df, stock_id, value_columns):\n",
    "    status_conditions = df['status'].isin(['R:REWIND'\n",
    "                            ,'Z:SEMI MCOIL'\n",
    "                            ,'S:SEMI FINISHED'])\n",
    "    \n",
    "    # Sort data according to the priority of FIFO\n",
    "    sorted_df = df.sort_values(by=['receiving_date', 'weight'], ascending=[True, False])\n",
    "\n",
    "    # Filter dataframe based on status conditions\n",
    "    if any(status_conditions):\n",
    "        sorted_df = sorted_df[sorted_df['status'].isin(['R:REWIND', 'Z:SEMI MCOIL', 'S:SEMI FINISHED'])]\n",
    "    else:\n",
    "        sorted_df = sorted_df[sorted_df['status'].isin(['M:RAW MATERIAL'])]\n",
    "\n",
    "    # Set the index of the DataFrame to 'stock_id'\n",
    "    sorted_df.set_index(stock_id, inplace=True)\n",
    "    \n",
    "    # Select desired columns\n",
    "    result = sorted_df[value_columns]\n",
    "\n",
    "    return result"
   ]
  },
  {
   "cell_type": "code",
   "execution_count": null,
   "metadata": {},
   "outputs": [],
   "source": [
    "# STEP 2: PROCESS DATA TO DF THAT CAN USE TO CONVERT TO DICT\n",
    "stock_key, value_columns = \"inventory_id\", ['receiving_date','status',\"width\", \"weight\"]\n",
    "filtered_stock_df = filter_stock_df(stock_df, stock_key, value_columns)\n",
    "filtered_stock_df # chon pool of stock co hang tram tro len giong nhau"
   ]
  },
  {
   "cell_type": "code",
   "execution_count": 6,
   "metadata": {},
   "outputs": [],
   "source": [
    "def create_bound_need_cut(df, BOUND_VALUE=None):\n",
    "    \"\"\"\n",
    "    Always recalculate with new need cut\n",
    "    Minus need_cut will always right for DEFAULT & USER SETTING\n",
    "\n",
    "    IMPROVE: co the chi can 1 cot upper bound\n",
    "    \"\"\"\n",
    "    # Limited case only be in the consideration if NEED_CUT < 0:\n",
    "    def create_fc_list(x):\n",
    "        return [f\"fc{i}\" for i in range(1, x+1)]\n",
    "    \n",
    "    if BOUND_VALUE is not None:\n",
    "        fc_columns = create_fc_list(BOUND_VALUE)\n",
    "\n",
    "        if BOUND_VALUE <= 3:\n",
    "            # Default allowing stock after cut < original need cut + X <=3 months forecast\n",
    "            df['upper_bound_needcut'] = df[fc_columns].sum(axis=1) - df['need_cut']\n",
    "        else:\n",
    "            # User setting allowing stock after cut < original need cut + X<=6 months forecast\n",
    "            df['upper_bound_needcut'] =  df[fc_columns].sum(axis=1) - df['need_cut']\n",
    "    else:\n",
    "        df['upper_bound_needcut'] = 0.3 * df['fc1'] - df['need_cut']\n",
    "    \n",
    "    def lower_bound(val):\n",
    "        return min(val, 0)\n",
    "\n",
    "    # Apply the function to each value in the column\n",
    "    df['lower_bound_needcut'] = abs(df['need_cut'].apply(lower_bound))\n",
    "    \n",
    "    return df"
   ]
  },
  {
   "cell_type": "code",
   "execution_count": 7,
   "metadata": {},
   "outputs": [],
   "source": [
    "from codes.process_df import create_upper_bound_need_cut\n",
    "\n",
    "def filter_finish_df(df, finish_id, value_columns, PARAMS):\n",
    "    \n",
    "    BOUND_KEY = next(iter(PARAMS['stock_ratio']))\n",
    "    BOUND_VALUE = PARAMS['stock_ratio'][BOUND_KEY]\n",
    "\n",
    "    # Create the upper bound for need cut\n",
    "    filtered_df = create_bound_need_cut(df, BOUND_VALUE)\n",
    "\n",
    "    # Filter the DataFrame based on the upper bound column\n",
    "    needcut_df = filtered_df[filtered_df['need_cut'] < 0]\n",
    "\n",
    "    # Sort DataFrame by 'need_cut'(negative) column in ascending order, 'width' column in descending order\n",
    "    sorted_df = needcut_df.sort_values(by=['width','need_cut'], ascending=[False,True])\n",
    "\n",
    "    # Set the index of the DataFrame to 'stock_id'\n",
    "    sorted_df.set_index(finish_id, inplace=True)\n",
    "\n",
    "    result = sorted_df[value_columns]\n",
    "\n",
    "    return result"
   ]
  },
  {
   "cell_type": "code",
   "execution_count": 8,
   "metadata": {},
   "outputs": [
    {
     "data": {
      "text/html": [
       "<div>\n",
       "<style scoped>\n",
       "    .dataframe tbody tr th:only-of-type {\n",
       "        vertical-align: middle;\n",
       "    }\n",
       "\n",
       "    .dataframe tbody tr th {\n",
       "        vertical-align: top;\n",
       "    }\n",
       "\n",
       "    .dataframe thead th {\n",
       "        text-align: right;\n",
       "    }\n",
       "</style>\n",
       "<table border=\"1\" class=\"dataframe\">\n",
       "  <thead>\n",
       "    <tr style=\"text-align: right;\">\n",
       "      <th></th>\n",
       "      <th>width</th>\n",
       "      <th>need_cut</th>\n",
       "      <th>upper_bound_needcut</th>\n",
       "      <th>lower_bound_needcut</th>\n",
       "      <th>fc1</th>\n",
       "      <th>fc2</th>\n",
       "      <th>fc3</th>\n",
       "    </tr>\n",
       "    <tr>\n",
       "      <th>order_id</th>\n",
       "      <th></th>\n",
       "      <th></th>\n",
       "      <th></th>\n",
       "      <th></th>\n",
       "      <th></th>\n",
       "      <th></th>\n",
       "      <th></th>\n",
       "    </tr>\n",
       "  </thead>\n",
       "  <tbody>\n",
       "    <tr>\n",
       "      <th>13</th>\n",
       "      <td>256.0</td>\n",
       "      <td>-2400</td>\n",
       "      <td>3131.236166</td>\n",
       "      <td>2400</td>\n",
       "      <td>2437.453888</td>\n",
       "      <td>1616.803584</td>\n",
       "      <td>1543.312512</td>\n",
       "    </tr>\n",
       "    <tr>\n",
       "      <th>12</th>\n",
       "      <td>216.0</td>\n",
       "      <td>-4500</td>\n",
       "      <td>5898.139200</td>\n",
       "      <td>4500</td>\n",
       "      <td>4660.464000</td>\n",
       "      <td>5427.664800</td>\n",
       "      <td>5225.083200</td>\n",
       "    </tr>\n",
       "    <tr>\n",
       "      <th>11</th>\n",
       "      <td>155.0</td>\n",
       "      <td>-1200</td>\n",
       "      <td>1662.711000</td>\n",
       "      <td>1200</td>\n",
       "      <td>1542.370000</td>\n",
       "      <td>1663.680000</td>\n",
       "      <td>2235.570000</td>\n",
       "    </tr>\n",
       "    <tr>\n",
       "      <th>14</th>\n",
       "      <td>72.5</td>\n",
       "      <td>-2000</td>\n",
       "      <td>2314.174333</td>\n",
       "      <td>2000</td>\n",
       "      <td>1047.247776</td>\n",
       "      <td>1745.412960</td>\n",
       "      <td>909.452016</td>\n",
       "    </tr>\n",
       "  </tbody>\n",
       "</table>\n",
       "</div>"
      ],
      "text/plain": [
       "          width  need_cut  upper_bound_needcut  lower_bound_needcut  \\\n",
       "order_id                                                              \n",
       "13        256.0     -2400          3131.236166                 2400   \n",
       "12        216.0     -4500          5898.139200                 4500   \n",
       "11        155.0     -1200          1662.711000                 1200   \n",
       "14         72.5     -2000          2314.174333                 2000   \n",
       "\n",
       "                  fc1          fc2          fc3  \n",
       "order_id                                         \n",
       "13        2437.453888  1616.803584  1543.312512  \n",
       "12        4660.464000  5427.664800  5225.083200  \n",
       "11        1542.370000  1663.680000  2235.570000  \n",
       "14        1047.247776  1745.412960   909.452016  "
      ]
     },
     "execution_count": 8,
     "metadata": {},
     "output_type": "execute_result"
    }
   ],
   "source": [
    "finish_key, value_columns = \"order_id\", [\"width\", \"need_cut\", 'upper_bound_needcut', 'lower_bound_needcut', \"fc1\", \"fc2\", \"fc3\"]\n",
    "filtered_finish_df = filter_finish_df(finish_df,finish_key, value_columns, PARAMS)\n",
    "filtered_finish_df"
   ]
  },
  {
   "cell_type": "markdown",
   "metadata": {},
   "source": [
    "### Master Problem"
   ]
  },
  {
   "cell_type": "code",
   "execution_count": null,
   "metadata": {},
   "outputs": [],
   "source": [
    "mc_width = 1219\n",
    "mc_weight = 10000 # filter coil with this weight\n",
    "finish = filtered_finish_df[[\"width\", 'upper_bound_needcut', 'lower_bound_needcut',]].to_dict(orient='index')\n",
    "finish"
   ]
  },
  {
   "cell_type": "code",
   "execution_count": null,
   "metadata": {},
   "outputs": [],
   "source": [
    "cuts_dict = {key: 0 for key in finish.keys()}\n",
    "for f in finish:\n",
    "    # max number of f that fit on s \n",
    "    num_cuts_by_width = int((mc_width -MIN_MARGIN) / finish[f][\"width\"])\n",
    "    # max number of f that satisfied the need cut WEIGHT BOUND\n",
    "    num_cuts_by_weight = int((finish[f][\"upper_bound_needcut\"] * mc_width ) / (finish[f][\"width\"]*mc_weight))\n",
    "    # min of two max will satisfies both\n",
    "    num_cuts = min(num_cuts_by_width, num_cuts_by_weight)\n",
    "    # make pattern and add to list of patterns\n",
    "    if num_cuts > 0:\n",
    "        cuts_dict[f] = num_cuts\n",
    "\n",
    "rolls = {\n",
    "    (f, 1+i): cuts_dict[f] for i, f in enumerate(cuts_dict)\n",
    "}\n",
    "rolls"
   ]
  },
  {
   "cell_type": "code",
   "execution_count": null,
   "metadata": {},
   "outputs": [],
   "source": [
    "masterprob = AMPL()\n",
    "masterprob.eval(\"reset;\")\n",
    "masterprob.eval(\n",
    "    \"\"\"\n",
    "      reset data;\n",
    "      param nPatterns integer > 0; #pat\n",
    "      set PATTERNS = 1..nPatterns; # patterns\n",
    "      set FINISH; # finished id\n",
    "\n",
    "      # weight per unit of stock\n",
    "      param wu > 0;\n",
    "\n",
    "      param widthF {FINISH} >= 0; #finish width\n",
    "      param f_lower_demand {FINISH} >= 0; # rolls of width i PO\n",
    "      # param f_upper_demand {FINISH}; # permitted overrun on any width\n",
    "\n",
    "      param rolls {FINISH, PATTERNS} >= 0 default 0; # rolls of width i in pattern j\n",
    "\n",
    "      var b{PATTERNS} binary;  # which stock s is choosen for pattern p\n",
    "      maximize total_width:\n",
    "        sum{p in PATTERNS, f in FINISH} b[p] * rolls[f,p] * widthF[f];\n",
    "\n",
    "      subject to weight_demand {f in FINISH}:\n",
    "        sum {p in PATTERNS} b[p]*  rolls[f,p] * widthF[f] * wu <= f_upper_demand[f];\n",
    "\n",
    "    \"\"\"\n",
    "    )\n",
    "\n",
    "#STEP 3: SET VALUE AND PARAMS - Send data to AMPL\n",
    "# SET INDICES\n",
    "masterprob.set[\"FINISH\"] = list(finish.keys())\n",
    "masterprob.param[\"nPatterns\"] = len(finish.keys())\n",
    "# Send SCALAR\n",
    "masterprob.param[\"wu\"] = mc_weight/mc_width\n",
    "# Send VECTOR\n",
    "masterprob.param[\"f_upper_demand\"] = {f: finish[f][\"upper_bound_needcut\"] for f in finish.keys()}\n",
    "# ampl.param[\"f_lower_demand\"] = {f: finish[f][\"lower_bound_needcut\"] for f in finish.keys()}\n",
    "masterprob.param[\"widthF\"] = {f: finish[f][\"width\"] for f in finish.keys()}\n",
    "# Generate and send initial pattern matrix\n",
    "masterprob.param[\"rolls\"] = rolls"
   ]
  },
  {
   "cell_type": "markdown",
   "metadata": {},
   "source": [
    "### Set up for generation loop"
   ]
  },
  {
   "cell_type": "code",
   "execution_count": null,
   "metadata": {},
   "outputs": [],
   "source": [
    "# Set solve options\n",
    "masterprob.option[\"solver\"] = \"gurobi\"\n",
    "masterprob.option[\"relax_integrality\"] = 1\n",
    "\n",
    "# Create a param for sending AMPL new patterns\n",
    "masterprob.eval(\"param newpat {FINISH} integer >= 0;\")\n",
    "new_pattern = ampl.param[\"newpat\"]"
   ]
  },
  {
   "cell_type": "markdown",
   "metadata": {},
   "source": [
    "### Define the knapsack subproblem"
   ]
  },
  {
   "cell_type": "code",
   "execution_count": null,
   "metadata": {},
   "outputs": [],
   "source": [
    "# Define the knapsack subproblem\n",
    "subprob = AMPL()\n",
    "subprob.option[\"solver\"] = \"gurobi\"\n",
    "subprob.eval(\n",
    "    \"\"\"\n",
    "    set FINISH;\n",
    "    param width_s_min_margin integer;\n",
    "    \n",
    "    param widthF{FINISH} >= 0; #finish width\n",
    "    param v{FINISH} >= 0;\n",
    "    var x{FINISH} integer >= 0;\n",
    "\n",
    "    maximize profit: sum {f in FINISH} v[f]*x[f];\n",
    "    subject to feasible_pattern: sum {f in FINISH} widthF[f]*x[f] <= width_s_min_margin;\n",
    "\"\"\"\n",
    ")\n",
    "subprob.set[\"FINISH\"] = list(finish.keys())\n",
    "subprob.param[\"width_s_min_margin\"] = mc_width - MIN_MARGIN\n",
    "subprob.param[\"widthF\"] = {f: finish[f][\"width\"] for f in finish.keys()}\n",
    "values = subprob.param[\"v\"]\n",
    "kpsolution = subprob.var[\"x\"]\n",
    "profit = subprob.obj[\"profit\"]"
   ]
  },
  {
   "cell_type": "markdown",
   "metadata": {},
   "source": [
    "### LOOP"
   ]
  },
  {
   "cell_type": "code",
   "execution_count": null,
   "metadata": {},
   "outputs": [],
   "source": [
    "limits = masterprob.get_constraint(\"weight_demand\")\n",
    "while True:\n",
    "    print(\"Master problem:\")\n",
    "    masterprob.solve()\n",
    "    print()\n",
    "\n",
    "    # Retrieve duals & look for new pattern\n",
    "    # Solve knapsack problem for potential new pattern\n",
    "    values.set_values(limits.get_values())\n",
    "    print(\"Subproblem:\")\n",
    "    subprob.solve()\n",
    "    print()\n",
    "    if profit.value() <= 1.000001:\n",
    "        break\n",
    "\n",
    "    # Send new pattern to AMPL\n",
    "    new_pattern.set_values(kpsolution.get_values())\n",
    "    ampl.eval(\"let nPatterns := nPatterns + 1;\")\n",
    "    ampl.eval(\"let {f in FINISH} rolls[f, nPatterns] := newpat[f];\")"
   ]
  },
  {
   "cell_type": "code",
   "execution_count": null,
   "metadata": {},
   "outputs": [],
   "source": [
    "# Compute and display integer solution\n",
    "ampl.option[\"relax_integrality\"] = 0\n",
    "ampl.solve()\n",
    "\n",
    "# Retrieve solution\n",
    "patcut = ampl.var[\"b\"].to_list(skip_index=True)\n",
    "\n",
    "# Display solution\n",
    "rolls = ampl.param[\"rolls\"]\n",
    "npatterns = int(ampl.param[\"nPatterns\"].value())\n",
    "{p for p in range(npatterns) if patcut[p] > 0}\n"
   ]
  },
  {
   "cell_type": "code",
   "execution_count": null,
   "metadata": {},
   "outputs": [],
   "source": [
    "rolls"
   ]
  },
  {
   "cell_type": "code",
   "execution_count": null,
   "metadata": {},
   "outputs": [],
   "source": [
    "solution = [\n",
    "    ([int(rolls[finish[i], p]) for i in range(len(finish))], int(patcut[p]))\n",
    "    for p in range(npatterns)\n",
    "    if patcut[p] > 0\n",
    "]\n"
   ]
  }
 ],
 "metadata": {
  "kernelspec": {
   "display_name": "optima",
   "language": "python",
   "name": "python3"
  },
  "language_info": {
   "codemirror_mode": {
    "name": "ipython",
    "version": 3
   },
   "file_extension": ".py",
   "mimetype": "text/x-python",
   "name": "python",
   "nbconvert_exporter": "python",
   "pygments_lexer": "ipython3",
   "version": "3.12.2"
  }
 },
 "nbformat": 4,
 "nbformat_minor": 2
}
