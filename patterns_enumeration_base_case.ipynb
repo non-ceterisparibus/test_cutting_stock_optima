{
 "cells": [
  {
   "cell_type": "markdown",
   "metadata": {},
   "source": [
    "# Base Case Test with Known Result\n",
    "\n",
    "In this notebook, we will demonstrate a base case test where we have a known result. This is a common practice in testing algorithms or functions to ensure they are working correctly."
   ]
  },
  {
   "cell_type": "code",
   "execution_count": null,
   "metadata": {},
   "outputs": [],
   "source": [
    "import pandas as pd\n",
    "import numpy as np\n",
    "import math\n",
    "\n",
    "SOLVER_MILO = \"highs\"\n",
    "SOLVER_MINLO = \"ipopt\"\n",
    "\n",
    "from amplpy import AMPL, ampl_notebook\n",
    "\n",
    "ampl = ampl_notebook(\n",
    "    modules=[\"coin\", \"highs\"],  # modules to install\n",
    "    license_uuid=\"default\",  # license to use\n",
    ")  # instantiate AMPL object and register magics"
   ]
  },
  {
   "cell_type": "code",
   "execution_count": null,
   "metadata": {},
   "outputs": [],
   "source": [
    "\n",
    "# Install solver modules:\n",
    "$ python -m amplpy.modules install highs gurobi\n",
    "\n",
    "# Activate your license (e.g., free ampl.com/ce or ampl.com/courses licenses):\n",
    "$ python -m amplpy.modules activate 887bd036-867c-4eb1-bb85-e70c449187de\n",
    "\n",
    "# Import and instantiate AMPL object in Python:\n",
    "from amplpy import AMPL\n",
    "ampl = AMPL() # instantiate AMPL object"
   ]
  },
  {
   "cell_type": "code",
   "execution_count": null,
   "metadata": {},
   "outputs": [],
   "source": [
    "shell \"amplkey activate --uuid 887bd036-867c-4eb1-bb85-e70c449187de\";"
   ]
  },
  {
   "cell_type": "markdown",
   "metadata": {},
   "source": [
    "## I. Problem formulation\n",
    "\n",
    "Consider a set ${S}$ of available stock materials that can be cut to size to produce a set of finished parts. Each stock $s\\in S$ is characterized by a width $w^S_s$. A customer order is received to product a set of finished products $F$. Each finished product $f\\in F$ is specified by a required number $d_f$ and width $w^F_f$. The base case test involves providing the algorithm or function with the simplest input or scenario for which we know the expected outcome. This allows us to verify if the algorithm or function produces the expected result under these conditions.\n",
    "\n",
    "The **cutting stock problem** is to find a minimum lost function to fulfill the customer order from the stock materials."
   ]
  },
  {
   "cell_type": "code",
   "execution_count": null,
   "metadata": {},
   "outputs": [],
   "source": [
    "## PARAMETER\n",
    "BOUND = 0.5 # over cut - maxi bound on fc quantity\n",
    "MIN_MARGIN = 8\n",
    "\n",
    "# TEST DATA\n",
    "stocks = {\n",
    "    \"S1\": {\"width\": 1219, \"weight\": 4395 },\n",
    "    \"S2\": {\"width\": 1219, \"weight\": 9260},\n",
    "    \"S3\": {\"width\": 1018, \"weight\": 3475},\n",
    "    \"S4\": {\"width\": 1219, \"weight\": 8535},\n",
    "    \"S5\": {\"width\": 236, \"weight\": 1571},\n",
    "}\n",
    "\n",
    "finish = {\n",
    "    \"F1\": {\"width\": 235, \"need_cut\": 800 },\n",
    "    \"F2\": {\"width\": 147, \"need_cut\": 1308},\n",
    "    \"F3\": {\"width\": 136, \"need_cut\": 1290},\n",
    "    \"F4\": {\"width\": 68, \"need_cut\": 600},\n",
    "    \"F5\": {\"width\": 60, \"need_cut\": 170},\n",
    "    \"F6\": {\"width\": 85, \"need_cut\": 132},\n",
    "    \"F7\": {\"width\": 57, \"need_cut\": 100},\n",
    "    \"F8\": {\"width\": 92, \"need_cut\": 100}, \n",
    "    \"F9\": {\"width\": 57, \"need_cut\": 735}, \n",
    "}"
   ]
  },
  {
   "cell_type": "markdown",
   "metadata": {},
   "source": [
    "## II. Patterns\n",
    "\n",
    "One approach to solving this problem is to create a list of all finished parts, a list of stocks for each length, and then use a set of binary decision variables to assign each finished product to a particular piece of stock. This approach will work well for a small problems, but the computational complexity scales much too rapidly with the size of the problem to be practical for business applications.\n",
    "\n",
    "Given a list of patterns, the optimization problem is to compute how many copies of each pattern should be cut to fit the width of the Mother Coil and under the weight demand of the Finished Goods\n",
    "\n",
    "**A pattern $p$** is specified by the stock $s_p$ assigned to the pattern and \n",
    "\n",
    "integers $ap_{f}$ that specify the maximum of the finished parts of type $f$ are cut from stock $s_p$ and \n",
    "$\\text{margin}^S_{s}$ is the allowed minimum margin of the according steel coil type; \n",
    "$wu^S_{s}$ the weight unit per mm wight of the coil stock, which is the weight divided by the MC width; \n",
    "$d^F_f$ the weight demand of the Finished Goods. A pattern $p\\in P$ is feasible if <br>\n",
    "\n",
    "$$\n",
    "\\begin{align}\n",
    "& ap_{f}w^F_f  \\leq   w^S_{s} - \\text{margin}^S_{s} && \\forall f\\in F\\\\\n",
    "& wu_{s} \\times ( ap_{f} w^F_f) \\leq d^F_f && \\forall f\\in F\n",
    "\\end{align}\n",
    "$$\n",
    "\n",
    "The function `make_patterns` defined below produces a partial list of feasible *naive* patterns for given sets of stocks and finished parts. Each pattern is represented as dictionary that specifies an associated stock item, and a dictionary of cuts that specify the finished parts cut from the stock. The algorithm is simple, it just considers every finished parts and stock items, then reports the number of parts $f$ that can be cut from stock item $s$.\n",
    "\n",
    "### 2.1 Make Pattern Signature\n",
    "\n",
    "The function signature of `make_patterns_by_weight_width` is as follows:\n",
    "\n",
    "```python\n",
    "from codes.create_patterns import make_patterns_by_weight_width"
   ]
  },
  {
   "cell_type": "code",
   "execution_count": null,
   "metadata": {},
   "outputs": [],
   "source": [
    "from codes.create_patterns import make_patterns_by_weight_width\n",
    "print(make_patterns_by_weight_width.__doc__)"
   ]
  },
  {
   "cell_type": "code",
   "execution_count": null,
   "metadata": {},
   "outputs": [],
   "source": [
    "naive_patterns = make_patterns_by_weight_width(stocks, finish, BOUND, MIN_MARGIN)\n",
    "len(naive_patterns)"
   ]
  },
  {
   "cell_type": "markdown",
   "metadata": {},
   "source": [
    "Here, we will assume there exists the optimal solution in the combination created from the naive pattern\n",
    "\n",
    "\n",
    "### 2.2 Cut Pattern Signature\n",
    "\n",
    "The function signature of `generate_cut_combinations` is as follows:\n",
    "\n",
    "```python\n",
    "from codes.create_patterns import generate_cut_combinations\n"
   ]
  },
  {
   "cell_type": "code",
   "execution_count": null,
   "metadata": {},
   "outputs": [],
   "source": [
    "from codes.create_patterns import ap_stock_bound, generate_cut_combinations\n",
    "\n",
    "print(generate_cut_combinations.__doc__)"
   ]
  },
  {
   "cell_type": "code",
   "execution_count": null,
   "metadata": {},
   "outputs": [],
   "source": [
    "from codes.create_patterns import ap_stock_bound, generate_cut_combinations\n",
    "\n",
    "patterns = []\n",
    "for s in stocks:\n",
    "    max_cuts_dict, min_cuts_dict = ap_stock_bound(naive_patterns,finish,s)\n",
    "    generate_cut_combinations(s, min_cuts_dict, max_cuts_dict, patterns)\n"
   ]
  },
  {
   "cell_type": "markdown",
   "metadata": {},
   "source": [
    "## III. Optimal cutting using known patterns\n",
    "Given a list of patterns, the optimization problem is to compute how many copies of each pattern should be cut to meet the demand for finished parts at minimum lost.\n",
    "\n",
    "Let binary variable $b_{p}\\in\\mathbb{Z}_2$ denote the assignment of chosen stock to pattern $p$,\n",
    "\n",
    "\\begin{align}\n",
    "\\min \\text{trim cost}: \\quad &  w^S_s - \\sum_{p\\in P} \\sum_{f\\in F}b_{p} a_{fp}w^F_f \\\\\n",
    "\\text{s.t.} \\quad\n",
    "& \\sum_{p\\in P}b_{p} =  1 \\\\\n",
    "& 96\\% \\times  w^S_s \\leq  \\sum_{p\\in P} \\sum_{f\\in F}b_{p} a_{fp}w^F_f \\leq  w^S_s -\\text{margin}_{s} \\\\\n",
    "& \\sum_{p \\in P}b_{p} wu^S_{s} \\times (a_{fp} w^F_{f})  \\leq d^F_f && \\forall f\\in F \\\\\n",
    "\n",
    "& a_{fp} \\in \\mathbb{Z}_+ && \\forall f\\in F,  \\forall p\\in P , \\\\\n",
    "& b_{p} \\in \\{0,1\\} &&  \\forall p\\in P \\\\\n",
    "\\end{align}\n",
    "\n",
    "### 3.1.Explaination:\n",
    "##### A. Pattern Constraint\n",
    "For each *Pattern*, find one stock that fit the requirement of minimization\n",
    "$$\n",
    "\\sum_{P\\in P}b_{p} =  1 \\quad \n",
    "$$\n",
    "##### B. Width Demaind Constraint\n",
    "The width of the finished goods cut for each item $f \\in F$ \n",
    "should be at least 96% of the width of the mother coil (with a maximum 4% trim loss), but no greater than the width of the mother coil minus the stock margin.\"\n",
    "$$\n",
    "0.96 \\times w^S_s \\leq \\sum_{p\\in P} \\sum_{f\\in F}  b_{p} a_{fp}w^F_f \\leq  w^S_s -\\text{margin}_{s} \\quad \\forall p\\in P \n",
    "$$\n",
    "\n",
    "##### C. Weight Demand Constraint\n",
    "Find, for each *Pattern*, the stock whose weight ensures that the combined weight of the after-cut pieces is either less than or equal to the upper-bound weight of the Finished Goods.\n",
    "$$\n",
    "\\sum_{p\\in P} b_{p} wu^S_{s} \\times (a_{fp} w^F_{f}) \\leq d_f \\quad \\forall f \\in F \n",
    "$$"
   ]
  },
  {
   "cell_type": "markdown",
   "metadata": {},
   "source": [
    "### 3.2 Cut Pattern Signature\n",
    "\n",
    "The function signature of `cut_patterns_by_stock` is as follows:\n",
    "\n",
    "```python\n",
    "from codes.optima_sol import cut_patterns_by_stock\n",
    "\"\"\"\n",
    "        set F;\n",
    "        set P;\n",
    "\n",
    "        # width stock\n",
    "        param width_s integer;\n",
    "        # weight per unit of stock\n",
    "        param wu > 0;\n",
    "        # width finished pieces\n",
    "        param width_f{F};\n",
    "\n",
    "        # upper bound with over-cut\n",
    "        param f_upper_demand{F};\n",
    "        param demand_finish{F};\n",
    "        # how many f pieces are returned from pattern p\n",
    "        param a{F, P};\n",
    "        # which stock s is choosen for pattern p\n",
    "        var b{P} binary;\n",
    "\n",
    "        # Find the patterns of stock that minimize the loss\n",
    "        minimize trim_loss:\n",
    "          width_s - sum{p in P, f in F} b[p] * a[f,p] * width_f[f];\n",
    "        \n",
    "        subject to assign_each_finish_to_pattern:\n",
    "          sum{p in P} b[p]  = 1;\n",
    "        \n",
    "        subject to feasible_pattern_max_margin:\n",
    "          sum{p in P, f in F} b[p]* a[f,p] * width_f[f] >= 0.96 * width_s;\n",
    "        \n",
    "        subject to feasible_pattern_min_margin:\n",
    "          sum{p in P, f in F}  b[p] * a[f,p] * width_f[f] <= width_s - 8;\n",
    "\n",
    "        subject to weight_demand {f in F}:\n",
    "          sum{p in P} b[p] * a[f,p] * width_f[f] * wu <= f_upper_demand[f];\n",
    "    \"\"\""
   ]
  },
  {
   "cell_type": "code",
   "execution_count": null,
   "metadata": {},
   "outputs": [],
   "source": [
    "from codes.optima_sol import cut_patterns_by_stock\n",
    "\n",
    "for s in stocks.keys():\n",
    "    filtered_patterns = [item for item in patterns if item['stock'] == s]\n",
    "    opt_patterns = cut_patterns_by_stock(\n",
    "                                     stocks[s][\"width\"]\n",
    "                                      ,stocks[s][\"weight\"] \n",
    "                                     ,finish \n",
    "                                     ,filtered_patterns\n",
    "                                     )\n",
    "\n",
    "    if len(opt_patterns) == 0:\n",
    "        print(f\"No optimal solution with stock {s}\")\n",
    "        print(\"=================================\")\n",
    "    \n",
    "    else:\n",
    "        print(f\"Solution for stock {s}\")\n",
    "        for p in opt_patterns:\n",
    "            print(f\"take pattern {p}\")\n",
    "            print(\"*****\")\n",
    "            cuts_dict= filtered_patterns[p]['cuts']\n",
    "            print(cuts_dict)\n",
    "            trim_loss = stocks[s][\"width\"] - sum([finish[f][\"width\"]*cuts_dict[f] for f in finish.keys()])\n",
    "            weight_loss = trim_loss * stocks[s][\"weight\"]/stocks[s][\"width\"]\n",
    "            print(f\"trim loss: {trim_loss}, weight loss: {weight_loss}\")\n",
    "        print(\"=================================\")"
   ]
  }
 ],
 "metadata": {
  "kernelspec": {
   "display_name": "optima",
   "language": "python",
   "name": "python3"
  },
  "language_info": {
   "codemirror_mode": {
    "name": "ipython",
    "version": 3
   },
   "file_extension": ".py",
   "mimetype": "text/x-python",
   "name": "python",
   "nbconvert_exporter": "python",
   "pygments_lexer": "ipython3",
   "version": "3.12.2"
  }
 },
 "nbformat": 4,
 "nbformat_minor": 2
}
