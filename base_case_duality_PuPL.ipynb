{
 "cells": [
  {
   "cell_type": "code",
   "execution_count": 1,
   "metadata": {},
   "outputs": [],
   "source": [
    "SOLVER_MILO = \"highs\"\n",
    "SOLVER_MINLO = \"ipopt\"\n",
    "\n",
    "from ortools.linear_solver import pywraplp\n",
    "from pulp import LpMaximize, LpMinimize, LpProblem, LpVariable, lpSum, PULP_CBC_CMD, value"
   ]
  },
  {
   "cell_type": "markdown",
   "metadata": {},
   "source": [
    "In this nb, we solve the cutting optima problem with big order quantity to cut many specs at the same time with many stocks ( stock with same width and nearly same weight)\n",
    "The condition/constraints as below: \n",
    "- `Generate Pattern` that fit in stock choice and sum each FG cut > lower bound demand\n",
    "- `Filter Pattern` that keep the trim_cost <= 4%\n",
    "- `Cut Pattern` that cut many stocks with filtered_pattern to minimize the stocks used"
   ]
  },
  {
   "cell_type": "markdown",
   "metadata": {},
   "source": [
    "## Base Case with Duality\n",
    "### 0. Helpers"
   ]
  },
  {
   "cell_type": "code",
   "execution_count": null,
   "metadata": {},
   "outputs": [],
   "source": [
    "from typing import Dict, Any\n",
    "\n",
    "def check_finish_weight_per_stock(weight_s: float, width_s: float, finish: Dict[str, Dict[str, Any]], BOUND_KEY: str) -> Dict[str, bool]:\n",
    "    \"\"\"\n",
    "    DOMAIN KNOWLEDGE:\n",
    "    - As upper_demand is slightly/or significant higher than need_cut, \n",
    "    - We can check to pick stock that have weight per slice cut < upper_demand\n",
    "    -  So that, at least, we can cut 1 slice of the FG with that kind of stock\n",
    "\n",
    "    PICK STOCK WITH ALL/ALMOST TRUE VALUE (SUM TRUE LARGEST)\n",
    "    \"\"\"\n",
    "    # MC WEIGHT PER UNIT\n",
    "    wu = weight_s / width_s\n",
    "    # dict of weight per slice FG on the chosen stock\n",
    "    weight_slice_f = {f: finish[f][\"width\"]*wu for f in finish.keys()}\n",
    "    # dict of upperbound demand FG on the chosen stock\n",
    "    f_upper_demand = {f: finish[f][\"upper_bound\"] for f in finish.keys()}\n",
    "\n",
    "    # dict of Yes/No \n",
    "    check_f ={f: weight_slice_f[f] < f_upper_demand[f] for f in finish.keys()}\n",
    "    num_var_f = {f: 1 if weight_slice_f[f] < f_upper_demand[f] else 0 for f in finish.keys()}\n",
    "\n",
    "    return check_f, num_var_f"
   ]
  },
  {
   "cell_type": "code",
   "execution_count": null,
   "metadata": {},
   "outputs": [],
   "source": [
    "def make_naive_patterns(stocks, finish):\n",
    "    \"\"\"\n",
    "    Generates patterns of feasible cuts from stock lengths to meet specified finish lengths.\n",
    "\n",
    "    Parameters:\n",
    "    stocks (dict): A dictionary where keys are stock identifiers and values are dictionaries\n",
    "                   with key 'length' representing the length of each stock.\n",
    "\n",
    "    finish (dict): A dictionary where keys are finish identifiers and values are dictionaries\n",
    "                   with key 'length' representing the required finish lengths.\n",
    "\n",
    "    Returns:\n",
    "    patterns (list): A list of dictionaries, where each dictionary represents a pattern of cuts.\n",
    "                   Each pattern dictionary contains 'stock' (the stock identifier) and 'cuts'\n",
    "                   (a dictionary where keys are finish identifiers and the value is the number\n",
    "                   of cuts from the stock for each finish).\n",
    "    \"\"\"\n",
    "\n",
    "    patterns = []\n",
    "    for f in finish:\n",
    "        feasible = False\n",
    "        for s in stocks:\n",
    "            # max number of f that fit on s\n",
    "            num_cuts = int(stocks[s][\"width\"] / finish[f][\"width\"])\n",
    "\n",
    "            # make pattern and add to list of patterns\n",
    "            if num_cuts > 0:\n",
    "                feasible = True\n",
    "                cuts_dict = {key: 0 for key in finish.keys()}\n",
    "                cuts_dict[f] = num_cuts\n",
    "                patterns.append({\"stock\": s, \"cuts\": cuts_dict})\n",
    "\n",
    "        if not feasible:\n",
    "            print(f\"No feasible pattern was found for {f}\")\n",
    "            return []\n",
    "\n",
    "    return patterns"
   ]
  },
  {
   "cell_type": "markdown",
   "metadata": {},
   "source": [
    "\n",
    "### 1. Loading data"
   ]
  },
  {
   "cell_type": "code",
   "execution_count": 4,
   "metadata": {},
   "outputs": [
    {
     "name": "stdout",
     "output_type": "stream",
     "text": [
      "MIN_MARGIN:6\n",
      "BOUND_KEY:limited, BOUND_VALUE:None\n"
     ]
    }
   ],
   "source": [
    "## PARAMETER \n",
    "#   DOMAIN KNOWLEDGE:\n",
    "# - User usually overcut current order_quantity (30 -50%) default on model\n",
    "# - Users want to cut all PO qty in one stock cut ( increase boundary to max 3 months forecast)\n",
    "# \n",
    "# - CASE 0\n",
    "PARAMS = {\"warehouse\": \"HSC\"\n",
    "          ,\"spec_name\": \"JSH270C-PO\" # yeu cau chuan hoa du lieu OP - PO\n",
    "          ,\"thickness\": 1.6\n",
    "          ,\"maker\" : \"CSVC\"\n",
    "          ,\"stock_ratio\": { #get from app \n",
    "                    \"limited\": None\n",
    "                    # \"default\": 2\n",
    "                    # \"user_setting\": 4\n",
    "                }\n",
    "        #   ,\"forecast_scenario\": median\n",
    "          }\n",
    "\n",
    "margin_dict = { \"HSC\":\n",
    "    {#save margin_dict in azure env, margin dictionary by warehouse\n",
    "    \"thickness_2.6\": {\n",
    "        \"thickness\": 2.6,\n",
    "        \"margin\": 10\n",
    "    },\n",
    "    \"thickness_2\": {\n",
    "        \"thickness\": 2,\n",
    "        \"margin\": 8\n",
    "    },\n",
    "    \"thickness_1.6\": {\n",
    "        \"thickness\": 1.6,\n",
    "        \"margin\": 6\n",
    "    }\n",
    "    },\n",
    "    \"NQS\":\n",
    "    {#save margin_dict in azure env, margin dictionary by warehouse\n",
    "    \"thickness_2.6\": {\n",
    "        \"thickness\": 2.6,\n",
    "        \"margin\": 10\n",
    "    },\n",
    "    \"thickness_2\": {\n",
    "        \"thickness\": 2,\n",
    "        \"margin\": 8\n",
    "    },\n",
    "    \"thickness_1.6\": {\n",
    "        \"thickness\": 1.6,\n",
    "        \"margin\": 6\n",
    "    }\n",
    "    }\n",
    "}\n",
    "\n",
    "# GET ALL PARAMS\n",
    "MIN_MARGIN = margin_dict[PARAMS[\"warehouse\"]][f\"thickness_{PARAMS[\"thickness\"]}\"][\"margin\"]\n",
    "print(f\"MIN_MARGIN:{MIN_MARGIN}\")\n",
    "\n",
    "## PARAMETER\n",
    "BOUND_KEY = next(iter(PARAMS['stock_ratio']))\n",
    "BOUND_VALUE = PARAMS['stock_ratio'][BOUND_KEY]\n",
    "print(f\"BOUND_KEY:{BOUND_KEY}, BOUND_VALUE:{BOUND_VALUE}\")\n",
    "LIMIT_BOUND_KEY, LIMIT_BOUND_VALUE =  \"limited\", None"
   ]
  },
  {
   "cell_type": "code",
   "execution_count": 5,
   "metadata": {},
   "outputs": [],
   "source": [
    "# TEST DATA - NORMAL CASE , NO DEFECT\n",
    "stocks = {\n",
    "    \"S0\": {\"width\": 236, \"weight\": 1500, \"qty\": 1},\n",
    "    \"S1\": {\"width\": 1219, \"weight\": 4395, \"qty\": 5 },\n",
    "    \"S2\": {\"width\": 1219, \"weight\": 5260, \"qty\": 3},\n",
    "    \"S3\": {\"width\": 1018, \"weight\": 3475, \"qty\": 3},\n",
    "    \"S4\": {\"width\": 1219, \"weight\": 8535, \"qty\": 2},\n",
    "    # \"S5\": {\"width\": 236, \"weight\": 1571, \"qty\": 1},\n",
    "    \"S5\": {\"width\": 1219, \"weight\": 9260, \"qty\": 3},\n",
    "}\n",
    "\n",
    "finish = {\n",
    "    \"F1\": {\"width\": 235, \"need_cut\": 800, \"upper_bound\": 1040},\n",
    "    \"F2\": {\"width\": 147, \"need_cut\": 3308, \"upper_bound\": 3700},\n",
    "    \"F3\": {\"width\": 136, \"need_cut\": 2290, \"upper_bound\": 3677},\n",
    "    \"F4\": {\"width\": 68, \"need_cut\": 1600, \"upper_bound\": 1800},\n",
    "    \"F5\": {\"width\": 60, \"need_cut\": 270, \"upper_bound\": 521},\n",
    "    \"F6\": {\"width\": 85, \"need_cut\": 132, \"upper_bound\": 171},\n",
    "    \"F7\": {\"width\": 57, \"need_cut\": 100, \"upper_bound\": 130},\n",
    "    \"F8\": {\"width\": 92, \"need_cut\": 100, \"upper_bound\": 130}, \n",
    "    \"F9\": {\"width\": 57, \"need_cut\": 735, \"upper_bound\": 955},\n",
    "}"
   ]
  },
  {
   "cell_type": "markdown",
   "metadata": {},
   "source": [
    "### 2. Filter with list of Stocks (highest qty) can fit as-many-as possible FG"
   ]
  },
  {
   "cell_type": "code",
   "execution_count": 6,
   "metadata": {},
   "outputs": [
    {
     "data": {
      "text/plain": [
       "{'S1': {'width': 1219, 'weight': 4395, 'qty': 5, 'total_f_fit': 6},\n",
       " 'S2': {'width': 1219, 'weight': 5260, 'qty': 3, 'total_f_fit': 6},\n",
       " 'S3': {'width': 1018, 'weight': 3475, 'qty': 3, 'total_f_fit': 6}}"
      ]
     },
     "execution_count": 6,
     "metadata": {},
     "output_type": "execute_result"
    }
   ],
   "source": [
    "def filter_stock(stocks,finish):\n",
    "    new_stock_list = {}\n",
    "    max_f_fit = 0\n",
    "    for stock_name, stock_info in stocks.items():\n",
    "        _, num_var_f = check_finish_weight_per_stock(stock_info[\"weight\"], \n",
    "                                                     stock_info[\"width\"], finish, BOUND_KEY)\n",
    "        total_f_fit = sum(num_var_f.values())\n",
    "\n",
    "        if total_f_fit > max_f_fit:\n",
    "            #new_stock_list is reset \n",
    "            new_stock_list = {stock_name: {**stock_info, \"total_f_fit\": total_f_fit}} \n",
    "            max_f_fit = total_f_fit\n",
    "        elif total_f_fit == max_f_fit:\n",
    "            new_stock_list[stock_name] = {**stock_info, \"total_f_fit\": total_f_fit}\n",
    "    \n",
    "    return new_stock_list\n",
    "\n",
    "new_stock_list = filter_stock(stocks,finish)\n",
    "new_stock_list"
   ]
  },
  {
   "cell_type": "code",
   "execution_count": null,
   "metadata": {},
   "outputs": [],
   "source": [
    "# DOMAIN KNOWLEDGE:\n",
    "# - FG with small spec - weight is hard to fit in a large weight stock"
   ]
  },
  {
   "cell_type": "markdown",
   "metadata": {},
   "source": [
    "### Take pool of stock to optima\n",
    "Assume we can take enough stock from the original list to set the demand on `cut slice` of finished goods"
   ]
  },
  {
   "cell_type": "code",
   "execution_count": 7,
   "metadata": {},
   "outputs": [],
   "source": [
    "def filter_finish_demand_byslice(stock, finish: Dict[str, Dict[str, Any]]) -> Dict[str, Dict[str, Any]]:\n",
    "    \"\"\"\n",
    "    DOMAIN KNOWLEDGE:\n",
    "    \"\"\"\n",
    "    # MC WEIGHT PER UNIT\n",
    "    wu = stock['weight'] / stock['width']\n",
    "    # Dict of weight per slice FG on the chosen stock\n",
    "    weight_slice_f = {f: finish[f][\"width\"]*wu for f in finish.keys()}\n",
    "\n",
    "    new_finish_list = {}\n",
    "    for f, finish_info in finish.items():\n",
    "         new_finish_list[f] = {**finish_info\n",
    "                            ,\"upper_demand_slice\": int(finish[f][\"upper_bound\"]/weight_slice_f[f])\n",
    "                            , \"demand_slice\": int(finish[f][\"need_cut\"]/weight_slice_f[f])}\n",
    "    \n",
    "    # Filtering the dictionary to include only items with keys in keys_to_keep\n",
    "    filtered_finish_list = {k: v for k, v in new_finish_list.items() if v['upper_demand_slice'] > 0}\n",
    "\n",
    "    return filtered_finish_list"
   ]
  },
  {
   "cell_type": "markdown",
   "metadata": {},
   "source": [
    "### 3. Solve with duality for pattern generation"
   ]
  },
  {
   "cell_type": "code",
   "execution_count": 8,
   "metadata": {},
   "outputs": [],
   "source": [
    "from pulp import LpMaximize, LpMinimize, LpProblem, LpVariable, lpSum, PULP_CBC_CMD, value\n",
    "\n",
    "# NEW PATTERN\n",
    "def new_pattern_problem(finish, width_s, ap_upper_bound, demand_duals):\n",
    "    prob = LpProblem(\"NewPatternProblem\", LpMaximize)\n",
    "\n",
    "    # Decision variables - Pattern\n",
    "    ap = {f: LpVariable(f\"ap_{f}\", 0, ap_upper_bound[f], cat=\"Integer\") for f in finish.keys()}\n",
    "\n",
    "    # Objective function\n",
    "    # maximize marginal_cost:\n",
    "    #    sum{f in F} ap[f] * demand_dual[f];\n",
    "    prob += lpSum(ap[f] * demand_duals[f] for f in finish.keys()), \"MarginalCut\"\n",
    "\n",
    "    # Constraints\n",
    "    # subject to stock_length:\n",
    "    #    sum{f in F} ap[f] * length_f[f] <= length_s;\n",
    "    prob += lpSum(ap[f] * finish[f][\"width\"] for f in finish.keys()) <= width_s, \"StockLength\"\n",
    "\n",
    "    # Solve the problem\n",
    "    prob.solve(PULP_CBC_CMD(msg=False, options=['--solver', 'highs']))\n",
    "\n",
    "    marg_cost = value(prob.objective)\n",
    "    pattern = {f: int(ap[f].varValue) for f in finish.keys()}\n",
    "    return marg_cost, pattern\n",
    "\n",
    "# DUALITY\n",
    "def generate_pattern_dual(stocks, finish, patterns):\n",
    "    prob = LpProblem(\"GeneratePatternDual\", LpMinimize)\n",
    "\n",
    "    # Sets\n",
    "    F = list(finish.keys())\n",
    "    P = list(range(len(patterns)))\n",
    "\n",
    "    # Parameters\n",
    "    s = {p: patterns[p][\"stock\"] for p in range(len(patterns))}\n",
    "    # c = {p: stocks[s[p]][\"cost\"] for p in range(len(patterns))}\n",
    "    \n",
    "    a = {(f, p): patterns[p][\"cuts\"][f] for p in P for f in F}\n",
    "    demand_finish = {f: finish[f][\"demand_slice\"] for f in F}\n",
    "\n",
    "    # Decision variables\n",
    "    # var x{P} >= 0; # relaxed integrality\n",
    "    x = {p: LpVariable(f\"x_{p}\", 0, None, cat=\"Continuous\") for p in P}\n",
    "\n",
    "    # Objective function\n",
    "    # minimize stock used:\n",
    "    #         sum{p in P} x[p];\n",
    "    prob += lpSum(x[p] for p in P), \"Cost\"\n",
    "\n",
    "    # Constraints\n",
    "    for f in F:\n",
    "        # sum{p in P} a[f,p]*x[p] >= demand_finish[f];\n",
    "        prob += lpSum(a[f, p] * x[p] for p in P) >= demand_finish[f], f\"Demand_{f}\"\n",
    "        # sum{p in P} a[f,p]*x[p] <= upper_demand_finish[f];\n",
    "\n",
    "    # Solve the problem\n",
    "    prob.solve(PULP_CBC_CMD(msg=False, options=['--solver', 'highs']))\n",
    "\n",
    "    # Extract dual values\n",
    "    dual_values = {f: prob.constraints[f\"Demand_{f}\"].pi for f in F}\n",
    "\n",
    "    ap_upper_bound = {\n",
    "        f: max([int(stocks[s][\"width\"] / finish[f][\"width\"]) for s in stocks.keys()])\n",
    "        for f in F\n",
    "    }\n",
    "    demand_duals = {f: dual_values[f] for f in F}\n",
    "\n",
    "    marginal_values = {}\n",
    "    pattern = {}\n",
    "    for s in stocks.keys():\n",
    "        marginal_values[s], pattern[s] = new_pattern_problem(\n",
    "            finish, stocks[s][\"width\"], ap_upper_bound, demand_duals\n",
    "        )\n",
    "\n",
    "    s = max(marginal_values, key=marginal_values.get)\n",
    "    new_pattern = {\"stock\": s, \"cuts\": pattern[s]}\n",
    "    return new_pattern"
   ]
  },
  {
   "cell_type": "code",
   "execution_count": 21,
   "metadata": {},
   "outputs": [],
   "source": [
    "from pulp import LpProblem, LpMinimize, LpVariable, lpSum\n",
    "\n",
    "def cut_patterns(stocks, finish, patterns):\n",
    "    # Create a LP minimization problem\n",
    "    prob = LpProblem(\"PatternCuttingProblem\", LpMinimize)\n",
    "\n",
    "    # Define variables\n",
    "    x = {p: LpVariable(f\"x_{p}\", lowBound=0, cat='Integer') for p in range(len(patterns))}\n",
    "\n",
    "    # Objective function: minimize total stock use\n",
    "    prob += lpSum(1 * x[p] for p in range(len(patterns))), \"TotalCost\"\n",
    "\n",
    "    # Constraints: meet demand for each finished part\n",
    "    for f in finish:\n",
    "        prob += lpSum(patterns[p]['cuts'][f] * x[p] for p in range(len(patterns))) >= finish[f]['demand_slice'], f\"DemandSlice{f}\"\n",
    "\n",
    "    # Solve the problem\n",
    "    prob.solve()\n",
    "\n",
    "    # Extract results\n",
    "    solution = [x[p].varValue for p in range(len(patterns))]\n",
    "    total_cost = sum(1 * solution[p] for p in range(len(patterns)))\n",
    "\n",
    "    return solution, total_cost"
   ]
  },
  {
   "cell_type": "code",
   "execution_count": 15,
   "metadata": {},
   "outputs": [
    {
     "name": "stdout",
     "output_type": "stream",
     "text": [
      "choosen_stock_list {'S2': {'width': 1219, 'weight': 5260, 'qty': 3, 'total_f_fit': 6}}\n",
      "Sum Need Cut:9003\n"
     ]
    }
   ],
   "source": [
    "s = \"S2\"\n",
    "\n",
    "choosen_stock_list = {k: v for k, v in new_stock_list.items() if k==s}\n",
    "print(f\"choosen_stock_list {choosen_stock_list}\")\n",
    "filtered_finish_list = filter_finish_demand_byslice(stocks['S2'],finish)\n",
    "sum_needcut = sum(item['need_cut'] for item in filtered_finish_list.values())\n",
    "print(f\"Sum Need Cut:{sum_needcut}\")"
   ]
  },
  {
   "cell_type": "code",
   "execution_count": 19,
   "metadata": {},
   "outputs": [
    {
     "name": "stdout",
     "output_type": "stream",
     "text": [
      "Phase 1: Pattern Generation.......Phase 2: Cut Pattern."
     ]
    }
   ],
   "source": [
    "patterns = make_naive_patterns(new_stock_list, filtered_finish_list)\n",
    "\n",
    "# Phase 1: Generate patterns using dual method\n",
    "print(\"Phase 1: Pattern Generation\", end=\".\")\n",
    "new_pattern = generate_pattern_dual(new_stock_list, filtered_finish_list, patterns)\n",
    "while new_pattern not in patterns:\n",
    "    patterns.append(new_pattern)\n",
    "    new_pattern = generate_pattern_dual(new_stock_list, filtered_finish_list, patterns)\n",
    "    print(end=\".\")\n",
    "\n",
    "print(\"Phase 2: Cut Pattern\", end=\".\")"
   ]
  },
  {
   "cell_type": "code",
   "execution_count": 20,
   "metadata": {},
   "outputs": [
    {
     "name": "stdout",
     "output_type": "stream",
     "text": [
      "***** take pattern {'stock': 'S1', 'cuts': {'F1': 5, 'F2': 0, 'F3': 0, 'F4': 0, 'F5': 0, 'F9': 0}} *****\n",
      "trim loss percent:3.6095159967186223\n",
      "***** take pattern {'stock': 'S2', 'cuts': {'F1': 5, 'F2': 0, 'F3': 0, 'F4': 0, 'F5': 0, 'F9': 0}} *****\n",
      "trim loss percent:3.6095159967186223\n",
      "***** take pattern {'stock': 'S1', 'cuts': {'F1': 0, 'F2': 8, 'F3': 0, 'F4': 0, 'F5': 0, 'F9': 0}} *****\n",
      "trim loss percent:3.5274815422477444\n",
      "***** take pattern {'stock': 'S2', 'cuts': {'F1': 0, 'F2': 8, 'F3': 0, 'F4': 0, 'F5': 0, 'F9': 0}} *****\n",
      "trim loss percent:3.5274815422477444\n",
      "***** take pattern {'stock': 'S1', 'cuts': {'F1': 0, 'F2': 0, 'F3': 0, 'F4': 0, 'F5': 20, 'F9': 0}} *****\n",
      "trim loss percent:1.5586546349466777\n",
      "***** take pattern {'stock': 'S2', 'cuts': {'F1': 0, 'F2': 0, 'F3': 0, 'F4': 0, 'F5': 20, 'F9': 0}} *****\n",
      "trim loss percent:1.5586546349466777\n",
      "***** take pattern {'stock': 'S1', 'cuts': {'F1': 0, 'F2': 0, 'F3': 0, 'F4': 0, 'F5': 0, 'F9': 21}} *****\n",
      "trim loss percent:1.8047579983593112\n",
      "***** take pattern {'stock': 'S2', 'cuts': {'F1': 0, 'F2': 0, 'F3': 0, 'F4': 0, 'F5': 0, 'F9': 21}} *****\n",
      "trim loss percent:1.8047579983593112\n",
      "***** take pattern {'stock': 'S1', 'cuts': {'F1': 0, 'F2': 0, 'F3': 8, 'F4': 1, 'F5': 1, 'F9': 0}} *****\n",
      "trim loss percent:0.2461033634126333\n",
      "***** take pattern {'stock': 'S1', 'cuts': {'F1': 0, 'F2': 0, 'F3': 0, 'F4': 17, 'F5': 1, 'F9': 0}} *****\n",
      "trim loss percent:0.2461033634126333\n",
      "***** take pattern {'stock': 'S1', 'cuts': {'F1': 0, 'F2': 7, 'F3': 0, 'F4': 1, 'F5': 2, 'F9': 0}} *****\n",
      "trim loss percent:0.16406890894175555\n",
      "***** take pattern {'stock': 'S1', 'cuts': {'F1': 0, 'F2': 7, 'F3': 0, 'F4': 1, 'F5': 0, 'F9': 2}} *****\n",
      "trim loss percent:0.6562756357670222\n",
      "***** take pattern {'stock': 'S1', 'cuts': {'F1': 0, 'F2': 0, 'F3': 0, 'F4': 2, 'F5': 0, 'F9': 19}} *****\n",
      "trim loss percent:0.0\n",
      "***** take pattern {'stock': 'S1', 'cuts': {'F1': 0, 'F2': 2, 'F3': 0, 'F4': 11, 'F5': 0, 'F9': 3}} *****\n",
      "trim loss percent:0.4922067268252666\n"
     ]
    }
   ],
   "source": [
    "filter_trimloss_pattern = []\n",
    "f_patterns = [entry for entry in patterns if entry['stock'] == s]\n",
    "for pattern in patterns:\n",
    "    cuts_dict= pattern['cuts']\n",
    "    # print(cuts_dict)\n",
    "    trim_loss = new_stock_list[s][\"width\"] - sum([finish[f][\"width\"]*cuts_dict[f] for f in filtered_finish_list.keys()])\n",
    "    trim_loss_pc = trim_loss/new_stock_list[s][\"width\"]*100\n",
    "    # weight_loss = trim_loss * new_stock_list[s][\"weight\"]/new_stock_list[s][\"width\"]\n",
    "    if trim_loss_pc <= 4.0:\n",
    "        print(f\"***** take pattern {pattern} *****\")\n",
    "        filter_trimloss_pattern.append(pattern)\n",
    "        print(f\"trim loss percent:{trim_loss_pc}\") "
   ]
  }
 ],
 "metadata": {
  "kernelspec": {
   "display_name": "optima",
   "language": "python",
   "name": "python3"
  },
  "language_info": {
   "codemirror_mode": {
    "name": "ipython",
    "version": 3
   },
   "file_extension": ".py",
   "mimetype": "text/x-python",
   "name": "python",
   "nbconvert_exporter": "python",
   "pygments_lexer": "ipython3",
   "version": "3.12.2"
  }
 },
 "nbformat": 4,
 "nbformat_minor": 2
}
