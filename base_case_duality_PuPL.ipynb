{
 "cells": [
  {
   "cell_type": "markdown",
   "metadata": {},
   "source": [
    "## Base Case with Multiple Stock - Duality"
   ]
  },
  {
   "cell_type": "markdown",
   "metadata": {},
   "source": [
    "In this nb, we solve the cutting optima problem with big order quantity to cut many specs at the same time with many stocks ( stock with same width and nearly same weight)\n",
    "The condition/constraints as below: \n",
    "- `Generate Pattern` that fit in stock choice and sum each FG cut > lower bound demand\n",
    "- `Filter Pattern` that keep the trim_cost <= 4%\n",
    "- `Cut Pattern` that cut many stocks with filtered_pattern to minimize the stocks used"
   ]
  },
  {
   "cell_type": "markdown",
   "metadata": {},
   "source": [
    "### 0. Helpers"
   ]
  },
  {
   "cell_type": "code",
   "execution_count": 19,
   "metadata": {},
   "outputs": [],
   "source": [
    "SOLVER_MILO = \"highs\"\n",
    "SOLVER_MINLO = \"ipopt\""
   ]
  },
  {
   "cell_type": "code",
   "execution_count": 20,
   "metadata": {},
   "outputs": [],
   "source": [
    "from typing import Dict, Any\n",
    "\n",
    "def check_finish_weight_per_stock(weight_s: float, width_s: float, finish: Dict[str, Dict[str, Any]]) -> Dict[str, bool]:\n",
    "    \"\"\"\n",
    "    DOMAIN KNOWLEDGE:\n",
    "    - As upper_demand is slightly/or significant higher than need_cut, \n",
    "    - We can check to pick stock that have weight per slice cut < upper_demand\n",
    "    -  So that, at least, we can cut 1 slice of the FG with that kind of stock\n",
    "\n",
    "    PICK STOCK WITH ALL/ALMOST TRUE VALUE (SUM TRUE LARGEST)\n",
    "    \"\"\"\n",
    "    # MC WEIGHT PER UNIT\n",
    "    wu = weight_s / width_s\n",
    "    # dict of weight per slice FG on the chosen stock\n",
    "    weight_slice_f = {f: finish[f][\"width\"]*wu for f in finish.keys()}\n",
    "    # dict of upperbound demand FG on the chosen stock\n",
    "    f_upper_demand = {f: finish[f][\"upper_bound\"] for f in finish.keys()}\n",
    "\n",
    "    # dict of Yes/No \n",
    "    check_f ={f: weight_slice_f[f] < f_upper_demand[f] for f in finish.keys()}\n",
    "    num_var_f = {f: 1 if weight_slice_f[f] < f_upper_demand[f] else 0 for f in finish.keys()}\n",
    "\n",
    "    return check_f, num_var_f\n",
    "\n",
    "def make_naive_patterns(stocks, finish, MIN_MARGIN):\n",
    "    \"\"\"\n",
    "    Generates patterns of feasible cuts from stock width to meet specified finish widths.\n",
    "\n",
    "    Parameters:\n",
    "    stocks (dict): A dictionary where keys are stock identifiers and values are dictionaries\n",
    "                   with key 'length' representing the length of each stock.\n",
    "\n",
    "    finish (dict): A dictionary where keys are finish identifiers and values are dictionaries\n",
    "                   with key 'length' representing the required finish lengths.\n",
    "\n",
    "    Returns:\n",
    "    patterns (list): A list of dictionaries, where each dictionary represents a pattern of cuts.\n",
    "                   Each pattern dictionary contains 'stock' (the stock identifier) and 'cuts'\n",
    "                   (a dictionary where keys are finish identifiers and the value is the number\n",
    "                   of cuts from the stock for each finish).\n",
    "                   \n",
    "                   Naive pattern with maximum number of cuts of each Finished Goods\n",
    "                   that is closet to the required need_cut\n",
    "                   and SUM(widths of FG) smaller Mother Coil width\n",
    "    \"\"\"\n",
    "\n",
    "    patterns = []\n",
    "    for f in finish:\n",
    "        feasible = False\n",
    "        for s in stocks:\n",
    "            # max number of f that fit on s\n",
    "            num_cuts_by_width = int((stocks[s][\"width\"]-MIN_MARGIN) / finish[f][\"width\"])\n",
    "            # max number of f that satisfied the need cut WEIGHT BOUND\n",
    "            num_cuts_by_weight = int((finish[f][\"upper_bound\"] * stocks[s][\"width\"] ) / (finish[f][\"width\"] * stocks[s]['weight']))\n",
    "            # min of two max will satisfies both\n",
    "            num_cuts = min(num_cuts_by_width, num_cuts_by_weight)\n",
    "\n",
    "            # make pattern and add to list of patterns\n",
    "            if num_cuts > 0:\n",
    "                feasible = True\n",
    "                cuts_dict = {key: 0 for key in finish.keys()}\n",
    "                cuts_dict[f] = num_cuts\n",
    "                patterns.append({\"stock\": s, \"cuts\": cuts_dict})\n",
    "\n",
    "        if not feasible:\n",
    "            print(f\"No feasible pattern was found for Stock {s} and FG {f}\")\n",
    "\n",
    "    return patterns"
   ]
  },
  {
   "cell_type": "code",
   "execution_count": 21,
   "metadata": {},
   "outputs": [],
   "source": [
    "def finish_demand_by_slice(stock, finish: Dict[str, Dict[str, Any]]) -> Dict[str, Dict[str, Any]]:\n",
    "    \"\"\"\n",
    "    Convert demand in KGs to demand in slice on a specific stock\n",
    "    \"\"\"\n",
    "    # MC WEIGHT PER UNIT\n",
    "    wu = stock['weight'] / stock['width']\n",
    "    # Dict of weight per slice FG on the chosen stock\n",
    "    weight_slice_f = {f: finish[f][\"width\"]*wu for f in finish.keys()}\n",
    "\n",
    "    new_finish_list = {}\n",
    "    for f, finish_info in finish.items():\n",
    "         new_finish_list[f] = {**finish_info\n",
    "                            ,\"upper_demand_slice\": int(finish[f][\"upper_bound\"]/weight_slice_f[f])\n",
    "                            , \"demand_slice\": int(finish[f][\"need_cut\"]/weight_slice_f[f])}\n",
    "    \n",
    "    # Filtering the dictionary to include only items with keys in keys_to_keep\n",
    "    filtered_finish_list = {k: v for k, v in new_finish_list.items() if v['upper_demand_slice'] > 0}\n",
    "\n",
    "    return filtered_finish_list"
   ]
  },
  {
   "cell_type": "markdown",
   "metadata": {},
   "source": [
    "\n",
    "### 1. Loading data"
   ]
  },
  {
   "cell_type": "code",
   "execution_count": 22,
   "metadata": {},
   "outputs": [
    {
     "name": "stdout",
     "output_type": "stream",
     "text": [
      "MIN_MARGIN:6\n",
      "BOUND_KEY:limited, BOUND_VALUE:None\n"
     ]
    }
   ],
   "source": [
    "## PARAMETER \n",
    "#   DOMAIN KNOWLEDGE:\n",
    "# - User usually overcut current order_quantity (30 -50%) default on model\n",
    "# - Users want to cut all PO qty in one stock cut ( increase boundary to max 3 months forecast)\n",
    "PARAMS = {\"warehouse\": \"HSC\"\n",
    "          ,\"spec_name\": \"JSH270C-PO\" # yeu cau chuan hoa du lieu OP - PO\n",
    "          ,\"thickness\": 1.6\n",
    "          ,\"maker\" : \"CSVC\"\n",
    "          ,\"stock_ratio\": { #get from app \n",
    "                    \"limited\": None\n",
    "                    # \"default\": 2\n",
    "                    # \"user_setting\": 4\n",
    "                }\n",
    "        #   ,\"forecast_scenario\": median\n",
    "          }\n",
    "\n",
    "MARGIN_DICT = { \"HSC\":\n",
    "    {#save margin_dict in azure env, margin dictionary by warehouse\n",
    "    \"thickness_2.6\": {\n",
    "        \"thickness\": 2.6,\n",
    "        \"margin\": 10\n",
    "    },\n",
    "    \"thickness_2\": {\n",
    "        \"thickness\": 2,\n",
    "        \"margin\": 8\n",
    "    },\n",
    "    \"thickness_1.6\": {\n",
    "        \"thickness\": 1.6,\n",
    "        \"margin\": 6\n",
    "    }\n",
    "    },\n",
    "    \"NQS\":\n",
    "    {#save margin_dict in azure env, margin dictionary by warehouse\n",
    "    \"thickness_2.6\": {\n",
    "        \"thickness\": 2.6,\n",
    "        \"margin\": 10\n",
    "    },\n",
    "    \"thickness_2\": {\n",
    "        \"thickness\": 2,\n",
    "        \"margin\": 8\n",
    "    },\n",
    "    \"thickness_1.6\": {\n",
    "        \"thickness\": 1.6,\n",
    "        \"margin\": 6\n",
    "    }\n",
    "    }\n",
    "}\n",
    "\n",
    "# GET ALL PARAMS\n",
    "MIN_MARGIN = MARGIN_DICT[PARAMS[\"warehouse\"]][f\"thickness_{PARAMS[\"thickness\"]}\"][\"margin\"]\n",
    "print(f\"MIN_MARGIN:{MIN_MARGIN}\")\n",
    "\n",
    "## PARAMETER\n",
    "BOUND_KEY = next(iter(PARAMS['stock_ratio']))\n",
    "BOUND_VALUE = PARAMS['stock_ratio'][BOUND_KEY]\n",
    "print(f\"BOUND_KEY:{BOUND_KEY}, BOUND_VALUE:{BOUND_VALUE}\")\n",
    "LIMIT_BOUND_KEY, LIMIT_BOUND_VALUE =  \"limited\", None"
   ]
  },
  {
   "cell_type": "code",
   "execution_count": 23,
   "metadata": {},
   "outputs": [],
   "source": [
    "# TEST DATA - NORMAL CASE , NO DEFECT, UPPER BOUND DEMAND IS 50% PO QTY (TRY THIS CASE FIRST)\n",
    "stocks = {\n",
    "    \"S0\": {\"width\": 236, \"weight\": 1500, \"qty\": 1},\n",
    "    \"S1\": {\"width\": 1219, \"weight\": 4395, \"qty\": 5 },\n",
    "    \"S2\": {\"width\": 1219, \"weight\": 5260, \"qty\": 3},\n",
    "    \"S3\": {\"width\": 1018, \"weight\": 3475, \"qty\": 3},\n",
    "    \"S4\": {\"width\": 1219, \"weight\": 8535, \"qty\": 2},\n",
    "    # \"S5\": {\"width\": 236, \"weight\": 1571, \"qty\": 1},\n",
    "    \"S5\": {\"width\": 1219, \"weight\": 9260, \"qty\": 3},\n",
    "}\n",
    "\n",
    "finish = {\n",
    "    \"F1\": {\"width\": 235, \"need_cut\": 800, \"upper_bound\": 1040},\n",
    "    \"F2\": {\"width\": 147, \"need_cut\": 3308, \"upper_bound\": 3700},\n",
    "    \"F3\": {\"width\": 136, \"need_cut\": 2290, \"upper_bound\": 3677},\n",
    "    \"F4\": {\"width\": 68, \"need_cut\": 1600, \"upper_bound\": 1800},\n",
    "    \"F5\": {\"width\": 60, \"need_cut\": 270, \"upper_bound\": 521},\n",
    "    \"F6\": {\"width\": 85, \"need_cut\": 132, \"upper_bound\": 171},\n",
    "    \"F7\": {\"width\": 57, \"need_cut\": 100, \"upper_bound\": 130},\n",
    "    \"F8\": {\"width\": 92, \"need_cut\": 100, \"upper_bound\": 130}, \n",
    "    \"F9\": {\"width\": 57, \"need_cut\": 735, \"upper_bound\": 955},\n",
    "}\n",
    "\n",
    "# Test if SUM(need_cut) >> largest stock (in weight) -> Multi-stock Cut ( Can pick stock with available number, or stock with nearly same weight - same width)\n",
    "# If FG have small spec and SUM(need_cut) can fit into s stock -> Single-stock Cut"
   ]
  },
  {
   "cell_type": "markdown",
   "metadata": {},
   "source": [
    "### 2. Filter with list of Stocks (highest qty) can fit as-many-as possible FG"
   ]
  },
  {
   "cell_type": "code",
   "execution_count": 24,
   "metadata": {},
   "outputs": [
    {
     "data": {
      "text/plain": [
       "{'S1': {'width': 1219, 'weight': 4395, 'qty': 5, 'total_f_fit': 6},\n",
       " 'S2': {'width': 1219, 'weight': 5260, 'qty': 3, 'total_f_fit': 6},\n",
       " 'S3': {'width': 1018, 'weight': 3475, 'qty': 3, 'total_f_fit': 6}}"
      ]
     },
     "execution_count": 24,
     "metadata": {},
     "output_type": "execute_result"
    }
   ],
   "source": [
    "# DOMAIN KNOWLEDGE:\n",
    "# - FG with small spec - weight is hard to fit in a large weight stock\n",
    "\n",
    "def filter_high_fit_stock(stocks,finish):\n",
    "    new_stock_list = {}\n",
    "    max_f_fit = 0\n",
    "    for stock_name, stock_info in stocks.items():\n",
    "        _, num_var_f = check_finish_weight_per_stock(stock_info[\"weight\"], \n",
    "                                                     stock_info[\"width\"], finish)\n",
    "        total_f_fit = sum(num_var_f.values())\n",
    "\n",
    "        if total_f_fit > max_f_fit:\n",
    "            #new_stock_list is reset \n",
    "            new_stock_list = {stock_name: {**stock_info, \"total_f_fit\": total_f_fit}} \n",
    "            max_f_fit = total_f_fit\n",
    "        elif total_f_fit == max_f_fit:\n",
    "            new_stock_list[stock_name] = {**stock_info, \"total_f_fit\": total_f_fit}\n",
    "    \n",
    "    return new_stock_list\n",
    "\n",
    "high_stock_list = filter_high_fit_stock(stocks,finish)\n",
    "high_stock_list"
   ]
  },
  {
   "cell_type": "markdown",
   "metadata": {},
   "source": [
    "### 3. Solve with duality for pattern generation"
   ]
  },
  {
   "cell_type": "code",
   "execution_count": 75,
   "metadata": {},
   "outputs": [],
   "source": [
    "from pulp import LpMaximize, LpMinimize, LpProblem, LpVariable, lpSum, PULP_CBC_CMD, value\n",
    "\n",
    "# NEW PATTERN\n",
    "def new_pattern_problem(finish, width_s, ap_upper_bound, demand_duals,MIN_MARGIN):\n",
    "    prob = LpProblem(\"NewPatternProblem\", LpMaximize)\n",
    "\n",
    "    # Decision variables - Pattern\n",
    "    ap = {f: LpVariable(f\"ap_{f}\", 0, ap_upper_bound[f], cat=\"Integer\") for f in finish.keys()}\n",
    "\n",
    "    # Objective function\n",
    "    # maximize marginal_cost:\n",
    "    prob += lpSum(ap[f] * demand_duals[f] for f in finish.keys()), \"MarginalCut\"\n",
    "\n",
    "    # Constraints\n",
    "    # subject to stock_length:\n",
    "    #    sum{f in F} ap[f] * length_f[f] <= length_s;\n",
    "    prob += lpSum(ap[f] * finish[f][\"width\"] for f in finish.keys()) <= width_s - MIN_MARGIN, \"StockLength\"\n",
    "\n",
    "    # Solve the problem\n",
    "    prob.solve(PULP_CBC_CMD(msg=False, options=['--solver', 'highs']))\n",
    "\n",
    "    marg_cost = value(prob.objective)\n",
    "    pattern = {f: int(ap[f].varValue) for f in finish.keys()}\n",
    "    return marg_cost, pattern\n",
    "\n",
    "# DUALITY\n",
    "def generate_pattern_dual(stocks, finish, patterns, MIN_MARGIN):\n",
    "    prob = LpProblem(\"GeneratePatternDual\", LpMinimize)\n",
    "\n",
    "    # Sets\n",
    "    F = list(finish.keys())\n",
    "    P = list(range(len(patterns)))\n",
    "\n",
    "    # Parameters\n",
    "    s = {p: patterns[p][\"stock\"] for p in range(len(patterns))}\n",
    "    # c = {p: stocks[s[p]][\"cost\"] for p in range(len(patterns))}\n",
    "    \n",
    "    a = {(f, p): patterns[p][\"cuts\"][f] for p in P for f in F}\n",
    "    demand_finish = {f: finish[f][\"demand_slice\"] for f in F}\n",
    "\n",
    "    # Decision variables #relaxed integrality\n",
    "    x = {p: LpVariable(f\"x_{p}\", 0, None, cat=\"Continuous\") for p in P}\n",
    "\n",
    "    # OBJECTIVE function minimize stock used:\n",
    "    prob += lpSum(x[p] for p in P), \"Cost\"\n",
    "\n",
    "    # Constraints\n",
    "    for f in F:\n",
    "        prob += lpSum(a[f, p] * x[p] for p in P) >= demand_finish[f], f\"Demand_{f}\"\n",
    "\n",
    "    # Solve the problem\n",
    "    prob.solve(PULP_CBC_CMD(msg=False, options=['--solver', 'highs']))\n",
    "\n",
    "    # Extract dual values\n",
    "    dual_values = {f: prob.constraints[f\"Demand_{f}\"].pi for f in F}\n",
    "\n",
    "    # ap_upper_bound = {\n",
    "    #     f: max([int(stocks[s][\"width\"] / finish[f][\"width\"]) for s in stocks.keys()])\n",
    "    #     for f in F\n",
    "    # }\n",
    "    ap_upper_bound = {f: max([patterns[i]['cuts'][f] for i,_ in enumerate(patterns)]) for f in finish.keys()}\n",
    "    demand_duals = {f: dual_values[f] for f in F}\n",
    "\n",
    "    marginal_values = {}\n",
    "    pattern = {}\n",
    "    for s in stocks.keys():\n",
    "        marginal_values[s], pattern[s] = new_pattern_problem(\n",
    "            finish, stocks[s][\"width\"], ap_upper_bound, demand_duals,MIN_MARGIN\n",
    "        )\n",
    "\n",
    "    s = max(marginal_values, key=marginal_values.get)\n",
    "    new_pattern = {\"stock\": s, \"cuts\": pattern[s]}\n",
    "    return new_pattern"
   ]
  },
  {
   "cell_type": "code",
   "execution_count": 76,
   "metadata": {},
   "outputs": [],
   "source": [
    "# CUT KNOWN SLICE PATTERNS\n",
    "def cut_slice_patterns(finish, patterns):\n",
    "    # Create a LP minimization problem\n",
    "    prob = LpProblem(\"PatternCuttingProblem\", LpMinimize)\n",
    "\n",
    "    # Define variables\n",
    "    x = {p: LpVariable(f\"x_{p}\", lowBound=0, cat='Integer') for p in range(len(patterns))}\n",
    "\n",
    "    # Objective function: minimize total stock use\n",
    "    prob += lpSum(x[p] for p in range(len(patterns))), \"TotalCost\"\n",
    "\n",
    "    # Constraints: meet demand for each finished part\n",
    "    for f in finish:\n",
    "        prob += lpSum(patterns[p]['cuts'][f] * x[p] for p in range(len(patterns))) >= finish[f]['demand_slice'], f\"DemandSlice{f}\"\n",
    "\n",
    "    # Solve the problem\n",
    "    prob.solve()\n",
    "\n",
    "    # Extract results\n",
    "    solution = [x[p].varValue for p in range(len(patterns))]\n",
    "    total_cost = sum(solution[p] for p in range(len(patterns)))\n",
    "\n",
    "    return solution, total_cost"
   ]
  },
  {
   "cell_type": "markdown",
   "metadata": {},
   "source": [
    "### 4. SOLVING"
   ]
  },
  {
   "cell_type": "markdown",
   "metadata": {},
   "source": [
    "### >> Trial: Cut with a chosen stock\n",
    "### >>> S1"
   ]
  },
  {
   "cell_type": "code",
   "execution_count": 83,
   "metadata": {},
   "outputs": [
    {
     "name": "stdout",
     "output_type": "stream",
     "text": [
      "Choose Stock: {'S1': {'width': 1219, 'weight': 4395, 'qty': 5, 'total_f_fit': 6}}\n",
      "Sum need cut:9003\n",
      "number patterns: 6\n"
     ]
    }
   ],
   "source": [
    "## Pick Stock\n",
    "s = \"S1\"\n",
    "choosen_stock_list = {k: v for k, v in high_stock_list.items() if k==s}\n",
    "print(f\"Choose Stock: {choosen_stock_list}\")\n",
    "\n",
    "# Pick Finish List\n",
    "filtered_finish_list = finish_demand_by_slice(stocks[s], finish)\n",
    "sum_needcut = sum(item['need_cut'] for item in filtered_finish_list.values())\n",
    "print(f\"Sum need cut:{sum_needcut}\")   \n",
    "\n",
    "# Create Naive Patterns\n",
    "patterns = make_naive_patterns(choosen_stock_list, filtered_finish_list, MIN_MARGIN)\n",
    "print(f\"number patterns: {len(patterns)}\")"
   ]
  },
  {
   "cell_type": "code",
   "execution_count": 85,
   "metadata": {},
   "outputs": [
    {
     "name": "stdout",
     "output_type": "stream",
     "text": [
      "Phase 1: Pattern Generation.\n",
      "len sum patterns :14\n",
      "\n",
      "Phase 2: Filter Patterns:\n",
      "***** take pattern {'stock': 'S1', 'cuts': {'F1': 0, 'F2': 3, 'F3': 0, 'F4': 6, 'F5': 2, 'F9': 4}} *****\n",
      "trimloss: 22,trim loss percent:1.8047579983593112\n",
      "***** take pattern {'stock': 'S1', 'cuts': {'F1': 0, 'F2': 5, 'F3': 0, 'F4': 7, 'F5': 0, 'F9': 0}} *****\n",
      "trimloss: 8,trim loss percent:0.6562756357670222\n",
      "***** take pattern {'stock': 'S1', 'cuts': {'F1': 0, 'F2': 3, 'F3': 4, 'F4': 0, 'F5': 0, 'F9': 4}} *****\n",
      "trimloss: 6,trim loss percent:0.4922067268252666\n",
      "***** take pattern {'stock': 'S1', 'cuts': {'F1': 0, 'F2': 0, 'F3': 7, 'F4': 2, 'F5': 2, 'F9': 0}} *****\n",
      "trimloss: 11,trim loss percent:0.9023789991796556\n",
      "***** take pattern {'stock': 'S1', 'cuts': {'F1': 0, 'F2': 6, 'F3': 1, 'F4': 0, 'F5': 2, 'F9': 1}} *****\n",
      "trimloss: 24,trim loss percent:1.9688269073010665\n",
      "***** take pattern {'stock': 'S1', 'cuts': {'F1': 0, 'F2': 4, 'F3': 0, 'F4': 4, 'F5': 2, 'F9': 4}} *****\n",
      "trimloss: 11,trim loss percent:0.9023789991796556\n",
      "***** take pattern {'stock': 'S1', 'cuts': {'F1': 0, 'F2': 6, 'F3': 1, 'F4': 1, 'F5': 2, 'F9': 0}} *****\n",
      "trimloss: 13,trim loss percent:1.0664479081214109\n",
      "***** take pattern {'stock': 'S1', 'cuts': {'F1': 0, 'F2': 6, 'F3': 0, 'F4': 3, 'F5': 2, 'F9': 0}} *****\n",
      "trimloss: 13,trim loss percent:1.0664479081214109\n"
     ]
    }
   ],
   "source": [
    "# Phase 1: Generate patterns using dual method\n",
    "print(\"Phase 1: Pattern Generation\", end=\".\")\n",
    "new_pattern = generate_pattern_dual(choosen_stock_list, filtered_finish_list, patterns, MIN_MARGIN)\n",
    "while new_pattern not in patterns:\n",
    "    patterns.append(new_pattern)\n",
    "    new_pattern = generate_pattern_dual(choosen_stock_list, filtered_finish_list, patterns, MIN_MARGIN)\n",
    "    print(end=\".\")\n",
    "print()\n",
    "print(f'len sum patterns :{len(patterns)}')\n",
    "print()\n",
    "# Phrase 2: Filter Patterns having trim loss as requirements\n",
    "print(\"Phase 2: Filter Patterns\", end=\":\")\n",
    "print()\n",
    "filtered_trimloss_pattern = []\n",
    "width_s = choosen_stock_list[s][\"width\"] \n",
    "for pattern in patterns:\n",
    "    cuts_dict= pattern['cuts']\n",
    "    trim_loss = width_s - sum([finish[f][\"width\"] * cuts_dict[f] for f in filtered_finish_list.keys()])\n",
    "    trim_loss_pct = trim_loss/width_s*100\n",
    "    if trim_loss_pct <= 4.00:\n",
    "        print(f\"***** take pattern {pattern} *****\")\n",
    "        filtered_trimloss_pattern.append(pattern)\n",
    "        print(f\"trimloss: {trim_loss},trim loss percent:{trim_loss_pct}\") "
   ]
  },
  {
   "cell_type": "code",
   "execution_count": 86,
   "metadata": {},
   "outputs": [
    {
     "name": "stdout",
     "output_type": "stream",
     "text": [
      "Phase 3: Cut Patterns.\n",
      "Take (1) pattern: {'F1': 0, 'F2': 3, 'F3': 0, 'F4': 6, 'F5': 2, 'F9': 4}\n",
      "Take (1) pattern: {'F1': 0, 'F2': 3, 'F3': 4, 'F4': 0, 'F5': 0, 'F9': 4}\n"
     ]
    }
   ],
   "source": [
    "# Phrase 3: Cut Pattern to map all pattern to demand requirements\n",
    "print(\"Phase 3: Cut Patterns\", end=\".\")\n",
    "print()\n",
    "solution, total_cost = cut_slice_patterns(filtered_finish_list, filtered_trimloss_pattern)\n",
    "for i, s in enumerate(solution):\n",
    "    if s > 0:\n",
    "        print(f\"Take ({int(s)}) pattern: {filtered_trimloss_pattern[i]['cuts']}\")"
   ]
  },
  {
   "cell_type": "markdown",
   "metadata": {},
   "source": [
    "#### >>> S2"
   ]
  },
  {
   "cell_type": "code",
   "execution_count": 106,
   "metadata": {},
   "outputs": [
    {
     "name": "stdout",
     "output_type": "stream",
     "text": [
      "Choose Stock: {'S2': {'width': 1219, 'weight': 5260, 'qty': 3, 'total_f_fit': 6}}\n",
      "Sum need cut:9003\n",
      "number patterns: 6\n"
     ]
    }
   ],
   "source": [
    "## Pick Stock\n",
    "s = \"S2\"\n",
    "choosen_stock_list = {k: v for k, v in high_stock_list.items() if k==s}\n",
    "print(f\"Choose Stock: {choosen_stock_list}\")\n",
    "\n",
    "# Pick Finish List\n",
    "filtered_finish_list = finish_demand_by_slice(stocks[s],finish)\n",
    "sum_needcut = sum(item['need_cut'] for item in filtered_finish_list.values())\n",
    "print(f\"Sum need cut:{sum_needcut}\")\n",
    "\n",
    "# Create Naive Patterns\n",
    "patterns = make_naive_patterns(choosen_stock_list, filtered_finish_list, MIN_MARGIN)\n",
    "print(f\"number patterns: {len(patterns)}\")"
   ]
  },
  {
   "cell_type": "code",
   "execution_count": 107,
   "metadata": {},
   "outputs": [
    {
     "name": "stdout",
     "output_type": "stream",
     "text": [
      "Phase 1: Pattern Generation............\n",
      "len sum patterns :17\n",
      "\n",
      "Phase 2: Filter Patterns:\n",
      "***** take pattern {'stock': 'S2', 'cuts': {'F1': 0, 'F2': 5, 'F3': 3, 'F4': 1, 'F5': 0, 'F9': 0}} *****\n",
      "trimloss: 8,trim loss percent:0.6562756357670222\n",
      "***** take pattern {'stock': 'S2', 'cuts': {'F1': 0, 'F2': 2, 'F3': 3, 'F4': 5, 'F5': 0, 'F9': 3}} *****\n",
      "trimloss: 6,trim loss percent:0.4922067268252666\n",
      "***** take pattern {'stock': 'S2', 'cuts': {'F1': 0, 'F2': 5, 'F3': 0, 'F4': 6, 'F5': 1, 'F9': 0}} *****\n",
      "trimloss: 16,trim loss percent:1.3125512715340444\n",
      "***** take pattern {'stock': 'S2', 'cuts': {'F1': 0, 'F2': 1, 'F3': 6, 'F4': 1, 'F5': 2, 'F9': 1}} *****\n",
      "trimloss: 11,trim loss percent:0.9023789991796556\n",
      "***** take pattern {'stock': 'S2', 'cuts': {'F1': 0, 'F2': 3, 'F3': 3, 'F4': 1, 'F5': 2, 'F9': 3}} *****\n",
      "trimloss: 11,trim loss percent:0.9023789991796556\n",
      "***** take pattern {'stock': 'S2', 'cuts': {'F1': 0, 'F2': 2, 'F3': 2, 'F4': 6, 'F5': 2, 'F9': 2}} *****\n",
      "trimloss: 11,trim loss percent:0.9023789991796556\n",
      "***** take pattern {'stock': 'S2', 'cuts': {'F1': 0, 'F2': 3, 'F3': 1, 'F4': 5, 'F5': 2, 'F9': 3}} *****\n",
      "trimloss: 11,trim loss percent:0.9023789991796556\n",
      "***** take pattern {'stock': 'S2', 'cuts': {'F1': 0, 'F2': 5, 'F3': 1, 'F4': 5, 'F5': 0, 'F9': 0}} *****\n",
      "trimloss: 8,trim loss percent:0.6562756357670222\n"
     ]
    }
   ],
   "source": [
    "# Phase 1: Generate patterns using dual method\n",
    "print(\"Phase 1: Pattern Generation\", end=\".\")\n",
    "new_pattern = generate_pattern_dual(choosen_stock_list, filtered_finish_list, patterns, MIN_MARGIN)\n",
    "while new_pattern not in patterns:\n",
    "    patterns.append(new_pattern)\n",
    "    new_pattern = generate_pattern_dual(choosen_stock_list, filtered_finish_list, patterns, MIN_MARGIN)\n",
    "    print(end=\".\")\n",
    "print()\n",
    "print(f'len sum patterns :{len(patterns)}')\n",
    "print()\n",
    "# Phrase 2: Filter Patterns having trim loss as requirements\n",
    "print(\"Phase 2: Filter Patterns\", end=\":\")\n",
    "print()\n",
    "filtered_trimloss_pattern = []\n",
    "width_s = choosen_stock_list[s][\"width\"] \n",
    "for pattern in patterns:\n",
    "    cuts_dict= pattern['cuts']\n",
    "    trim_loss = width_s - sum([finish[f][\"width\"] * cuts_dict[f] for f in filtered_finish_list.keys()])\n",
    "    trim_loss_pct = trim_loss/width_s*100\n",
    "    if trim_loss_pct <= 4.00:\n",
    "        print(f\"***** take pattern {pattern} *****\")\n",
    "        filtered_trimloss_pattern.append(pattern)\n",
    "        print(f\"trimloss: {trim_loss},trim loss percent:{trim_loss_pct}\") "
   ]
  },
  {
   "cell_type": "code",
   "execution_count": 108,
   "metadata": {},
   "outputs": [
    {
     "name": "stdout",
     "output_type": "stream",
     "text": [
      "Phase 3: Cut Patterns.\n",
      "Take (1) pattern: {'F1': 0, 'F2': 5, 'F3': 3, 'F4': 1, 'F5': 0, 'F9': 0}\n",
      "Take (1) pattern: {'F1': 0, 'F2': 3, 'F3': 1, 'F4': 5, 'F5': 2, 'F9': 3}\n"
     ]
    }
   ],
   "source": [
    "# Phrase 3: Cut Pattern to map all pattern to demand requirements\n",
    "print(\"Phase 3: Cut Patterns\", end=\".\")\n",
    "print()\n",
    "solution, total_cost = cut_slice_patterns(filtered_finish_list, filtered_trimloss_pattern)\n",
    "for i, s in enumerate(solution):\n",
    "    if s > 0:\n",
    "        print(f\"Take ({int(s)}) pattern: {filtered_trimloss_pattern[i]['cuts']}\")"
   ]
  },
  {
   "cell_type": "markdown",
   "metadata": {},
   "source": [
    "#### >>> S3"
   ]
  },
  {
   "cell_type": "code",
   "execution_count": 109,
   "metadata": {},
   "outputs": [
    {
     "name": "stdout",
     "output_type": "stream",
     "text": [
      "Choose Stock: {'S3': {'width': 1018, 'weight': 3475, 'qty': 3, 'total_f_fit': 6}}\n",
      "Sum need cut:9003\n",
      "number patterns: 6\n"
     ]
    }
   ],
   "source": [
    "## Pick Stock\n",
    "s = \"S3\"\n",
    "choosen_stock_list = {k: v for k, v in high_stock_list.items() if k==s}\n",
    "print(f\"Choose Stock: {choosen_stock_list}\")\n",
    "\n",
    "# Pick Finish List\n",
    "filtered_finish_list = finish_demand_by_slice(stocks[s],finish)\n",
    "sum_needcut = sum(item['need_cut'] for item in filtered_finish_list.values())\n",
    "print(f\"Sum need cut:{sum_needcut}\")\n",
    "\n",
    "# Create Naive Patterns\n",
    "patterns = make_naive_patterns(choosen_stock_list, filtered_finish_list, MIN_MARGIN)\n",
    "print(f\"number patterns: {len(patterns)}\")"
   ]
  },
  {
   "cell_type": "code",
   "execution_count": 110,
   "metadata": {},
   "outputs": [
    {
     "name": "stdout",
     "output_type": "stream",
     "text": [
      "Phase 1: Pattern Generation...........\n",
      "len sum patterns :16\n",
      "\n",
      "Phase 2: Filter Patterns:\n",
      "***** take pattern {'stock': 'S3', 'cuts': {'F1': 0, 'F2': 4, 'F3': 0, 'F4': 6, 'F5': 0, 'F9': 0}} *****\n",
      "trimloss: 22,trim loss percent:2.161100196463654\n",
      "***** take pattern {'stock': 'S3', 'cuts': {'F1': 0, 'F2': 3, 'F3': 2, 'F4': 1, 'F5': 0, 'F9': 4}} *****\n",
      "trimloss: 9,trim loss percent:0.8840864440078585\n",
      "***** take pattern {'stock': 'S3', 'cuts': {'F1': 0, 'F2': 6, 'F3': 0, 'F4': 0, 'F5': 2, 'F9': 0}} *****\n",
      "trimloss: 16,trim loss percent:1.5717092337917484\n",
      "***** take pattern {'stock': 'S3', 'cuts': {'F1': 0, 'F2': 0, 'F3': 3, 'F4': 7, 'F5': 2, 'F9': 0}} *****\n",
      "trimloss: 14,trim loss percent:1.37524557956778\n",
      "***** take pattern {'stock': 'S3', 'cuts': {'F1': 0, 'F2': 0, 'F3': 7, 'F4': 0, 'F5': 1, 'F9': 0}} *****\n",
      "trimloss: 6,trim loss percent:0.5893909626719057\n",
      "***** take pattern {'stock': 'S3', 'cuts': {'F1': 0, 'F2': 5, 'F3': 0, 'F4': 4, 'F5': 0, 'F9': 0}} *****\n",
      "trimloss: 11,trim loss percent:1.080550098231827\n",
      "***** take pattern {'stock': 'S3', 'cuts': {'F1': 0, 'F2': 3, 'F3': 0, 'F4': 5, 'F5': 1, 'F9': 3}} *****\n",
      "trimloss: 6,trim loss percent:0.5893909626719057\n",
      "***** take pattern {'stock': 'S3', 'cuts': {'F1': 0, 'F2': 0, 'F3': 4, 'F4': 6, 'F5': 0, 'F9': 1}} *****\n",
      "trimloss: 9,trim loss percent:0.8840864440078585\n",
      "***** take pattern {'stock': 'S3', 'cuts': {'F1': 0, 'F2': 1, 'F3': 2, 'F4': 7, 'F5': 1, 'F9': 1}} *****\n",
      "trimloss: 6,trim loss percent:0.5893909626719057\n"
     ]
    }
   ],
   "source": [
    "# Phase 1: Generate patterns using dual method\n",
    "print(\"Phase 1: Pattern Generation\", end=\".\")\n",
    "new_pattern = generate_pattern_dual(choosen_stock_list, filtered_finish_list, patterns, MIN_MARGIN)\n",
    "while new_pattern not in patterns:\n",
    "    patterns.append(new_pattern)\n",
    "    new_pattern = generate_pattern_dual(choosen_stock_list, filtered_finish_list, patterns, MIN_MARGIN)\n",
    "    print(end=\".\")\n",
    "print()\n",
    "print(f'len sum patterns :{len(patterns)}')\n",
    "print()\n",
    "# Phrase 2: Filter Patterns having trim loss as requirements\n",
    "print(\"Phase 2: Filter Patterns\", end=\":\")\n",
    "print()\n",
    "filtered_trimloss_pattern = []\n",
    "width_s = choosen_stock_list[s][\"width\"] \n",
    "for pattern in patterns:\n",
    "    cuts_dict= pattern['cuts']\n",
    "    trim_loss = width_s - sum([finish[f][\"width\"] * cuts_dict[f] for f in filtered_finish_list.keys()])\n",
    "    trim_loss_pct = trim_loss/width_s * 100\n",
    "    if trim_loss_pct <= 4.00:\n",
    "        print(f\"***** take pattern {pattern} *****\")\n",
    "        filtered_trimloss_pattern.append(pattern)\n",
    "        print(f\"trim loss: {trim_loss},trim loss percent:{trim_loss_pct}\") "
   ]
  },
  {
   "cell_type": "code",
   "execution_count": 111,
   "metadata": {},
   "outputs": [
    {
     "name": "stdout",
     "output_type": "stream",
     "text": [
      "Phase 3: Cut Patterns.\n",
      "Take (1) pattern: {'F1': 0, 'F2': 3, 'F3': 2, 'F4': 1, 'F5': 0, 'F9': 4}\n",
      "Take (1) pattern: {'F1': 0, 'F2': 6, 'F3': 0, 'F4': 0, 'F5': 2, 'F9': 0}\n",
      "Take (1) pattern: {'F1': 0, 'F2': 1, 'F3': 2, 'F4': 7, 'F5': 1, 'F9': 1}\n"
     ]
    }
   ],
   "source": [
    "# Phrase 3: Cut Pattern to map all pattern to demand requirements\n",
    "print(\"Phase 3: Cut Patterns\", end=\".\")\n",
    "print()\n",
    "solution, total_cost = cut_slice_patterns(filtered_finish_list, filtered_trimloss_pattern)\n",
    "for i, s in enumerate(solution):\n",
    "    if s > 0:\n",
    "        print(f\"Take ({int(s)}) pattern: {filtered_trimloss_pattern[i]['cuts']}\")"
   ]
  },
  {
   "cell_type": "markdown",
   "metadata": {},
   "source": [
    "### >> Create Pattern with all stocks"
   ]
  },
  {
   "cell_type": "code",
   "execution_count": 112,
   "metadata": {},
   "outputs": [],
   "source": [
    "# DUALITY\n",
    "def generate_pattern_dual_w(stocks, finish, patterns, MIN_MARGIN):\n",
    "    prob = LpProblem(\"GeneratePatternDual\", LpMinimize)\n",
    "\n",
    "    # Sets\n",
    "    F = list(finish.keys())\n",
    "    P = list(range(len(patterns)))\n",
    "\n",
    "    # Parameters\n",
    "    s = {p: patterns[p][\"stock\"] for p in range(len(patterns))}\n",
    "    c = {p: stocks[s[p]][\"weight\"]/stocks[s[p]][\"weight\"] for p in range(len(patterns))}\n",
    "    \n",
    "    a = {(f, p): patterns[p][\"cuts\"][f] for p in P for f in F}\n",
    "    demand_finish = {f: finish[f][\"need_cut\"] for f in F}\n",
    "\n",
    "    # Decision variables #relaxed integrality\n",
    "    x = {p: LpVariable(f\"x_{p}\", 0, None, cat=\"Continuous\") for p in P}\n",
    "\n",
    "    # OBJECTIVE function minimize stock used:\n",
    "    prob += lpSum(x[p] for p in P), \"Cost\"\n",
    "\n",
    "    # Constraints\n",
    "    for f in F:\n",
    "        prob += lpSum(a[f, p] * x[p] * c[p] for p in P) >= demand_finish[f], f\"Demand_{f}\"\n",
    "\n",
    "    # Solve the problem\n",
    "    prob.solve(PULP_CBC_CMD(msg=False, options=['--solver', 'highs']))\n",
    "\n",
    "    # Extract dual values\n",
    "    dual_values = {f: prob.constraints[f\"Demand_{f}\"].pi for f in F}\n",
    "\n",
    "    ap_upper_bound = {f: max([patterns[i]['cuts'][f] for i,_ in enumerate(patterns)]) for f in finish.keys()}\n",
    "    demand_duals = {f: dual_values[f] for f in F}\n",
    "\n",
    "    marginal_values = {}\n",
    "    pattern = {}\n",
    "    for s in stocks.keys():\n",
    "        marginal_values[s], pattern[s] = new_pattern_problem(\n",
    "            finish, stocks[s][\"width\"], ap_upper_bound, demand_duals,MIN_MARGIN\n",
    "        )\n",
    "\n",
    "    s = max(marginal_values, key=marginal_values.get)\n",
    "    new_pattern = {\"stock\": s, \"cuts\": pattern[s]}\n",
    "    return new_pattern"
   ]
  },
  {
   "cell_type": "code",
   "execution_count": 113,
   "metadata": {},
   "outputs": [
    {
     "name": "stdout",
     "output_type": "stream",
     "text": [
      "No feasible pattern was found for Stock S3 and FG F6\n",
      "No feasible pattern was found for Stock S3 and FG F7\n",
      "No feasible pattern was found for Stock S3 and FG F8\n",
      "number patterns: 18\n"
     ]
    }
   ],
   "source": [
    "patterns = make_naive_patterns(high_stock_list, finish, MIN_MARGIN)\n",
    "print(f\"number patterns: {len(patterns)}\")"
   ]
  },
  {
   "cell_type": "code",
   "execution_count": 114,
   "metadata": {},
   "outputs": [
    {
     "name": "stdout",
     "output_type": "stream",
     "text": [
      "Phase 1: Pattern Generation.......\n",
      "len sum patterns :24\n",
      "\n"
     ]
    }
   ],
   "source": [
    "# Phase 1: Generate patterns using dual method\n",
    "print(\"Phase 1: Pattern Generation\", end=\".\")\n",
    "new_pattern = generate_pattern_dual_w(high_stock_list, finish, patterns, MIN_MARGIN)\n",
    "\n",
    "while new_pattern not in patterns:\n",
    "    patterns.append(new_pattern)\n",
    "    new_pattern = generate_pattern_dual_w(high_stock_list, finish, patterns, MIN_MARGIN)\n",
    "    print(end=\".\")\n",
    "print()\n",
    "print(f'len sum patterns : {len(patterns)}')\n",
    "print()"
   ]
  },
  {
   "cell_type": "code",
   "execution_count": 115,
   "metadata": {},
   "outputs": [
    {
     "name": "stdout",
     "output_type": "stream",
     "text": [
      "Phase 2: Filter Patterns:\n",
      "***** take pattern {'stock': 'S1', 'cuts': {'F1': 1, 'F2': 1, 'F3': 0, 'F4': 7, 'F5': 2, 'F6': 0, 'F7': 0, 'F8': 0, 'F9': 4}} *****\n",
      "trimloss: 13,trim loss percent:1.0664479081214109\n",
      "***** take pattern {'stock': 'S1', 'cuts': {'F1': 1, 'F2': 2, 'F3': 5, 'F4': 0, 'F5': 0, 'F6': 0, 'F7': 0, 'F8': 0, 'F9': 0}} *****\n",
      "trimloss: 10,trim loss percent:0.8203445447087777\n",
      "***** take pattern {'stock': 'S1', 'cuts': {'F1': 1, 'F2': 6, 'F3': 0, 'F4': 1, 'F5': 0, 'F6': 0, 'F7': 0, 'F8': 0, 'F9': 0}} *****\n",
      "trimloss: 34,trim loss percent:2.7891714520098443\n",
      "***** take pattern {'stock': 'S1', 'cuts': {'F1': 1, 'F2': 1, 'F3': 0, 'F4': 7, 'F5': 2, 'F6': 0, 'F7': 0, 'F8': 0, 'F9': 4}} *****\n",
      "trimloss: 13,trim loss percent:1.0664479081214109\n",
      "***** take pattern {'stock': 'S1', 'cuts': {'F1': 1, 'F2': 2, 'F3': 5, 'F4': 0, 'F5': 0, 'F6': 0, 'F7': 0, 'F8': 0, 'F9': 0}} *****\n",
      "trimloss: 10,trim loss percent:0.8203445447087777\n",
      "***** take pattern {'stock': 'S1', 'cuts': {'F1': 1, 'F2': 6, 'F3': 0, 'F4': 1, 'F5': 0, 'F6': 0, 'F7': 0, 'F8': 0, 'F9': 0}} *****\n",
      "trimloss: 34,trim loss percent:2.7891714520098443\n"
     ]
    }
   ],
   "source": [
    "# Phrase 2: Filter Patterns having trim loss as requirements\n",
    "print(\"Phase 2: Filter Patterns\", end=\":\")\n",
    "print()\n",
    "unique_stocks = {pattern['stock'] for pattern in patterns}\n",
    "filtered_trimloss_pattern = []\n",
    "for s in unique_stocks:\n",
    "    width_s = high_stock_list[s][\"width\"] \n",
    "    for pattern in patterns:\n",
    "        cuts_dict= pattern['cuts']\n",
    "        trim_loss = width_s - sum([finish[f][\"width\"] * cuts_dict[f] for f in filtered_finish_list.keys()])\n",
    "        trim_loss_pct = trim_loss/width_s*100\n",
    "        if 0 < trim_loss_pct <= 4.00:\n",
    "            print(f\"***** take pattern {pattern} *****\")\n",
    "            filtered_trimloss_pattern.append(pattern)\n",
    "            print(f\"trimloss: {trim_loss},trim loss percent:{trim_loss_pct}\") "
   ]
  },
  {
   "cell_type": "code",
   "execution_count": null,
   "metadata": {},
   "outputs": [],
   "source": [
    "# CUT KNOWN WEIGHT PATTERNS\n",
    "def cut_weight_patterns(stocks, finish, patterns):\n",
    "    # Parameters\n",
    "    c = {p: stocks[s[p]][\"weight\"]/stocks[s[p]][\"width\"] for p in range(len(patterns))}\n",
    "\n",
    "    # Create a LP minimization problem\n",
    "    prob = LpProblem(\"PatternCuttingProblem\", LpMinimize)\n",
    "\n",
    "    # Define variables\n",
    "    x = {p: LpVariable(f\"x_{p}\", lowBound=0, cat='Integer') for p in range(len(patterns))}\n",
    "\n",
    "    # Objective function: minimize total stock use\n",
    "    prob += lpSum(x[p] for p in range(len(patterns))), \"TotalCost\"\n",
    "\n",
    "    # Constraints: meet demand for each finished part\n",
    "    for f in finish:\n",
    "        prob += lpSum(patterns[p]['cuts'][f] * finish[f]['width'] * x[p] for p in range(len(patterns))) >= finish[f]['need_cut'], f\"DemandWeight{f}\"\n",
    "\n",
    "    # Solve the problem\n",
    "    prob.solve()\n",
    "\n",
    "    # Extract results\n",
    "    solution = [x[p].varValue for p in range(len(patterns))]\n",
    "    total_cost = sum(1 * solution[p] for p in range(len(patterns)))\n",
    "\n",
    "    return solution, total_cost"
   ]
  }
 ],
 "metadata": {
  "kernelspec": {
   "display_name": "optima",
   "language": "python",
   "name": "python3"
  },
  "language_info": {
   "codemirror_mode": {
    "name": "ipython",
    "version": 3
   },
   "file_extension": ".py",
   "mimetype": "text/x-python",
   "name": "python",
   "nbconvert_exporter": "python",
   "pygments_lexer": "ipython3",
   "version": "3.12.2"
  }
 },
 "nbformat": 4,
 "nbformat_minor": 2
}
