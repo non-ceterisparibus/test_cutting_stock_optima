{
 "cells": [
  {
   "cell_type": "code",
   "execution_count": 1,
   "metadata": {},
   "outputs": [],
   "source": [
    "# DELAYED COLUMN GENERATION"
   ]
  },
  {
   "cell_type": "code",
   "execution_count": null,
   "metadata": {},
   "outputs": [],
   "source": [
    "Optimal cutting using known patterns"
   ]
  },
  {
   "cell_type": "code",
   "execution_count": 1,
   "metadata": {},
   "outputs": [],
   "source": [
    "stocks = {\n",
    "    \"A\": {\"length\": 5, \"cost\": 6},\n",
    "    \"B\": {\"length\": 6, \"cost\": 7},\n",
    "    \"C\": {\"length\": 9, \"cost\": 10},\n",
    "}\n",
    "\n",
    "finish = {\n",
    "    \"S\": {\"length\": 2, \"demand\": 20},\n",
    "    \"M\": {\"length\": 3, \"demand\": 10},\n",
    "    \"L\": {\"length\": 4, \"demand\": 20},\n",
    "}"
   ]
  },
  {
   "cell_type": "code",
   "execution_count": 2,
   "metadata": {},
   "outputs": [
    {
     "data": {
      "text/plain": [
       "[{'stock': 'A', 'cuts': {'S': 2, 'M': 0, 'L': 0}},\n",
       " {'stock': 'B', 'cuts': {'S': 3, 'M': 0, 'L': 0}},\n",
       " {'stock': 'C', 'cuts': {'S': 4, 'M': 0, 'L': 0}},\n",
       " {'stock': 'A', 'cuts': {'S': 0, 'M': 1, 'L': 0}},\n",
       " {'stock': 'B', 'cuts': {'S': 0, 'M': 2, 'L': 0}},\n",
       " {'stock': 'C', 'cuts': {'S': 0, 'M': 3, 'L': 0}},\n",
       " {'stock': 'A', 'cuts': {'S': 0, 'M': 0, 'L': 1}},\n",
       " {'stock': 'B', 'cuts': {'S': 0, 'M': 0, 'L': 1}},\n",
       " {'stock': 'C', 'cuts': {'S': 0, 'M': 0, 'L': 2}}]"
      ]
     },
     "metadata": {},
     "output_type": "display_data"
    }
   ],
   "source": [
    "def make_naive_patterns(stocks, finish):\n",
    "    \"\"\"\n",
    "    Generates patterns of feasible cuts from stock lengths to meet specified finish lengths.\n",
    "\n",
    "    Parameters:\n",
    "    stocks (dict): A dictionary where keys are stock identifiers and values are dictionaries\n",
    "                   with key 'length' representing the length of each stock.\n",
    "\n",
    "    finish (dict): A dictionary where keys are finish identifiers and values are dictionaries\n",
    "                   with key 'length' representing the required finish lengths.\n",
    "\n",
    "    Returns:\n",
    "    patterns (list): A list of dictionaries, where each dictionary represents a pattern of cuts.\n",
    "                   Each pattern dictionary contains 'stock' (the stock identifier) and 'cuts'\n",
    "                   (a dictionary where keys are finish identifiers and the value is the number\n",
    "                   of cuts from the stock for each finish).\n",
    "    \"\"\"\n",
    "\n",
    "    patterns = []\n",
    "    for f in finish:\n",
    "        feasible = False\n",
    "        for s in stocks:\n",
    "            # max number of f that fit on s\n",
    "            num_cuts = int(stocks[s][\"length\"] / finish[f][\"length\"])\n",
    "\n",
    "            # make pattern and add to list of patterns\n",
    "            if num_cuts > 0:\n",
    "                feasible = True\n",
    "                cuts_dict = {key: 0 for key in finish.keys()}\n",
    "                cuts_dict[f] = num_cuts\n",
    "                patterns.append({\"stock\": s, \"cuts\": cuts_dict})\n",
    "\n",
    "        if not feasible:\n",
    "            print(f\"No feasible pattern was found for {f}\")\n",
    "            return []\n",
    "\n",
    "    return patterns\n",
    "\n",
    "\n",
    "patterns = make_naive_patterns(stocks, finish)\n",
    "display(patterns)"
   ]
  },
  {
   "cell_type": "code",
   "execution_count": 3,
   "metadata": {},
   "outputs": [
    {
     "ename": "ModuleNotFoundError",
     "evalue": "No module named 'cvxpy'",
     "output_type": "error",
     "traceback": [
      "\u001b[1;31m---------------------------------------------------------------------------\u001b[0m",
      "\u001b[1;31mModuleNotFoundError\u001b[0m                       Traceback (most recent call last)",
      "Cell \u001b[1;32mIn[3], line 1\u001b[0m\n\u001b[1;32m----> 1\u001b[0m \u001b[38;5;28;01mimport\u001b[39;00m \u001b[38;5;21;01mcvxpy\u001b[39;00m \u001b[38;5;28;01mas\u001b[39;00m \u001b[38;5;21;01mcp\u001b[39;00m\n\u001b[0;32m      3\u001b[0m \u001b[38;5;28;01mdef\u001b[39;00m \u001b[38;5;21mcut_patterns_cv\u001b[39m(stocks, finish, patterns):\n\u001b[0;32m      4\u001b[0m     \u001b[38;5;66;03m# Define sets\u001b[39;00m\n\u001b[0;32m      5\u001b[0m     F \u001b[38;5;241m=\u001b[39m \u001b[38;5;28mlist\u001b[39m(finish\u001b[38;5;241m.\u001b[39mkeys())\n",
      "\u001b[1;31mModuleNotFoundError\u001b[0m: No module named 'cvxpy'"
     ]
    }
   ],
   "source": [
    "import cvxpy as cp\n",
    "\n",
    "def cut_patterns_cv(stocks, finish, patterns):\n",
    "    # Define sets\n",
    "    F = list(finish.keys())\n",
    "    P = list(range(len(patterns)))\n",
    "\n",
    "    # Parameters\n",
    "    c = [stocks[patterns[p][\"stock\"]][\"cost\"] for p in P]\n",
    "    a = {(f, p): patterns[p][\"cuts\"].get(f, 0) for p in P for f in F}\n",
    "    demand_finish = {f: finish[f][\"demand\"] for f in F}\n",
    "\n",
    "    # Variables\n",
    "    x = cp.Variable(len(P), integer=True, nonneg=True)\n",
    "\n",
    "    # Objective function: minimize cost\n",
    "    cost = cp.sum([c[p] * x[p] for p in P])\n",
    "\n",
    "    # Constraints\n",
    "    constraints = []\n",
    "    for f in F:\n",
    "        constraints.append(cp.sum([a[f, p] * x[p] for p in P]) >= demand_finish[f])\n",
    "\n",
    "    # Formulate the problem\n",
    "    problem = cp.Problem(cp.Minimize(cost), constraints)\n",
    "\n",
    "    # Solve the problem\n",
    "    problem.solve(solver=cp.CPLEX)\n",
    "\n",
    "    return x.value, problem.value\n",
    "\n",
    "# Example usage:\n",
    "x, cost = cut_patterns_cv(stocks, finish, patterns)\n",
    "print(f\"Optimal pattern choice: {x}\")\n",
    "print(f\"Minimum cost: {cost}\")"
   ]
  },
  {
   "cell_type": "code",
   "execution_count": 4,
   "metadata": {},
   "outputs": [
    {
     "name": "stdout",
     "output_type": "stream",
     "text": [
      "Optimal pattern choice: [1.0, 6.0, 0.0, 0.0, 2.0, 2.0, 0.0, 0.0, 10.0]\n",
      "Minimum cost: 182.0\n"
     ]
    }
   ],
   "source": [
    "from ortools.linear_solver import pywraplp\n",
    "\n",
    "def cut_patterns_ortools(stocks, finish, patterns):\n",
    "    # Initialize the solver\n",
    "    solver = pywraplp.Solver.CreateSolver('SCIP')\n",
    "    if not solver:\n",
    "        raise Exception('Solver not created.')\n",
    "\n",
    "    # Define sets\n",
    "    F = list(finish.keys())\n",
    "    P = list(range(len(patterns)))\n",
    "\n",
    "    # Parameters\n",
    "    c = [stocks[patterns[p][\"stock\"]][\"cost\"] for p in P]\n",
    "    a = {(f, p): patterns[p][\"cuts\"].get(f, 0) for p in P for f in F}\n",
    "    demand_finish = {f: finish[f][\"demand\"] for f in F}\n",
    "\n",
    "    # Variables\n",
    "    x = [solver.IntVar(0, solver.infinity(), f'x[{p}]') for p in P]\n",
    "\n",
    "    # Objective function: minimize cost\n",
    "    objective = solver.Objective()\n",
    "    for p in P:\n",
    "        objective.SetCoefficient(x[p], c[p])\n",
    "    objective.SetMinimization()\n",
    "\n",
    "    # Constraints\n",
    "    for f in F:\n",
    "        constraint = solver.Constraint(demand_finish[f], solver.infinity())\n",
    "        for p in P:\n",
    "            constraint.SetCoefficient(x[p], a[f, p])\n",
    "\n",
    "    # Solve the problem\n",
    "    status = solver.Solve()\n",
    "\n",
    "    if status != pywraplp.Solver.OPTIMAL:\n",
    "        raise Exception('The problem does not have an optimal solution.')\n",
    "\n",
    "    # Get the results\n",
    "    x_values = [x[p].solution_value() for p in P]\n",
    "    cost = solver.Objective().Value()\n",
    "\n",
    "    return x_values, cost\n",
    "\n",
    "# Example usage:\n",
    "x, cost = cut_patterns_ortools(stocks, finish, patterns)\n",
    "print(f\"Optimal pattern choice: {x}\")\n",
    "print(f\"Minimum cost: {cost}\")\n"
   ]
  }
 ],
 "metadata": {
  "kernelspec": {
   "display_name": "optima",
   "language": "python",
   "name": "python3"
  },
  "language_info": {
   "codemirror_mode": {
    "name": "ipython",
    "version": 3
   },
   "file_extension": ".py",
   "mimetype": "text/x-python",
   "name": "python",
   "nbconvert_exporter": "python",
   "pygments_lexer": "ipython3",
   "version": "3.12.2"
  }
 },
 "nbformat": 4,
 "nbformat_minor": 2
}
