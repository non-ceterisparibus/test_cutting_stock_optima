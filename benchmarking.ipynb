{
 "cells": [
  {
   "cell_type": "markdown",
   "metadata": {},
   "source": [
    "# BENCHMARKING"
   ]
  },
  {
   "cell_type": "code",
   "execution_count": 2,
   "metadata": {},
   "outputs": [],
   "source": [
    "import pandas as pd \n",
    "import numpy as np\n",
    "import warnings\n",
    "import time\n",
    "import math\n",
    "\n",
    "import logging\n",
    "from pythonjsonlogger import jsonlogger"
   ]
  },
  {
   "cell_type": "markdown",
   "metadata": {},
   "source": [
    "### Setup Logging"
   ]
  },
  {
   "cell_type": "code",
   "execution_count": 2,
   "metadata": {},
   "outputs": [],
   "source": [
    "import logging\n",
    "import logging.config\n",
    "from codes.logging_model import custom_log_record_factory, CustomJsonFormatter\n",
    "import datetime\n",
    "\n",
    "today = datetime.datetime.now().strftime(\"%Y-%m-%d\")\n",
    "\n",
    "# Configure logging\n",
    "logging.basicConfig(level=logging.DEBUG)\n",
    "logger = logging.getLogger(__name__)\n",
    "\n",
    "# Create a file handler\n",
    "file_handler = logging.FileHandler(f'model_logs{today}.json')\n",
    "file_handler.setLevel(logging.DEBUG)\n",
    "\n",
    "# Create and set custom formatter\n",
    "formatter = CustomJsonFormatter('%(asctime)s %(name)s %(levelname)s %(message)s %(custom_field)s')\n",
    "# formatter = jsonlogger.JsonFormatter()\n",
    "file_handler.setFormatter(formatter)\n",
    "\n",
    "# Add the handler to the logger\n",
    "logger.addHandler(file_handler)"
   ]
  },
  {
   "cell_type": "markdown",
   "metadata": {},
   "source": [
    "## Data Processing"
   ]
  },
  {
   "cell_type": "code",
   "execution_count": 4,
   "metadata": {},
   "outputs": [
    {
     "name": "stdout",
     "output_type": "stream",
     "text": [
      "MIN_MARGIN:6\n",
      "BOUND_KEY:limited, BOUND_VALUE:None\n"
     ]
    }
   ],
   "source": [
    "## PARAMETER - CASE 0\n",
    "PARAMS = {\"warehouse\": \"HSC\"\n",
    "          ,\"spec_name\": \"JSH270C-PO\" # yeu cau chuan hoa du lieu OP - PO\n",
    "          ,\"thickness\": 1.6\n",
    "          ,\"maker\" : \"CSVC\"\n",
    "          ,\"stock_ratio\": { #get from app \n",
    "                    \"limited\": None\n",
    "                    # \"default\": 2\n",
    "                    # \"user_setting\": 4\n",
    "                }\n",
    "        #   ,\"forecast_scenario\": median\n",
    "          }\n",
    "\n",
    "margin_dict = { \"HSC\":\n",
    "    {#save margin_dict in azure env, margin dictionary by warehouse\n",
    "    \"thickness_2.6\": {\n",
    "        \"thickness\": 2.6,\n",
    "        \"margin\": 10\n",
    "    },\n",
    "    \"thickness_2\": {\n",
    "        \"thickness\": 2,\n",
    "        \"margin\": 8\n",
    "    },\n",
    "    \"thickness_1.6\": {\n",
    "        \"thickness\": 1.6,\n",
    "        \"margin\": 6\n",
    "    }\n",
    "    },\n",
    "    \"NQS\":\n",
    "    {#save margin_dict in azure env, margin dictionary by warehouse\n",
    "    \"thickness_2.6\": {\n",
    "        \"thickness\": 2.6,\n",
    "        \"margin\": 10\n",
    "    },\n",
    "    \"thickness_2\": {\n",
    "        \"thickness\": 2,\n",
    "        \"margin\": 8\n",
    "    },\n",
    "    \"thickness_1.6\": {\n",
    "        \"thickness\": 1.6,\n",
    "        \"margin\": 6\n",
    "    }\n",
    "    }\n",
    "}\n",
    "\n",
    "# DOMAIN KNOWLEDGE:\n",
    "# - User usually overcut current order_quantity (30 -50%) default on model\n",
    "# - Users want to cut all PO qty in one stock cut ( increase boundary to max 3 months forecast)\n",
    "\n",
    "# GET ALL PARAMS\n",
    "MIN_MARGIN = margin_dict[PARAMS[\"warehouse\"]][f\"thickness_{PARAMS[\"thickness\"]}\"][\"margin\"]\n",
    "print(f\"MIN_MARGIN:{MIN_MARGIN}\")\n",
    "\n",
    "BOUND_KEY = next(iter(PARAMS['stock_ratio']))\n",
    "BOUND_VALUE = PARAMS['stock_ratio'][BOUND_KEY]\n",
    "print(f\"BOUND_KEY:{BOUND_KEY}, BOUND_VALUE:{BOUND_VALUE}\")\n",
    "LIMIT_BOUND_KEY, LIMIT_BOUND_VALUE =  \"limited\", None"
   ]
  },
  {
   "cell_type": "code",
   "execution_count": 4,
   "metadata": {},
   "outputs": [
    {
     "name": "stderr",
     "output_type": "stream",
     "text": [
      "INFO:__main__:Model loading\n"
     ]
    }
   ],
   "source": [
    "logger.info('Model loading', extra={'model_params': PARAMS})"
   ]
  },
  {
   "cell_type": "code",
   "execution_count": 5,
   "metadata": {},
   "outputs": [],
   "source": [
    "from typing import Dict, Any\n",
    "\n",
    "def check_finish_weight_per_stock(weight_s: float, width_s: float, finish: Dict[str, Dict[str, Any]], BOUND_KEY: str) -> Dict[str, bool]:\n",
    "    \"\"\"\n",
    "    DOMAIN KNOWLEDGE:\n",
    "    - As upper_demand is slightly/or significant higher than need_cut, \n",
    "    - We can check to pick stock that have weight per slice cut < upper_demand\n",
    "    -  So that, at least, we can cut 1 slice of the FG with that kind of stock\n",
    "\n",
    "    PICK STOCK WITH ALL/ALMOST TRUE VALUE (SUM TRUE LARGEST)\n",
    "    \"\"\"\n",
    "    wu = weight_s / width_s # MC WEIGHT PER UNIT\n",
    "    weight_f = {f: finish[f][\"width\"]*wu for f in finish.keys()} # dict of weight FG on the chosen stock\n",
    "    f_upper_demand = {f: finish[f][f\"upper_bound_{BOUND_KEY}\"] for f in finish.keys()} # dict of upperbound demand FG on the chosen stock\n",
    "\n",
    "    check_f ={f: weight_f[f] < f_upper_demand[f] for f in finish.keys()} # dict of Yes/No \n",
    "\n",
    "    return check_f"
   ]
  },
  {
   "cell_type": "code",
   "execution_count": 6,
   "metadata": {},
   "outputs": [],
   "source": [
    "from codes.process_df import filter_by_params\n",
    "file_path = \"data/test_mc_df.xlsx\"\n",
    "stock_key, st_value_columns = \"inventory_id\", ['receiving_date','status',\"width\", \"weight\"]\n",
    "stock_df = filter_by_params(file_path, PARAMS)\n",
    "\n",
    "file_path = \"data/test_finish_df_Jul2022.xlsx\"\n",
    "finish_key, fn_value_columns = \"order_id\", [\"width\", \"need_cut\", f\"upper_bound_{BOUND_KEY}\", \"fc1\", \"fc2\", \"fc3\"]\n",
    "finish_df = filter_by_params(file_path,PARAMS)"
   ]
  },
  {
   "cell_type": "markdown",
   "metadata": {},
   "source": [
    "#### DOMAIN KNOWLEDGE:\n",
    "\n",
    "Chon stock trim loss thap, overcut thap, weight_loss\n",
    "\n",
    "=> 0 loc finish, stock df, stop khi ko co need cut <0 , be hon lower bound\n",
    "+ 1 dkien de vao lai pool optimize\n",
    "- 1.1 ko co need cut lon\n",
    "- 1.2 ko co stock de cat\n",
    "+  2 dem di optimize\n",
    "- 2.1 add them finish de thu optimize\n",
    "- 2.2 tang muc cat du (detect o phan weight constraint - neu constraint << cat 1 dai, width qua nho)\n",
    "=> 0 update lai vao finish, stock df"
   ]
  },
  {
   "cell_type": "code",
   "execution_count": 7,
   "metadata": {},
   "outputs": [
    {
     "name": "stdout",
     "output_type": "stream",
     "text": [
      "No.of PO fin: 4, Need cut qty: 10100\n",
      "No.of available stock: 2\n"
     ]
    }
   ],
   "source": [
    "from codes.process_df import filter_stock_df_to_dict, filter_finish_df_to_dict, check_need_cut_qty\n",
    "\n",
    "finish = filter_finish_df_to_dict(finish_df, finish_key, fn_value_columns, BOUND_VALUE)\n",
    "sum_of_total_need_cuts = check_need_cut_qty(finish_df)\n",
    "print(f\"No.of PO fin: {len(finish)}, Need-cut qty: {sum_of_total_need_cuts}\")\n",
    "      \n",
    "# =================================================================\n",
    "# CASE 1:\n",
    "# TAKE NORMAL STOCK - NOT REWIND/ SEMI\n",
    "# - DOMAIN KNOWLEDGE:\n",
    "# # pick ~ stock co weight > need cut am, so luong stock ~= finish\n",
    "stock_df = stock_df[~stock_df['status'].isin(['R:REWIND'\n",
    "                            ,'Z:SEMI MCOIL'\n",
    "                            ,'S:SEMI FINISHED'])]\n",
    "\n",
    "stocks = filter_stock_df_to_dict(stock_df, stock_key, st_value_columns, sum_of_total_need_cuts)\n",
    "print(f\"No.of available stocks: {len(stocks)}\")\n",
    "\n",
    "# ================================================================\n",
    "# # CASE 2\n",
    "# # TAKE REWIND, SEMI TO CUT FIRST \n",
    "# stock_df = stock_df[stock_df['status'].isin(['R:REWIND'\n",
    "#                             ,'Z:SEMI MCOIL'\n",
    "#                             ,'S:SEMI FINISHED'])]\n",
    "\n",
    "# stocks = filter_stock_df_to_dict(stock_df, stock_key, st_value_columns, sum_of_total_need_cuts)\n",
    "# print(\"No.of available stock: \")\n",
    "# print(len(stocks))"
   ]
  },
  {
   "cell_type": "code",
   "execution_count": 8,
   "metadata": {},
   "outputs": [
    {
     "name": "stdout",
     "output_type": "stream",
     "text": [
      "{'F13': True, 'F12': True, 'F11': True, 'F14': True}\n",
      "{'F13': True, 'F12': True, 'F11': True, 'F14': True}\n"
     ]
    }
   ],
   "source": [
    "for s in stocks.keys():\n",
    "    check_f = check_finish_weight_per_stock(stocks[s][\"weight\"],stocks[s][\"width\"], finish, BOUND_KEY)\n",
    "    print(check_f)"
   ]
  },
  {
   "cell_type": "code",
   "execution_count": null,
   "metadata": {},
   "outputs": [],
   "source": [
    "logger.info('Check stock and finish', extra={'temp_results': check_f})"
   ]
  },
  {
   "cell_type": "markdown",
   "metadata": {},
   "source": [
    "## Optima - Base Case AMPL"
   ]
  },
  {
   "cell_type": "code",
   "execution_count": 10,
   "metadata": {},
   "outputs": [],
   "source": [
    "from codes.create_patterns import *\n",
    "naive_patterns = make_patterns_by_weight_width(stocks, finish, BOUND_KEY, MIN_MARGIN)\n",
    "# display(naive_patterns)"
   ]
  },
  {
   "cell_type": "code",
   "execution_count": null,
   "metadata": {},
   "outputs": [],
   "source": [
    "from codes.optima_sol import solve_cutting_stock_ampl\n",
    "\n",
    "for s in stocks.keys():\n",
    "    opt_patterns = solve_cutting_stock_ampl(stocks[s][\"width\"],stocks[s][\"weight\"],finish, naive_patterns,MIN_MARGIN,BOUND_KEY)\n",
    "    if len(opt_patterns) == 0:\n",
    "        print(f\"No optimal solution with stock {s}\")\n",
    "        print(\"=================================\")\n",
    "    else:\n",
    "        print(f\"Solution for stock {s}\")\n",
    "        print(opt_patterns)\n",
    "        trim_loss = stocks[s][\"width\"] - sum([finish[f][\"width\"]*opt_patterns[f] for f in finish.keys()])\n",
    "        weight_loss = trim_loss * stocks[s][\"weight\"]/stocks[s][\"width\"]\n",
    "        print(f\"stock width: {stocks[s][\"width\"]},trim loss :{trim_loss}, weight loss: {weight_loss}\")"
   ]
  },
  {
   "cell_type": "code",
   "execution_count": null,
   "metadata": {},
   "outputs": [],
   "source": [
    "# from codes.errors_handling import run_with_timeout\n",
    "SOLVER_MILO = \"highs\"\n",
    "SOLVER_MINLO = \"ipopt\"\n",
    "\n",
    "from amplpy import AMPL, ampl_notebook\n",
    "from codes.optima_sol import cut_stock_by_patterns\n",
    "\n",
    "ampl = ampl_notebook(\n",
    "    modules=[\"coin\", \"highs\"],  # modules to install\n",
    "    license_uuid=\"default\",  # license to use\n",
    ")  # instantiate AMPL object and register magics\n",
    "\n",
    "for s in stocks.keys():\n",
    "    # create pattern by stocks\n",
    "    patterns = []\n",
    "    min_cuts_dict, max_cuts_dict  = ap_stock_bound(naive_patterns,finish,s)\n",
    "    print(f\"Start create combination for stock {s}\")\n",
    "    generate_cut_combinations_with_timeout(s, min_cuts_dict, max_cuts_dict, patterns, TIMEOUT = 40)\n",
    "    # patterns = run_with_timeout(generate_cut_combinations, args=(s, min_cuts_dict, max_cuts_dict, patterns), timeout=timeout_limit)\n",
    "    if patterns is None:\n",
    "        print(\"Null value\")\n",
    "    else:\n",
    "        opt_patterns = cut_stock_by_patterns(\n",
    "                                     stocks[s][\"width\"]\n",
    "                                     ,stocks[s][\"weight\"] \n",
    "                                     ,finish \n",
    "                                     ,patterns\n",
    "                                     ,BOUND_KEY\n",
    "                                     ,MIN_MARGIN\n",
    "                                     )\n",
    "\n",
    "        if len(opt_patterns) == 0:\n",
    "            print(f\"No optimal solution with stock {s}\")\n",
    "            print(\"=================================\")\n",
    "        else:\n",
    "            print(f\"Solution for stock {s}\")\n",
    "            for p in opt_patterns:\n",
    "                print(f\"take pattern {p}\")\n",
    "                print(\"*****\")\n",
    "                cuts_dict= patterns[p]['cuts']\n",
    "                print(cuts_dict)\n",
    "                trim_loss = stocks[s][\"width\"] - sum([finish[f][\"width\"]*cuts_dict[f] for f in finish.keys()])\n",
    "                weight_loss = trim_loss * stocks[s][\"weight\"]/stocks[s][\"width\"]\n",
    "                print(f\"trim loss :{trim_loss}, weight loss: {weight_loss}\")\n",
    "            print(\"=================================\")"
   ]
  },
  {
   "cell_type": "markdown",
   "metadata": {},
   "source": [
    "## Optima - Base Case ORTOOLS"
   ]
  },
  {
   "cell_type": "code",
   "execution_count": 13,
   "metadata": {},
   "outputs": [
    {
     "name": "stdout",
     "output_type": "stream",
     "text": [
      " Use stock id S487\n",
      "Solution:\n",
      "[F13] = 1.0\n",
      "[F12] = 3.0\n",
      "[F11] = 1.0\n",
      "[F14] = 2.0\n",
      " Use stock id S496\n",
      "Solution:\n",
      "[F13] = 1.0\n",
      "[F12] = 3.0\n",
      "[F11] = 1.0\n",
      "[F14] = 2.0\n"
     ]
    }
   ],
   "source": [
    "from ortools.linear_solver import pywraplp\n",
    "from codes.optima_sol import solve_cutting_stock_ortools\n",
    "\n",
    "solution = []\n",
    "for s in stocks.keys():\n",
    "    print(f\" Use stock id {s}\")\n",
    "    solve_cutting_stock_ortools(finish,stocks[s][\"width\"], stocks[s][\"weight\"], MIN_MARGIN, BOUND_KEY, naive_patterns)\n",
    "    # solution.append({f'stock_id: {s}, trim_loss: {trim_loss},weight_loss: {weight_loss}'})"
   ]
  },
  {
   "cell_type": "markdown",
   "metadata": {},
   "source": [
    "## Optima - Base Case CXVPY"
   ]
  },
  {
   "cell_type": "code",
   "execution_count": null,
   "metadata": {},
   "outputs": [],
   "source": [
    "import cvxpy as cp\n",
    "\n",
    "def cut_patterns_cv(stocks, finish, patterns):\n",
    "    # Define sets\n",
    "    F = list(finish.keys())\n",
    "    P = list(range(len(patterns)))\n",
    "\n",
    "    # Parameters\n",
    "    c = [stocks[patterns[p][\"stock\"]][\"cost\"] for p in P]\n",
    "    a = {(f, p): patterns[p][\"cuts\"].get(f, 0) for p in P for f in F}\n",
    "    demand_finish = {f: finish[f][\"demand\"] for f in F}\n",
    "\n",
    "    # Variables\n",
    "    x = cp.Variable(len(P), integer=True, nonneg=True)\n",
    "\n",
    "    # Objective function: minimize cost\n",
    "    cost = cp.sum([c[p] * x[p] for p in P])\n",
    "\n",
    "    # Constraints\n",
    "    constraints = []\n",
    "    for f in F:\n",
    "        constraints.append(cp.sum([a[f, p] * x[p] for p in P]) >= demand_finish[f])\n",
    "\n",
    "    # Formulate the problem\n",
    "    problem = cp.Problem(cp.Minimize(cost), constraints)\n",
    "\n",
    "    # Solve the problem\n",
    "    problem.solve(solver=cp.CPLEX)\n",
    "\n",
    "    return x.value, problem.value\n",
    "\n",
    "# Example usage:\n",
    "x, cost = cut_patterns_cv(stocks, finish, patterns)\n",
    "print(f\"Optimal pattern choice: {x}\")\n",
    "print(f\"Minimum cost: {cost}\")"
   ]
  },
  {
   "cell_type": "markdown",
   "metadata": {},
   "source": [
    "## Optima - Base Case PuPL"
   ]
  },
  {
   "cell_type": "markdown",
   "metadata": {},
   "source": []
  }
 ],
 "metadata": {
  "kernelspec": {
   "display_name": "optima",
   "language": "python",
   "name": "python3"
  },
  "language_info": {
   "codemirror_mode": {
    "name": "ipython",
    "version": 3
   },
   "file_extension": ".py",
   "mimetype": "text/x-python",
   "name": "python",
   "nbconvert_exporter": "python",
   "pygments_lexer": "ipython3",
   "version": "3.12.2"
  }
 },
 "nbformat": 4,
 "nbformat_minor": 2
}
